{
 "cells": [
  {
   "cell_type": "code",
   "execution_count": 1,
   "metadata": {},
   "outputs": [],
   "source": [
    "# tf-google   pytorch-fb CNTK- microsoft   Theano-Univirstity of mill"
   ]
  },
  {
   "cell_type": "code",
   "execution_count": 2,
   "metadata": {},
   "outputs": [],
   "source": [
    "import numpy as np\n",
    "import matplotlib.pyplot as plt \n",
    "%matplotlib inline"
   ]
  },
  {
   "cell_type": "code",
   "execution_count": 3,
   "metadata": {},
   "outputs": [],
   "source": [
    "from sklearn.datasets import make_circles"
   ]
  },
  {
   "cell_type": "code",
   "execution_count": 4,
   "metadata": {},
   "outputs": [
    {
     "name": "stdout",
     "output_type": "stream",
     "text": [
      "(4000, 2) (4000,)\n"
     ]
    },
    {
     "data": {
      "image/png": "[encoded data removed]",
      "text/plain": [
       "<Figure size 432x288 with 1 Axes>"
      ]
     },
     "metadata": {
      "needs_background": "light"
     },
     "output_type": "display_data"
    }
   ],
   "source": [
    "X , y = make_circles(n_samples=4000, factor = 0.4)\n",
    "print(X.shape, y.shape)\n",
    "plt.scatter(X[:,0], X[:,1])\n",
    "plt.show()"
   ]
  },
  {
   "cell_type": "code",
   "execution_count": 5,
   "metadata": {},
   "outputs": [],
   "source": [
    "# ! pip3 install --user --upgrade tensorflow"
   ]
  },
  {
   "cell_type": "code",
   "execution_count": 6,
   "metadata": {},
   "outputs": [
    {
     "name": "stderr",
     "output_type": "stream",
     "text": [
      "Using TensorFlow backend.\n"
     ]
    }
   ],
   "source": [
    "from keras.utils import np_utils"
   ]
  },
  {
   "cell_type": "code",
   "execution_count": 7,
   "metadata": {},
   "outputs": [
    {
     "name": "stdout",
     "output_type": "stream",
     "text": [
      "(4000, 2)\n"
     ]
    }
   ],
   "source": [
    "Y = np_utils.to_categorical(y)   #[0,1][1,0]\n",
    "print(Y.shape)"
   ]
  },
  {
   "cell_type": "code",
   "execution_count": 8,
   "metadata": {},
   "outputs": [
    {
     "data": {
      "text/plain": [
       "array([1, 1, 1, 0, 0, 0, 1, 1, 0, 0], dtype=int64)"
      ]
     },
     "execution_count": 8,
     "metadata": {},
     "output_type": "execute_result"
    }
   ],
   "source": [
    "y[:10]"
   ]
  },
  {
   "cell_type": "code",
   "execution_count": 9,
   "metadata": {},
   "outputs": [
    {
     "data": {
      "text/plain": [
       "array([[0., 1.],\n",
       "       [0., 1.],\n",
       "       [0., 1.],\n",
       "       [1., 0.],\n",
       "       [1., 0.],\n",
       "       [1., 0.],\n",
       "       [0., 1.],\n",
       "       [0., 1.],\n",
       "       [1., 0.],\n",
       "       [1., 0.]], dtype=float32)"
      ]
     },
     "execution_count": 9,
     "metadata": {},
     "output_type": "execute_result"
    }
   ],
   "source": [
    "Y[:10]"
   ]
  },
  {
   "cell_type": "code",
   "execution_count": 10,
   "metadata": {},
   "outputs": [
    {
     "name": "stdout",
     "output_type": "stream",
     "text": [
      "(3000, 2) (3000, 2)\n",
      "(1000, 2) (1000, 2)\n"
     ]
    }
   ],
   "source": [
    "from sklearn.model_selection import train_test_split\n",
    "X_train, X_test, Y_train, Y_test=train_test_split(X,Y)\n",
    "print(X_train.shape, Y_train.shape)\n",
    "print(X_test.shape , Y_test.shape)"
   ]
  },
  {
   "cell_type": "code",
   "execution_count": 11,
   "metadata": {},
   "outputs": [],
   "source": [
    "from keras.models import Sequential \n",
    "from keras.layers import Dense, Activation "
   ]
  },
  {
   "cell_type": "code",
   "execution_count": 12,
   "metadata": {},
   "outputs": [
    {
     "name": "stdout",
     "output_type": "stream",
     "text": [
      "Model: \"sequential_1\"\n",
      "_________________________________________________________________\n",
      "Layer (type)                 Output Shape              Param #   \n",
      "=================================================================\n",
      "dense_1 (Dense)              (None, 5)                 15        \n",
      "_________________________________________________________________\n",
      "activation_1 (Activation)    (None, 5)                 0         \n",
      "_________________________________________________________________\n",
      "dense_2 (Dense)              (None, 2)                 12        \n",
      "_________________________________________________________________\n",
      "activation_2 (Activation)    (None, 2)                 0         \n",
      "=================================================================\n",
      "Total params: 27\n",
      "Trainable params: 27\n",
      "Non-trainable params: 0\n",
      "_________________________________________________________________\n"
     ]
    }
   ],
   "source": [
    "model = Sequential()\n",
    "model.add(Dense(5, input_shape=(2,)))  # dense number ,input features \n",
    "model.add(Activation('relu'))\n",
    "\n",
    "model.add(Dense(2))\n",
    "model.add(Activation('softmax'))\n",
    "\n",
    "model.summary()"
   ]
  },
  {
   "cell_type": "code",
   "execution_count": 13,
   "metadata": {},
   "outputs": [],
   "source": [
    "# during compilation kears code convbert into pytorch tenserflow and more "
   ]
  },
  {
   "cell_type": "code",
   "execution_count": 14,
   "metadata": {},
   "outputs": [],
   "source": [
    "model.compile(optimizer = \"adam\",\n",
    "             loss = \"binary_crossentropy\",\n",
    "             metrics = [\"accuracy\"])"
   ]
  },
  {
   "cell_type": "code",
   "execution_count": 15,
   "metadata": {},
   "outputs": [
    {
     "name": "stderr",
     "output_type": "stream",
     "text": [
      "c:\\users\\lenovo\\appdata\\local\\programs\\python\\python36\\lib\\site-packages\\ipykernel_launcher.py:5: UserWarning: The `nb_epoch` argument in `fit` has been renamed `epochs`.\n",
      "  \"\"\"\n"
     ]
    },
    {
     "name": "stdout",
     "output_type": "stream",
     "text": [
      "Train on 3000 samples, validate on 1000 samples\n",
      "Epoch 1/20\n",
      " - 1s - loss: 0.6785 - accuracy: 0.5195 - val_loss: 0.6540 - val_accuracy: 0.5540\n",
      "Epoch 2/20\n",
      " - 0s - loss: 0.6308 - accuracy: 0.6273 - val_loss: 0.6073 - val_accuracy: 0.7100\n",
      "Epoch 3/20\n",
      " - 0s - loss: 0.5775 - accuracy: 0.7937 - val_loss: 0.5490 - val_accuracy: 0.8550\n",
      "Epoch 4/20\n",
      " - 1s - loss: 0.5248 - accuracy: 0.8847 - val_loss: 0.5019 - val_accuracy: 0.8930\n",
      "Epoch 5/20\n",
      " - 1s - loss: 0.4751 - accuracy: 0.8957 - val_loss: 0.4542 - val_accuracy: 0.9100\n",
      "Epoch 6/20\n",
      " - 1s - loss: 0.4240 - accuracy: 0.9093 - val_loss: 0.4003 - val_accuracy: 0.9150\n",
      "Epoch 7/20\n",
      " - 1s - loss: 0.3706 - accuracy: 0.9190 - val_loss: 0.3470 - val_accuracy: 0.9220\n",
      "Epoch 8/20\n",
      " - 1s - loss: 0.3185 - accuracy: 0.9300 - val_loss: 0.2956 - val_accuracy: 0.9330\n",
      "Epoch 9/20\n",
      " - 1s - loss: 0.2706 - accuracy: 0.9370 - val_loss: 0.2502 - val_accuracy: 0.9440\n",
      "Epoch 10/20\n",
      " - 1s - loss: 0.2282 - accuracy: 0.9473 - val_loss: 0.2094 - val_accuracy: 0.9560\n",
      "Epoch 11/20\n",
      " - 1s - loss: 0.1915 - accuracy: 0.9577 - val_loss: 0.1748 - val_accuracy: 0.9670\n",
      "Epoch 12/20\n",
      " - 1s - loss: 0.1602 - accuracy: 0.9650 - val_loss: 0.1452 - val_accuracy: 0.9750\n",
      "Epoch 13/20\n",
      " - 1s - loss: 0.1334 - accuracy: 0.9747 - val_loss: 0.1198 - val_accuracy: 0.9800\n",
      "Epoch 14/20\n",
      " - 1s - loss: 0.1102 - accuracy: 0.9847 - val_loss: 0.0989 - val_accuracy: 0.9920\n",
      "Epoch 15/20\n",
      " - 1s - loss: 0.0904 - accuracy: 0.9933 - val_loss: 0.0814 - val_accuracy: 1.0000\n",
      "Epoch 16/20\n",
      " - 1s - loss: 0.0734 - accuracy: 1.0000 - val_loss: 0.0664 - val_accuracy: 1.0000\n",
      "Epoch 17/20\n",
      " - 1s - loss: 0.0598 - accuracy: 1.0000 - val_loss: 0.0546 - val_accuracy: 1.0000\n",
      "Epoch 18/20\n",
      " - 1s - loss: 0.0493 - accuracy: 1.0000 - val_loss: 0.0451 - val_accuracy: 1.0000\n",
      "Epoch 19/20\n",
      " - 0s - loss: 0.0410 - accuracy: 1.0000 - val_loss: 0.0378 - val_accuracy: 1.0000\n",
      "Epoch 20/20\n",
      " - 1s - loss: 0.0343 - accuracy: 1.0000 - val_loss: 0.0319 - val_accuracy: 1.0000\n"
     ]
    },
    {
     "data": {
      "text/plain": [
       "<keras.callbacks.callbacks.History at 0x1eeb8b7c2e8>"
      ]
     },
     "execution_count": 15,
     "metadata": {},
     "output_type": "execute_result"
    }
   ],
   "source": [
    "model.fit(X_train, Y_train,\n",
    "         batch_size=16 , #poer of 2\n",
    "         nb_epoch = 20, #20 times epoch \n",
    "         verbose = 2,\n",
    "         validation_data=(X_test, Y_test))\n"
   ]
  },
  {
   "cell_type": "code",
   "execution_count": 16,
   "metadata": {},
   "outputs": [],
   "source": [
    "# model.fit(X_train, Y_train,\n",
    "#          batch_size=16 , #poer of 2\n",
    "#          nb_epoch = 20, #20 times epoch \n",
    "#          verbose = 1,  #progress bar \n",
    "#          validation_data=(X_test, Y_test))\n"
   ]
  },
  {
   "cell_type": "code",
   "execution_count": 17,
   "metadata": {},
   "outputs": [],
   "source": [
    "# model.fit(X_train, Y_train,\n",
    "#          batch_size=16 , #poer of 2\n",
    "#          nb_epoch = 20, #20 times epoch \n",
    "#          verbose = 0,\n",
    "#          validation_data=(X_test, Y_test))\n"
   ]
  },
  {
   "cell_type": "code",
   "execution_count": 18,
   "metadata": {},
   "outputs": [
    {
     "data": {
      "text/plain": [
       "array([[0.00324032, 0.9967597 ],\n",
       "       [0.9937535 , 0.00624658]], dtype=float32)"
      ]
     },
     "execution_count": 18,
     "metadata": {},
     "output_type": "execute_result"
    }
   ],
   "source": [
    "model.predict(np.array([[-0.25,0.0],[-0.75,0.75]]))"
   ]
  },
  {
   "cell_type": "code",
   "execution_count": null,
   "metadata": {},
   "outputs": [],
   "source": []
  },
  {
   "cell_type": "code",
   "execution_count": null,
   "metadata": {},
   "outputs": [],
   "source": []
  },
  {
   "cell_type": "code",
   "execution_count": null,
   "metadata": {},
   "outputs": [],
   "source": []
  },
  {
   "cell_type": "code",
   "execution_count": null,
   "metadata": {},
   "outputs": [],
   "source": []
  },
  {
   "cell_type": "code",
   "execution_count": null,
   "metadata": {},
   "outputs": [],
   "source": []
  },
  {
   "cell_type": "code",
   "execution_count": null,
   "metadata": {},
   "outputs": [],
   "source": []
  },
  {
   "cell_type": "code",
   "execution_count": null,
   "metadata": {},
   "outputs": [],
   "source": []
  }
 ],
 "metadata": {
  "kernelspec": {
   "display_name": "Python 3",
   "language": "python",
   "name": "python3"
  },
  "language_info": {
   "codemirror_mode": {
    "name": "ipython",
    "version": 3
   },
   "file_extension": ".py",
   "mimetype": "text/x-python",
   "name": "python",
   "nbconvert_exporter": "python",
   "pygments_lexer": "ipython3",
   "version": "3.6.6"
  }
 },
 "nbformat": 4,
 "nbformat_minor": 4
}
