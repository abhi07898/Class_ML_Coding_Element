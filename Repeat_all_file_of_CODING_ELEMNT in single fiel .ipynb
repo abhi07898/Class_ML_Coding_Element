{
 "cells": [
  {
   "cell_type": "markdown",
   "metadata": {},
   "source": [
    "# KNN Algorithm"
   ]
  },
  {
   "cell_type": "code",
   "execution_count": 1,
   "metadata": {},
   "outputs": [],
   "source": [
    "import numpy as np\n"
   ]
  },
  {
   "cell_type": "code",
   "execution_count": 3,
   "metadata": {},
   "outputs": [
    {
     "data": {
      "text/plain": [
       "2.449489742783178"
      ]
     },
     "execution_count": 3,
     "metadata": {},
     "output_type": "execute_result"
    }
   ],
   "source": [
    "a = np.asarray([1,2,3])\n",
    "b = np.asarray([2,0,4])\n",
    "\n",
    "np.sum((b-a)**2)**0.5  #l2 distance"
   ]
  },
  {
   "cell_type": "code",
   "execution_count": 4,
   "metadata": {},
   "outputs": [
    {
     "data": {
      "text/plain": [
       "4"
      ]
     },
     "execution_count": 4,
     "metadata": {},
     "output_type": "execute_result"
    }
   ],
   "source": [
    "#L1 distance \n",
    "np.sum(abs(b-a))"
   ]
  },
  {
   "cell_type": "markdown",
   "metadata": {},
   "source": [
    "Preparing Data"
   ]
  },
  {
   "cell_type": "code",
   "execution_count": 5,
   "metadata": {},
   "outputs": [],
   "source": [
    "import matplotlib.pyplot as plt\n",
    "%matplotlib inline"
   ]
  },
  {
   "cell_type": "code",
   "execution_count": 6,
   "metadata": {},
   "outputs": [
    {
     "name": "stdout",
     "output_type": "stream",
     "text": [
      "(500, 2)\n",
      "(500, 2)\n"
     ]
    }
   ],
   "source": [
    "mean1 = [1,0]\n",
    "cov1 = [[1,0.1], [0.1,2]]\n",
    "\n",
    "dist1 = np.random.multivariate_normal(mean1, cov1, 500)\n",
    "print(dist1.shape)\n",
    "\n",
    "mean2 = [4,5]\n",
    "cov2 = [[1,0.1],[0.1,2]]\n",
    "dist2 = np.random.multivariate_normal(mean2, cov2, 500)\n",
    "print(dist2.shape)"
   ]
  },
  {
   "cell_type": "code",
   "execution_count": 10,
   "metadata": {},
   "outputs": [
    {
     "data": {
      "text/plain": [
       "<matplotlib.collections.PathCollection at 0x21f65adbd30>"
      ]
     },
     "execution_count": 10,
     "metadata": {},
     "output_type": "execute_result"
    },
    {
     "data": {
      "image/png": "[encoded data removed]",
      "text/plain": [
       "<Figure size 432x288 with 1 Axes>"
      ]
     },
     "metadata": {
      "needs_background": "light"
     },
     "output_type": "display_data"
    }
   ],
   "source": [
    "plt.xlim(-5,10)\n",
    "plt.ylim(-5,10)\n",
    "plt.scatter(dist1[:,0], dist1[:,1])\n",
    "plt.scatter(dist2[:,0], dist2[:,1])"
   ]
  },
  {
   "cell_type": "code",
   "execution_count": 12,
   "metadata": {},
   "outputs": [],
   "source": [
    "data = np.zeros((1000,3))"
   ]
  },
  {
   "cell_type": "code",
   "execution_count": 14,
   "metadata": {},
   "outputs": [],
   "source": [
    "#distribution of data with dista1 and dist2\n",
    "data[:500, :2] = dist1\n",
    "data[500:, :2] = dist2\n",
    "data[500:,-1] = 1"
   ]
  },
  {
   "cell_type": "code",
   "execution_count": 15,
   "metadata": {},
   "outputs": [
    {
     "data": {
      "text/plain": [
       "(1000, 3)"
      ]
     },
     "execution_count": 15,
     "metadata": {},
     "output_type": "execute_result"
    }
   ],
   "source": [
    "data.shape"
   ]
  },
  {
   "cell_type": "code",
   "execution_count": 17,
   "metadata": {},
   "outputs": [
    {
     "data": {
      "text/plain": [
       "array([2.49262456, 2.38323333, 0.5       ])"
      ]
     },
     "execution_count": 17,
     "metadata": {},
     "output_type": "execute_result"
    }
   ],
   "source": [
    "data.mean(axis = 0)"
   ]
  },
  {
   "cell_type": "code",
   "execution_count": 18,
   "metadata": {},
   "outputs": [],
   "source": [
    "np.random.shuffle(data)"
   ]
  },
  {
   "cell_type": "code",
   "execution_count": 19,
   "metadata": {},
   "outputs": [
    {
     "data": {
      "text/plain": [
       "array([[ 3.82389919,  4.91471746,  1.        ],\n",
       "       [ 2.88509515,  4.50023686,  1.        ],\n",
       "       [ 0.71223524, -0.5018033 ,  0.        ],\n",
       "       [ 2.92468611,  3.97125029,  1.        ],\n",
       "       [ 5.54684695,  6.86573054,  1.        ],\n",
       "       [ 0.88496666, -1.7252285 ,  0.        ],\n",
       "       [ 0.75889952, -0.21154802,  0.        ],\n",
       "       [ 3.16355629, -0.21349829,  0.        ],\n",
       "       [ 1.39172226,  0.13360935,  0.        ],\n",
       "       [ 4.35754105,  4.80146857,  1.        ]])"
      ]
     },
     "execution_count": 19,
     "metadata": {},
     "output_type": "execute_result"
    }
   ],
   "source": [
    "data[:10]"
   ]
  },
  {
   "cell_type": "markdown",
   "metadata": {},
   "source": [
    "KNN Algo "
   ]
  },
  {
   "cell_type": "code",
   "execution_count": 20,
   "metadata": {},
   "outputs": [],
   "source": [
    "def distance(a,b):\n",
    "    return np.sum((b-a)**2)**0.5"
   ]
  },
  {
   "cell_type": "code",
   "execution_count": null,
   "metadata": {},
   "outputs": [],
   "source": [
    "def knn(x_train , y_train , test_point, k=7):\n",
    "    vals = []\n",
    "    m = x_train.shape[0]\n",
    "    for i in range(m):\n",
    "        d = distance(test_point, x_train[i])\n",
    "        vals.append([d,y_train[i]])\n",
    "    sorted_vals = sorted(vals, key = lambda r:r[0])\n",
    "    neighbours  = np.asarray(sorted_vals)[:k, -1]\n",
    "    \n",
    "    print(neighbours)\n",
    "    \n",
    "    freq = np.unique(neighbours,return_counts=True)\n",
    "    index = freq[1].argmax()\n",
    "    return freq[0][inde]"
   ]
  }
 ],
 "metadata": {
  "kernelspec": {
   "display_name": "Python 3",
   "language": "python",
   "name": "python3"
  },
  "language_info": {
   "codemirror_mode": {
    "name": "ipython",
    "version": 3
   },
   "file_extension": ".py",
   "mimetype": "text/x-python",
   "name": "python",
   "nbconvert_exporter": "python",
   "pygments_lexer": "ipython3",
   "version": "3.6.6"
  }
 },
 "nbformat": 4,
 "nbformat_minor": 4
}
