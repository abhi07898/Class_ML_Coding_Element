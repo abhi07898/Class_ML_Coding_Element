{
 "cells": [
  {
   "cell_type": "code",
   "execution_count": 1,
   "metadata": {},
   "outputs": [],
   "source": [
    "import numpy as np \n",
    "import pandas as pd\n",
    "import matplotlib.pyplot as plt"
   ]
  },
  {
   "cell_type": "code",
   "execution_count": 2,
   "metadata": {},
   "outputs": [],
   "source": [
    "from sklearn.datasets import load_diabetes"
   ]
  },
  {
   "cell_type": "code",
   "execution_count": 3,
   "metadata": {},
   "outputs": [],
   "source": [
    "dataset = load_diabetes()"
   ]
  },
  {
   "cell_type": "code",
   "execution_count": 4,
   "metadata": {},
   "outputs": [
    {
     "data": {
      "text/plain": [
       "dict_keys(['data', 'target', 'DESCR', 'feature_names', 'data_filename', 'target_filename'])"
      ]
     },
     "execution_count": 4,
     "metadata": {},
     "output_type": "execute_result"
    }
   ],
   "source": [
    "dataset.keys()"
   ]
  },
  {
   "cell_type": "code",
   "execution_count": 5,
   "metadata": {},
   "outputs": [
    {
     "data": {
      "text/plain": [
       "array([[ 0.03807591,  0.05068012,  0.06169621, ..., -0.00259226,\n",
       "         0.01990842, -0.01764613],\n",
       "       [-0.00188202, -0.04464164, -0.05147406, ..., -0.03949338,\n",
       "        -0.06832974, -0.09220405],\n",
       "       [ 0.08529891,  0.05068012,  0.04445121, ..., -0.00259226,\n",
       "         0.00286377, -0.02593034],\n",
       "       ...,\n",
       "       [ 0.04170844,  0.05068012, -0.01590626, ..., -0.01107952,\n",
       "        -0.04687948,  0.01549073],\n",
       "       [-0.04547248, -0.04464164,  0.03906215, ...,  0.02655962,\n",
       "         0.04452837, -0.02593034],\n",
       "       [-0.04547248, -0.04464164, -0.0730303 , ..., -0.03949338,\n",
       "        -0.00421986,  0.00306441]])"
      ]
     },
     "execution_count": 5,
     "metadata": {},
     "output_type": "execute_result"
    }
   ],
   "source": [
    "dataset['data']"
   ]
  },
  {
   "cell_type": "code",
   "execution_count": 6,
   "metadata": {},
   "outputs": [
    {
     "data": {
      "text/plain": [
       "'.. _diabetes_dataset:\\n\\nDiabetes dataset\\n----------------\\n\\nTen baseline variables, age, sex, body mass index, average blood\\npressure, and six blood serum measurements were obtained for each of n =\\n442 diabetes patients, as well as the response of interest, a\\nquantitative measure of disease progression one year after baseline.\\n\\n**Data Set Characteristics:**\\n\\n  :Number of Instances: 442\\n\\n  :Number of Attributes: First 10 columns are numeric predictive values\\n\\n  :Target: Column 11 is a quantitative measure of disease progression one year after baseline\\n\\n  :Attribute Information:\\n      - Age\\n      - Sex\\n      - Body mass index\\n      - Average blood pressure\\n      - S1\\n      - S2\\n      - S3\\n      - S4\\n      - S5\\n      - S6\\n\\nNote: Each of these 10 feature variables have been mean centered and scaled by the standard deviation times `n_samples` (i.e. the sum of squares of each column totals 1).\\n\\nSource URL:\\nhttps://www4.stat.ncsu.edu/~boos/var.select/diabetes.html\\n\\nFor more information see:\\nBradley Efron, Trevor Hastie, Iain Johnstone and Robert Tibshirani (2004) \"Least Angle Regression,\" Annals of Statistics (with discussion), 407-499.\\n(https://web.stanford.edu/~hastie/Papers/LARS/LeastAngle_2002.pdf)'"
      ]
     },
     "execution_count": 6,
     "metadata": {},
     "output_type": "execute_result"
    }
   ],
   "source": [
    "dataset['DESCR']"
   ]
  },
  {
   "cell_type": "code",
   "execution_count": 7,
   "metadata": {},
   "outputs": [
    {
     "data": {
      "text/plain": [
       "(442, 10)"
      ]
     },
     "execution_count": 7,
     "metadata": {},
     "output_type": "execute_result"
    }
   ],
   "source": [
    "X  = dataset['data']\n",
    "X.shape"
   ]
  },
  {
   "cell_type": "code",
   "execution_count": 8,
   "metadata": {},
   "outputs": [
    {
     "data": {
      "text/plain": [
       "(442,)"
      ]
     },
     "execution_count": 8,
     "metadata": {},
     "output_type": "execute_result"
    }
   ],
   "source": [
    "y = dataset['target']\n",
    "y.shape"
   ]
  },
  {
   "cell_type": "code",
   "execution_count": 9,
   "metadata": {},
   "outputs": [
    {
     "name": "stdout",
     "output_type": "stream",
     "text": [
      "['age', 'sex', 'bmi', 'bp', 's1', 's2', 's3', 's4', 's5', 's6']\n"
     ]
    }
   ],
   "source": [
    "print(dataset['feature_names'])"
   ]
  },
  {
   "cell_type": "markdown",
   "metadata": {},
   "source": [
    "# creating data frame "
   ]
  },
  {
   "cell_type": "code",
   "execution_count": 10,
   "metadata": {},
   "outputs": [],
   "source": [
    "data = pd.DataFrame(dataset.data, \n",
    "                   columns=dataset.feature_names)"
   ]
  },
  {
   "cell_type": "code",
   "execution_count": 11,
   "metadata": {},
   "outputs": [
    {
     "data": {
      "text/html": [
       "<div>\n",
       "<style scoped>\n",
       "    .dataframe tbody tr th:only-of-type {\n",
       "        vertical-align: middle;\n",
       "    }\n",
       "\n",
       "    .dataframe tbody tr th {\n",
       "        vertical-align: top;\n",
       "    }\n",
       "\n",
       "    .dataframe thead th {\n",
       "        text-align: right;\n",
       "    }\n",
       "</style>\n",
       "<table border=\"1\" class=\"dataframe\">\n",
       "  <thead>\n",
       "    <tr style=\"text-align: right;\">\n",
       "      <th></th>\n",
       "      <th>age</th>\n",
       "      <th>sex</th>\n",
       "      <th>bmi</th>\n",
       "      <th>bp</th>\n",
       "      <th>s1</th>\n",
       "      <th>s2</th>\n",
       "      <th>s3</th>\n",
       "      <th>s4</th>\n",
       "      <th>s5</th>\n",
       "      <th>s6</th>\n",
       "    </tr>\n",
       "  </thead>\n",
       "  <tbody>\n",
       "    <tr>\n",
       "      <th>0</th>\n",
       "      <td>0.038076</td>\n",
       "      <td>0.050680</td>\n",
       "      <td>0.061696</td>\n",
       "      <td>0.021872</td>\n",
       "      <td>-0.044223</td>\n",
       "      <td>-0.034821</td>\n",
       "      <td>-0.043401</td>\n",
       "      <td>-0.002592</td>\n",
       "      <td>0.019908</td>\n",
       "      <td>-0.017646</td>\n",
       "    </tr>\n",
       "    <tr>\n",
       "      <th>1</th>\n",
       "      <td>-0.001882</td>\n",
       "      <td>-0.044642</td>\n",
       "      <td>-0.051474</td>\n",
       "      <td>-0.026328</td>\n",
       "      <td>-0.008449</td>\n",
       "      <td>-0.019163</td>\n",
       "      <td>0.074412</td>\n",
       "      <td>-0.039493</td>\n",
       "      <td>-0.068330</td>\n",
       "      <td>-0.092204</td>\n",
       "    </tr>\n",
       "    <tr>\n",
       "      <th>2</th>\n",
       "      <td>0.085299</td>\n",
       "      <td>0.050680</td>\n",
       "      <td>0.044451</td>\n",
       "      <td>-0.005671</td>\n",
       "      <td>-0.045599</td>\n",
       "      <td>-0.034194</td>\n",
       "      <td>-0.032356</td>\n",
       "      <td>-0.002592</td>\n",
       "      <td>0.002864</td>\n",
       "      <td>-0.025930</td>\n",
       "    </tr>\n",
       "    <tr>\n",
       "      <th>3</th>\n",
       "      <td>-0.089063</td>\n",
       "      <td>-0.044642</td>\n",
       "      <td>-0.011595</td>\n",
       "      <td>-0.036656</td>\n",
       "      <td>0.012191</td>\n",
       "      <td>0.024991</td>\n",
       "      <td>-0.036038</td>\n",
       "      <td>0.034309</td>\n",
       "      <td>0.022692</td>\n",
       "      <td>-0.009362</td>\n",
       "    </tr>\n",
       "    <tr>\n",
       "      <th>4</th>\n",
       "      <td>0.005383</td>\n",
       "      <td>-0.044642</td>\n",
       "      <td>-0.036385</td>\n",
       "      <td>0.021872</td>\n",
       "      <td>0.003935</td>\n",
       "      <td>0.015596</td>\n",
       "      <td>0.008142</td>\n",
       "      <td>-0.002592</td>\n",
       "      <td>-0.031991</td>\n",
       "      <td>-0.046641</td>\n",
       "    </tr>\n",
       "  </tbody>\n",
       "</table>\n",
       "</div>"
      ],
      "text/plain": [
       "        age       sex       bmi        bp        s1        s2        s3  \\\n",
       "0  0.038076  0.050680  0.061696  0.021872 -0.044223 -0.034821 -0.043401   \n",
       "1 -0.001882 -0.044642 -0.051474 -0.026328 -0.008449 -0.019163  0.074412   \n",
       "2  0.085299  0.050680  0.044451 -0.005671 -0.045599 -0.034194 -0.032356   \n",
       "3 -0.089063 -0.044642 -0.011595 -0.036656  0.012191  0.024991 -0.036038   \n",
       "4  0.005383 -0.044642 -0.036385  0.021872  0.003935  0.015596  0.008142   \n",
       "\n",
       "         s4        s5        s6  \n",
       "0 -0.002592  0.019908 -0.017646  \n",
       "1 -0.039493 -0.068330 -0.092204  \n",
       "2 -0.002592  0.002864 -0.025930  \n",
       "3  0.034309  0.022692 -0.009362  \n",
       "4 -0.002592 -0.031991 -0.046641  "
      ]
     },
     "execution_count": 11,
     "metadata": {},
     "output_type": "execute_result"
    }
   ],
   "source": [
    "data.head()"
   ]
  },
  {
   "cell_type": "code",
   "execution_count": 14,
   "metadata": {},
   "outputs": [],
   "source": [
    "data['Result'] = dataset.target"
   ]
  },
  {
   "cell_type": "code",
   "execution_count": 15,
   "metadata": {},
   "outputs": [
    {
     "data": {
      "text/html": [
       "<div>\n",
       "<style scoped>\n",
       "    .dataframe tbody tr th:only-of-type {\n",
       "        vertical-align: middle;\n",
       "    }\n",
       "\n",
       "    .dataframe tbody tr th {\n",
       "        vertical-align: top;\n",
       "    }\n",
       "\n",
       "    .dataframe thead th {\n",
       "        text-align: right;\n",
       "    }\n",
       "</style>\n",
       "<table border=\"1\" class=\"dataframe\">\n",
       "  <thead>\n",
       "    <tr style=\"text-align: right;\">\n",
       "      <th></th>\n",
       "      <th>age</th>\n",
       "      <th>sex</th>\n",
       "      <th>bmi</th>\n",
       "      <th>bp</th>\n",
       "      <th>s1</th>\n",
       "      <th>s2</th>\n",
       "      <th>s3</th>\n",
       "      <th>s4</th>\n",
       "      <th>s5</th>\n",
       "      <th>s6</th>\n",
       "      <th>Resukt</th>\n",
       "      <th>Result</th>\n",
       "    </tr>\n",
       "  </thead>\n",
       "  <tbody>\n",
       "    <tr>\n",
       "      <th>0</th>\n",
       "      <td>0.038076</td>\n",
       "      <td>0.050680</td>\n",
       "      <td>0.061696</td>\n",
       "      <td>0.021872</td>\n",
       "      <td>-0.044223</td>\n",
       "      <td>-0.034821</td>\n",
       "      <td>-0.043401</td>\n",
       "      <td>-0.002592</td>\n",
       "      <td>0.019908</td>\n",
       "      <td>-0.017646</td>\n",
       "      <td>151.0</td>\n",
       "      <td>151.0</td>\n",
       "    </tr>\n",
       "    <tr>\n",
       "      <th>1</th>\n",
       "      <td>-0.001882</td>\n",
       "      <td>-0.044642</td>\n",
       "      <td>-0.051474</td>\n",
       "      <td>-0.026328</td>\n",
       "      <td>-0.008449</td>\n",
       "      <td>-0.019163</td>\n",
       "      <td>0.074412</td>\n",
       "      <td>-0.039493</td>\n",
       "      <td>-0.068330</td>\n",
       "      <td>-0.092204</td>\n",
       "      <td>75.0</td>\n",
       "      <td>75.0</td>\n",
       "    </tr>\n",
       "    <tr>\n",
       "      <th>2</th>\n",
       "      <td>0.085299</td>\n",
       "      <td>0.050680</td>\n",
       "      <td>0.044451</td>\n",
       "      <td>-0.005671</td>\n",
       "      <td>-0.045599</td>\n",
       "      <td>-0.034194</td>\n",
       "      <td>-0.032356</td>\n",
       "      <td>-0.002592</td>\n",
       "      <td>0.002864</td>\n",
       "      <td>-0.025930</td>\n",
       "      <td>141.0</td>\n",
       "      <td>141.0</td>\n",
       "    </tr>\n",
       "    <tr>\n",
       "      <th>3</th>\n",
       "      <td>-0.089063</td>\n",
       "      <td>-0.044642</td>\n",
       "      <td>-0.011595</td>\n",
       "      <td>-0.036656</td>\n",
       "      <td>0.012191</td>\n",
       "      <td>0.024991</td>\n",
       "      <td>-0.036038</td>\n",
       "      <td>0.034309</td>\n",
       "      <td>0.022692</td>\n",
       "      <td>-0.009362</td>\n",
       "      <td>206.0</td>\n",
       "      <td>206.0</td>\n",
       "    </tr>\n",
       "    <tr>\n",
       "      <th>4</th>\n",
       "      <td>0.005383</td>\n",
       "      <td>-0.044642</td>\n",
       "      <td>-0.036385</td>\n",
       "      <td>0.021872</td>\n",
       "      <td>0.003935</td>\n",
       "      <td>0.015596</td>\n",
       "      <td>0.008142</td>\n",
       "      <td>-0.002592</td>\n",
       "      <td>-0.031991</td>\n",
       "      <td>-0.046641</td>\n",
       "      <td>135.0</td>\n",
       "      <td>135.0</td>\n",
       "    </tr>\n",
       "  </tbody>\n",
       "</table>\n",
       "</div>"
      ],
      "text/plain": [
       "        age       sex       bmi        bp        s1        s2        s3  \\\n",
       "0  0.038076  0.050680  0.061696  0.021872 -0.044223 -0.034821 -0.043401   \n",
       "1 -0.001882 -0.044642 -0.051474 -0.026328 -0.008449 -0.019163  0.074412   \n",
       "2  0.085299  0.050680  0.044451 -0.005671 -0.045599 -0.034194 -0.032356   \n",
       "3 -0.089063 -0.044642 -0.011595 -0.036656  0.012191  0.024991 -0.036038   \n",
       "4  0.005383 -0.044642 -0.036385  0.021872  0.003935  0.015596  0.008142   \n",
       "\n",
       "         s4        s5        s6  Resukt  Result  \n",
       "0 -0.002592  0.019908 -0.017646   151.0   151.0  \n",
       "1 -0.039493 -0.068330 -0.092204    75.0    75.0  \n",
       "2 -0.002592  0.002864 -0.025930   141.0   141.0  \n",
       "3  0.034309  0.022692 -0.009362   206.0   206.0  \n",
       "4 -0.002592 -0.031991 -0.046641   135.0   135.0  "
      ]
     },
     "execution_count": 15,
     "metadata": {},
     "output_type": "execute_result"
    }
   ],
   "source": [
    "data.head(5)"
   ]
  },
  {
   "cell_type": "markdown",
   "metadata": {},
   "source": [
    "# perform dtaa splitting "
   ]
  },
  {
   "cell_type": "code",
   "execution_count": 20,
   "metadata": {},
   "outputs": [],
   "source": [
    "data = data.drop(['Resukt'], axis = 1)\n"
   ]
  },
  {
   "cell_type": "code",
   "execution_count": 21,
   "metadata": {},
   "outputs": [],
   "source": [
    "from sklearn.model_selection import train_test_split\n",
    "X_train, X_test, y_train, y_test = train_test_split(dataset['data'], dataset['target'])"
   ]
  },
  {
   "cell_type": "code",
   "execution_count": 22,
   "metadata": {},
   "outputs": [
    {
     "name": "stdout",
     "output_type": "stream",
     "text": [
      "(331, 10) (331,)\n",
      "(111, 10) (111,)\n"
     ]
    }
   ],
   "source": [
    "print(X_train.shape, y_train.shape)\n",
    "print(X_test.shape, y_test.shape)"
   ]
  },
  {
   "cell_type": "markdown",
   "metadata": {},
   "source": [
    "fitting the model"
   ]
  },
  {
   "cell_type": "code",
   "execution_count": 23,
   "metadata": {},
   "outputs": [
    {
     "name": "stdout",
     "output_type": "stream",
     "text": [
      "0.5294619440722965\n"
     ]
    }
   ],
   "source": [
    "from sklearn.linear_model import LinearRegression\n",
    "lr = LinearRegression()\n",
    "lr.fit(X_train, y_train)\n",
    "print(lr.score(X_train,y_train))"
   ]
  },
  {
   "cell_type": "code",
   "execution_count": 25,
   "metadata": {},
   "outputs": [
    {
     "name": "stdout",
     "output_type": "stream",
     "text": [
      "0.4706023317925962\n"
     ]
    }
   ],
   "source": [
    "print(lr.score(X_test, y_test))"
   ]
  },
  {
   "cell_type": "markdown",
   "metadata": {},
   "source": [
    "# prediction "
   ]
  },
  {
   "cell_type": "code",
   "execution_count": 26,
   "metadata": {},
   "outputs": [],
   "source": [
    "y_pred = lr.predict(X_test)"
   ]
  },
  {
   "cell_type": "code",
   "execution_count": 27,
   "metadata": {},
   "outputs": [
    {
     "data": {
      "text/plain": [
       "array([150., 346., 132., 202., 310., 273., 172., 121.,  66.,  75., 109.,\n",
       "        94.,  67., 341., 170., 178.,  25.,  65., 170.,  85., 128., 181.,\n",
       "       134., 154.,  77.,  95.,  60., 122.,  95., 147., 249.,  71., 132.,\n",
       "       122., 311., 246., 202., 242.,  60., 274., 198., 257.,  42., 150.,\n",
       "        84., 121., 220., 242.,  59.,  63., 262., 277., 126., 281., 243.,\n",
       "       129.,  68., 110.,  44., 220., 200.,  70.,  88., 199., 236., 233.,\n",
       "       158., 131.,  49., 135., 185.,  96.,  83.,  99., 186.,  68.,  51.,\n",
       "       225.,  61., 161., 245., 265., 198., 281.,  84., 233., 245., 150.,\n",
       "       102., 173.,  53., 259., 141.,  87.,  57., 275., 268., 200., 103.,\n",
       "       131.,  91.,  58.,  78., 120., 261., 210., 141.,  92., 103., 242.,\n",
       "        50.])"
      ]
     },
     "execution_count": 27,
     "metadata": {},
     "output_type": "execute_result"
    }
   ],
   "source": [
    "y_test"
   ]
  },
  {
   "cell_type": "code",
   "execution_count": 28,
   "metadata": {},
   "outputs": [
    {
     "data": {
      "text/plain": [
       "array([210.52538086, 267.16924012, 260.31324715, 193.22970433,\n",
       "       219.64121679, 272.09226416, 143.76149223, 217.79496675,\n",
       "       121.92172636,  77.59252928, 174.99521058, 104.67991252,\n",
       "       192.42942691, 251.02138895,  95.42952149, 169.74845869,\n",
       "       148.73458012,  55.53730319, 192.17279965, 157.91238125,\n",
       "       175.25822579,  85.90509949,  74.30737541, 162.47204762,\n",
       "       172.38407184, 156.04556046, 131.46174194, 174.04701387,\n",
       "       155.28406425, 176.10107037, 211.73746733,  84.78178721,\n",
       "       124.32297114, 194.00585257, 174.82821151, 238.99063927,\n",
       "       220.89748461, 180.68543706, 118.76087898, 247.00794751,\n",
       "       212.43439946, 185.23044788, 130.72032444, 144.47517541,\n",
       "        91.20619635, 170.66131028, 215.60123872, 281.79340838,\n",
       "        74.65313729,  57.89839337, 160.02627645, 265.26649862,\n",
       "       174.4978623 , 257.58362565, 256.26855448, 192.53234471,\n",
       "       118.49406479, 163.45466331, 131.02523291, 175.33502743,\n",
       "        79.18164041,  58.35982188,  92.17028177, 111.56811068,\n",
       "       241.58401343, 206.60354696,  73.12400711, 198.99662316,\n",
       "       104.01147919, 105.26791247, 143.26262909,  89.02827275,\n",
       "       123.27856246,  61.18975577, 205.67960832, 122.89019366,\n",
       "        80.50096444, 226.4123142 , 113.61568041, 193.92871898,\n",
       "       165.88570794, 166.78547345, 164.0233971 , 282.85811798,\n",
       "       104.53953634, 256.01951556, 266.45079984, 211.08760776,\n",
       "       114.24964457, 226.28422802,  87.85247561, 242.67800392,\n",
       "       160.24846959,  88.2482806 ,  47.33841173, 223.48615343,\n",
       "       213.53255011, 146.79848731, 125.27961505, 170.50197132,\n",
       "       182.97396601, 163.52102303, 188.89019492, 166.54093412,\n",
       "       236.9110231 , 154.43102656, 172.91426498, 128.16920852,\n",
       "       142.22836076, 259.6091105 , 144.47213796])"
      ]
     },
     "execution_count": 28,
     "metadata": {},
     "output_type": "execute_result"
    }
   ],
   "source": [
    "y_pred"
   ]
  },
  {
   "cell_type": "code",
   "execution_count": 32,
   "metadata": {},
   "outputs": [],
   "source": [
    "from sklearn.metrics import mean_squared_error\n",
    "mse = mean_squared_error(y_test, y_pred)"
   ]
  },
  {
   "cell_type": "code",
   "execution_count": 33,
   "metadata": {},
   "outputs": [
    {
     "name": "stdout",
     "output_type": "stream",
     "text": [
      "3309.4171423423563\n"
     ]
    }
   ],
   "source": [
    "print(mse)"
   ]
  },
  {
   "cell_type": "code",
   "execution_count": 39,
   "metadata": {},
   "outputs": [
    {
     "data": {
      "image/png": "[encoded data removed]",
      "text/plain": [
       "<Figure size 432x288 with 1 Axes>"
      ]
     },
     "metadata": {
      "needs_background": "light"
     },
     "output_type": "display_data"
    }
   ],
   "source": [
    "plt.scatter(y_test, y_pred)\n",
    "\n",
    "plt.show()"
   ]
  },
  {
   "cell_type": "markdown",
   "metadata": {},
   "source": [
    "# trying some other algorithm to make more accurate "
   ]
  },
  {
   "cell_type": "markdown",
   "metadata": {},
   "source": [
    "Decision TRee"
   ]
  },
  {
   "cell_type": "code",
   "execution_count": 42,
   "metadata": {},
   "outputs": [
    {
     "name": "stdout",
     "output_type": "stream",
     "text": [
      "1.0\n",
      "-0.16355558187988506\n"
     ]
    }
   ],
   "source": [
    "from sklearn.tree import DecisionTreeRegressor\n",
    "reg = DecisionTreeRegressor()\n",
    "reg.fit(X_train, y_train)\n",
    "\n",
    "print(reg.score(X_train, y_train))\n",
    "print(reg.score(X_test, y_test))"
   ]
  },
  {
   "cell_type": "code",
   "execution_count": 46,
   "metadata": {},
   "outputs": [],
   "source": [
    "y_prid = reg.predict(X_train)"
   ]
  },
  {
   "cell_type": "code",
   "execution_count": 47,
   "metadata": {},
   "outputs": [
    {
     "data": {
      "text/plain": [
       "array([197.,  70., 172., 107., 142., 258., 128.,  49., 208.,  91., 215.,\n",
       "       321., 140.,  37.,  97.,  65.,  88.,  99., 292., 102., 248., 116.,\n",
       "        71., 115., 229.,  90.,  83.,  81.,  85., 196., 124., 277.,  52.,\n",
       "       209., 206., 275.,  74., 258.,  88.,  52., 214.,  94.,  77., 111.,\n",
       "        81.,  84., 252., 263., 184., 124., 276., 177., 160.,  98., 270.,\n",
       "       142., 109., 183.,  64.,  64., 113.,  97.,  47., 146., 101., 109.,\n",
       "       283., 288.,  71., 102., 118.,  97., 214.,  93.,  66., 179.,  53.,\n",
       "       110.,  55., 200., 232., 173., 136.,  72., 111., 123., 179., 118.,\n",
       "       230., 258.,  55.,  77., 216., 263.,  39., 101., 295., 158.,  74.,\n",
       "       143., 257.,  42., 198., 104.,  55.,  45., 181., 162., 296., 302.,\n",
       "       168.,  93.,  89.,  55., 336.,  78.,  64., 279.,  69.,  51., 220.,\n",
       "        48., 139., 160., 244., 281.,  83., 200.,  71., 138., 293., 140.,\n",
       "       163.,  42., 142.,  59., 134., 280.,  40., 275., 115.,  91., 182.,\n",
       "       219., 151., 200.,  85., 303.,  90., 197.,  52., 142.,  72., 206.,\n",
       "        54., 308., 114., 111.,  69., 170., 180., 101., 178.,  65., 178.,\n",
       "       222., 145.,  80., 137., 292., 144., 237.,  96., 125.,  97., 155.,\n",
       "       174.,  68.,  72.,  85., 232.,  89., 268., 196.,  92., 144., 332.,\n",
       "        88.,  86., 248.,  63., 180., 214., 310., 171., 191., 310., 131.,\n",
       "       185., 270., 148., 195., 129.,  90., 265., 131., 262.,  59., 168.,\n",
       "       190., 152., 151.,  63., 156., 182., 230., 281., 212.,  72., 219.,\n",
       "       164., 243.,  31., 168., 272.,  63.,  73., 174.,  72., 144.,  91.,\n",
       "        65., 190., 138., 225., 167., 182., 272., 163., 104.,  94., 202.,\n",
       "       141., 248.,  75., 143., 221.,  96.,  48., 185., 107., 152., 246.,\n",
       "       166.,  53., 217., 175.,  60., 187., 129., 139., 306., 113., 109.,\n",
       "        90., 200., 259., 127., 259., 144., 252., 127.,  39.,  59.,  79.,\n",
       "        48., 235.,  47., 135., 189., 265.,  71., 252., 108., 217., 283.,\n",
       "        52., 237.,  69., 178., 202.,  49., 150., 104.,  77., 128.,  72.,\n",
       "       233.,  43., 153., 275.,  67., 235., 317., 264.,  96., 192.,  51.,\n",
       "       241., 128., 113., 201.,  61.,  78.,  53.,  90., 178.,  84., 118.,\n",
       "       220., 164., 253., 155., 116., 191., 151., 104., 297., 137.,  87.,\n",
       "       100.])"
      ]
     },
     "execution_count": 47,
     "metadata": {},
     "output_type": "execute_result"
    }
   ],
   "source": [
    "y_prid"
   ]
  },
  {
   "cell_type": "code",
   "execution_count": 48,
   "metadata": {},
   "outputs": [
    {
     "data": {
      "text/plain": [
       "array([197.,  70., 172., 107., 142., 258., 128.,  49., 208.,  91., 215.,\n",
       "       321., 140.,  37.,  97.,  65.,  88.,  99., 292., 102., 248., 116.,\n",
       "        71., 115., 229.,  90.,  83.,  81.,  85., 196., 124., 277.,  52.,\n",
       "       209., 206., 275.,  74., 258.,  88.,  52., 214.,  94.,  77., 111.,\n",
       "        81.,  84., 252., 263., 184., 124., 276., 177., 160.,  98., 270.,\n",
       "       142., 109., 183.,  64.,  64., 113.,  97.,  47., 146., 101., 109.,\n",
       "       283., 288.,  71., 102., 118.,  97., 214.,  93.,  66., 179.,  53.,\n",
       "       110.,  55., 200., 232., 173., 136.,  72., 111., 123., 179., 118.,\n",
       "       230., 258.,  55.,  77., 216., 263.,  39., 101., 295., 158.,  74.,\n",
       "       143., 257.,  42., 198., 104.,  55.,  45., 181., 162., 296., 302.,\n",
       "       168.,  93.,  89.,  55., 336.,  78.,  64., 279.,  69.,  51., 220.,\n",
       "        48., 139., 160., 244., 281.,  83., 200.,  71., 138., 293., 140.,\n",
       "       163.,  42., 142.,  59., 134., 280.,  40., 275., 115.,  91., 182.,\n",
       "       219., 151., 200.,  85., 303.,  90., 197.,  52., 142.,  72., 206.,\n",
       "        54., 308., 114., 111.,  69., 170., 180., 101., 178.,  65., 178.,\n",
       "       222., 145.,  80., 137., 292., 144., 237.,  96., 125.,  97., 155.,\n",
       "       174.,  68.,  72.,  85., 232.,  89., 268., 196.,  92., 144., 332.,\n",
       "        88.,  86., 248.,  63., 180., 214., 310., 171., 191., 310., 131.,\n",
       "       185., 270., 148., 195., 129.,  90., 265., 131., 262.,  59., 168.,\n",
       "       190., 152., 151.,  63., 156., 182., 230., 281., 212.,  72., 219.,\n",
       "       164., 243.,  31., 168., 272.,  63.,  73., 174.,  72., 144.,  91.,\n",
       "        65., 190., 138., 225., 167., 182., 272., 163., 104.,  94., 202.,\n",
       "       141., 248.,  75., 143., 221.,  96.,  48., 185., 107., 152., 246.,\n",
       "       166.,  53., 217., 175.,  60., 187., 129., 139., 306., 113., 109.,\n",
       "        90., 200., 259., 127., 259., 144., 252., 127.,  39.,  59.,  79.,\n",
       "        48., 235.,  47., 135., 189., 265.,  71., 252., 108., 217., 283.,\n",
       "        52., 237.,  69., 178., 202.,  49., 150., 104.,  77., 128.,  72.,\n",
       "       233.,  43., 153., 275.,  67., 235., 317., 264.,  96., 192.,  51.,\n",
       "       241., 128., 113., 201.,  61.,  78.,  53.,  90., 178.,  84., 118.,\n",
       "       220., 164., 253., 155., 116., 191., 151., 104., 297., 137.,  87.,\n",
       "       100.])"
      ]
     },
     "execution_count": 48,
     "metadata": {},
     "output_type": "execute_result"
    }
   ],
   "source": [
    "y_train"
   ]
  },
  {
   "cell_type": "markdown",
   "metadata": {},
   "source": [
    "# Random Forest ALgorithm"
   ]
  },
  {
   "cell_type": "code",
   "execution_count": 53,
   "metadata": {},
   "outputs": [
    {
     "data": {
      "text/plain": [
       "0.3935235603035885"
      ]
     },
     "execution_count": 53,
     "metadata": {},
     "output_type": "execute_result"
    }
   ],
   "source": [
    "from sklearn.ensemble import RandomForestRegressor\n",
    "rf = RandomForestRegressor(n_estimators=500)\n",
    "rf.fit(X_train, y_train)\n",
    "rf.score(X_test,y_test)"
   ]
  },
  {
   "cell_type": "code",
   "execution_count": 54,
   "metadata": {},
   "outputs": [
    {
     "data": {
      "text/plain": [
       "0.9249755988707358"
      ]
     },
     "execution_count": 54,
     "metadata": {},
     "output_type": "execute_result"
    }
   ],
   "source": [
    "rf.score(X_train, y_train)"
   ]
  },
  {
   "cell_type": "code",
   "execution_count": null,
   "metadata": {},
   "outputs": [],
   "source": []
  },
  {
   "cell_type": "code",
   "execution_count": null,
   "metadata": {},
   "outputs": [],
   "source": []
  },
  {
   "cell_type": "code",
   "execution_count": null,
   "metadata": {},
   "outputs": [],
   "source": []
  },
  {
   "cell_type": "code",
   "execution_count": null,
   "metadata": {},
   "outputs": [],
   "source": []
  }
 ],
 "metadata": {
  "kernelspec": {
   "display_name": "Python 3",
   "language": "python",
   "name": "python3"
  },
  "language_info": {
   "codemirror_mode": {
    "name": "ipython",
    "version": 3
   },
   "file_extension": ".py",
   "mimetype": "text/x-python",
   "name": "python",
   "nbconvert_exporter": "python",
   "pygments_lexer": "ipython3",
   "version": "3.6.6"
  }
 },
 "nbformat": 4,
 "nbformat_minor": 4
}
