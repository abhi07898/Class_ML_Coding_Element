{
 "cells": [
  {
   "cell_type": "code",
   "execution_count": 1,
   "metadata": {},
   "outputs": [],
   "source": [
    "import numpy as np\n",
    "import pandas as pd\n",
    "import matplotlib.pyplot as plt\n",
    "%matplotlib inline "
   ]
  },
  {
   "cell_type": "code",
   "execution_count": 2,
   "metadata": {},
   "outputs": [
    {
     "name": "stderr",
     "output_type": "stream",
     "text": [
      "Using TensorFlow backend.\n"
     ]
    }
   ],
   "source": [
    "from keras.datasets import mnist\n",
    "(x_train, y_train), (x_test, y_test) = mnist.load_data()"
   ]
  },
  {
   "cell_type": "code",
   "execution_count": 3,
   "metadata": {},
   "outputs": [
    {
     "name": "stdout",
     "output_type": "stream",
     "text": [
      "(60000, 28, 28) (60000,)\n",
      "(10000, 28, 28) (10000,)\n"
     ]
    }
   ],
   "source": [
    "print(x_train.shape, y_train.shape)\n",
    "print(x_test.shape, y_test.shape)"
   ]
  },
  {
   "cell_type": "markdown",
   "metadata": {},
   "source": [
    "# apply conv layer then we flat it "
   ]
  },
  {
   "cell_type": "code",
   "execution_count": 6,
   "metadata": {},
   "outputs": [
    {
     "name": "stdout",
     "output_type": "stream",
     "text": [
      "[0 1 2 3 4 5 6 7 8 9]\n"
     ]
    }
   ],
   "source": [
    "print(np.unique(y_train))"
   ]
  },
  {
   "cell_type": "code",
   "execution_count": 7,
   "metadata": {},
   "outputs": [
    {
     "name": "stdout",
     "output_type": "stream",
     "text": [
      "(60000, 10)\n"
     ]
    }
   ],
   "source": [
    "# one hot encoding \n",
    "from keras.utils import np_utils\n",
    "X_train = x_train.reshape(-1,28,28, 1)  #-1 = 60k \n",
    "X_test = x_test.reshape(-1,28,28,1) #-1 = 10k\n",
    "Y_train = np_utils.to_categorical(y_train)\n",
    "Y_test = np_utils.to_categorical(y_test)\n",
    "\n",
    "print(Y_train.shape)"
   ]
  },
  {
   "cell_type": "markdown",
   "metadata": {},
   "source": [
    " data is now ready we can model t but we also reduce the amount the data "
   ]
  },
  {
   "cell_type": "code",
   "execution_count": 8,
   "metadata": {},
   "outputs": [],
   "source": [
    "# carefully run this \n",
    "\n",
    "X_train = X_train[:3600]\n",
    "Y_train = Y_train[:3600]\n",
    "\n",
    "X_test = X_test[:900]\n",
    "Y_test = Y_test[:900]\n",
    "\n"
   ]
  },
  {
   "cell_type": "code",
   "execution_count": 9,
   "metadata": {},
   "outputs": [
    {
     "name": "stdout",
     "output_type": "stream",
     "text": [
      "(3600, 28, 28, 1) (3600, 10) (900, 28, 28, 1) (900, 10)\n"
     ]
    }
   ],
   "source": [
    "print(X_train.shape, Y_train.shape, X_test.shape, Y_test.shape)"
   ]
  },
  {
   "cell_type": "markdown",
   "metadata": {},
   "source": [
    "# creating models "
   ]
  },
  {
   "cell_type": "code",
   "execution_count": 11,
   "metadata": {},
   "outputs": [
    {
     "name": "stdout",
     "output_type": "stream",
     "text": [
      "Model: \"sequential_1\"\n",
      "_________________________________________________________________\n",
      "Layer (type)                 Output Shape              Param #   \n",
      "=================================================================\n",
      "conv2d_1 (Conv2D)            (None, 26, 26, 32)        320       \n",
      "_________________________________________________________________\n",
      "activation_1 (Activation)    (None, 26, 26, 32)        0         \n",
      "_________________________________________________________________\n",
      "conv2d_2 (Conv2D)            (None, 24, 24, 64)        18496     \n",
      "_________________________________________________________________\n",
      "activation_2 (Activation)    (None, 24, 24, 64)        0         \n",
      "_________________________________________________________________\n",
      "max_pooling2d_1 (MaxPooling2 (None, 12, 12, 64)        0         \n",
      "_________________________________________________________________\n",
      "conv2d_3 (Conv2D)            (None, 10, 10, 16)        9232      \n",
      "_________________________________________________________________\n",
      "activation_3 (Activation)    (None, 10, 10, 16)        0         \n",
      "_________________________________________________________________\n",
      "flatten_1 (Flatten)          (None, 1600)              0         \n",
      "_________________________________________________________________\n",
      "dropout_1 (Dropout)          (None, 1600)              0         \n",
      "_________________________________________________________________\n",
      "dense_1 (Dense)              (None, 10)                16010     \n",
      "_________________________________________________________________\n",
      "activation_4 (Activation)    (None, 10)                0         \n",
      "=================================================================\n",
      "Total params: 44,058\n",
      "Trainable params: 44,058\n",
      "Non-trainable params: 0\n",
      "_________________________________________________________________\n"
     ]
    },
    {
     "name": "stderr",
     "output_type": "stream",
     "text": [
      "c:\\users\\lenovo\\appdata\\local\\programs\\python\\python36\\lib\\site-packages\\ipykernel_launcher.py:13: UserWarning: Update your `Conv2D` call to the Keras 2 API: `Conv2D(32, (3, 3), input_shape=(28, 28, 1...)`\n",
      "  del sys.path[0]\n",
      "c:\\users\\lenovo\\appdata\\local\\programs\\python\\python36\\lib\\site-packages\\ipykernel_launcher.py:16: UserWarning: Update your `Conv2D` call to the Keras 2 API: `Conv2D(64, (3, 3))`\n",
      "  app.launch_new_instance()\n",
      "c:\\users\\lenovo\\appdata\\local\\programs\\python\\python36\\lib\\site-packages\\ipykernel_launcher.py:25: UserWarning: Update your `Conv2D` call to the Keras 2 API: `Conv2D(16, (3, 3))`\n"
     ]
    }
   ],
   "source": [
    "from keras.models import Sequential\n",
    "from keras.layers import Conv2D,Flatten, Dense , Activation, Dropout, MaxPool2D \n",
    "\n",
    "# conv2d = convolution 2d maxpoll in 2d both are same \n",
    "# reduce the no of features 10X10 = 5X5   maxpolling \n",
    "# avg polling \n",
    "\n",
    "\n",
    "\n",
    "model = Sequential()\n",
    "\n",
    "model.add(Conv2D(32, 3 ,3 ,#conv layer 32 filter 3X3=size \n",
    "         input_shape=(28,28,1))) \n",
    "model.add(Activation('relu'))   \n",
    "#(26x26x32)\n",
    "model.add(Conv2D(64, 3, 3 ))\n",
    "model.add(Activation('relu'))  \n",
    "#(24x24x64)  next layer = 26-3+1 \n",
    "\n",
    "\n",
    "\n",
    "# now applying max poll for readuce the value of features \n",
    "\n",
    "model.add(MaxPool2D(pool_size=(2,2)))   #images be half \n",
    "#(12x12x64)\n",
    "\n",
    "model.add(Conv2D(16, 3, 3 ))\n",
    "model.add(Activation('relu'))\n",
    "#(10x10x16)   12-3+1\n",
    "\n",
    "model.add(Flatten())\n",
    "# 1600 = 10x10x16\n",
    "\n",
    "\n",
    "model.add(Dropout(0.25))# regularizatuion drop overfitting weights\n",
    "#on any changes \n",
    "\n",
    "model.add(Dense(10))\n",
    "model.add(Activation('softmax'))    #output layer \n",
    "#(10)\n",
    "\n",
    "model.summary()\n",
    "\n",
    "          \n",
    "# model.add(Conv2D(32, (3 ,3 )))\n",
    "# params = represnet weights \n",
    "\n",
    "\n",
    "\n",
    "# (9w+1b)*32 = 320\n",
    "# (3x3x32+1b)*62 = 18496\n",
    "# (3x3x64+1b)*16 = 9232"
   ]
  },
  {
   "cell_type": "code",
   "execution_count": 12,
   "metadata": {},
   "outputs": [],
   "source": [
    "model.compile(loss='categorical_crossentropy',\n",
    "             optimizer='adam',\n",
    "             metrics = ['accuracy'])"
   ]
  },
  {
   "cell_type": "code",
   "execution_count": 14,
   "metadata": {},
   "outputs": [
    {
     "name": "stderr",
     "output_type": "stream",
     "text": [
      "c:\\users\\lenovo\\appdata\\local\\programs\\python\\python36\\lib\\site-packages\\ipykernel_launcher.py:5: UserWarning: The `nb_epoch` argument in `fit` has been renamed `epochs`.\n",
      "  \"\"\"\n"
     ]
    },
    {
     "name": "stdout",
     "output_type": "stream",
     "text": [
      "Train on 3600 samples, validate on 900 samples\n",
      "Epoch 1/12\n",
      " - 8s - loss: 1.5219 - accuracy: 0.7058 - val_loss: 0.2592 - val_accuracy: 0.9200\n",
      "Epoch 2/12\n",
      " - 7s - loss: 0.2560 - accuracy: 0.9228 - val_loss: 0.1834 - val_accuracy: 0.9333\n",
      "Epoch 3/12\n",
      " - 7s - loss: 0.1462 - accuracy: 0.9581 - val_loss: 0.2066 - val_accuracy: 0.9311\n",
      "Epoch 4/12\n",
      " - 7s - loss: 0.1369 - accuracy: 0.9597 - val_loss: 0.1385 - val_accuracy: 0.9567\n",
      "Epoch 5/12\n",
      " - 7s - loss: 0.1094 - accuracy: 0.9661 - val_loss: 0.1487 - val_accuracy: 0.9489\n",
      "Epoch 6/12\n",
      " - 7s - loss: 0.0732 - accuracy: 0.9753 - val_loss: 0.1423 - val_accuracy: 0.9500\n",
      "Epoch 7/12\n",
      " - 7s - loss: 0.0687 - accuracy: 0.9775 - val_loss: 0.1395 - val_accuracy: 0.9578\n",
      "Epoch 8/12\n",
      " - 7s - loss: 0.0684 - accuracy: 0.9792 - val_loss: 0.1211 - val_accuracy: 0.9522\n",
      "Epoch 9/12\n",
      " - 8s - loss: 0.0597 - accuracy: 0.9808 - val_loss: 0.1379 - val_accuracy: 0.9589\n",
      "Epoch 10/12\n",
      " - 8s - loss: 0.0583 - accuracy: 0.9797 - val_loss: 0.1404 - val_accuracy: 0.9656\n",
      "Epoch 11/12\n",
      " - 8s - loss: 0.0543 - accuracy: 0.9844 - val_loss: 0.1547 - val_accuracy: 0.9567\n",
      "Epoch 12/12\n",
      " - 8s - loss: 0.0447 - accuracy: 0.9872 - val_loss: 0.1270 - val_accuracy: 0.9567\n"
     ]
    },
    {
     "data": {
      "text/plain": [
       "<keras.callbacks.callbacks.History at 0x299a377a3c8>"
      ]
     },
     "execution_count": 14,
     "metadata": {},
     "output_type": "execute_result"
    }
   ],
   "source": [
    "model.fit(X_train, Y_train,\n",
    "         validation_data=(X_test, Y_test),\n",
    "         nb_epoch = 12,\n",
    "         batch_size=16,\n",
    "         verbose=2)"
   ]
  },
  {
   "cell_type": "code",
   "execution_count": 17,
   "metadata": {
    "scrolled": false
   },
   "outputs": [],
   "source": [
    "# -log(0.5)  #for chaking the confidence lavel "
   ]
  },
  {
   "cell_type": "markdown",
   "metadata": {},
   "source": [
    "# Prediction... "
   ]
  },
  {
   "cell_type": "code",
   "execution_count": 20,
   "metadata": {},
   "outputs": [
    {
     "data": {
      "text/plain": [
       "array([[1.7961280e-10, 3.6287451e-12, 2.6747096e-12, 1.8105211e-04,\n",
       "        2.4403353e-12, 9.9976569e-01, 1.9298762e-11, 7.9084632e-09,\n",
       "        5.3278131e-05, 4.8270814e-11]], dtype=float32)"
      ]
     },
     "execution_count": 20,
     "metadata": {},
     "output_type": "execute_result"
    }
   ],
   "source": [
    "# model.predict(X_train[0])  it produces some erre realted to resize \n",
    "\n",
    "\n",
    "# model.predict(X_train[:2])  #(2,28,28,1)\n",
    "\n",
    "model.predict(X_train[0].reshape(1,28,28,1))"
   ]
  },
  {
   "cell_type": "code",
   "execution_count": 21,
   "metadata": {},
   "outputs": [
    {
     "ename": "SyntaxError",
     "evalue": "invalid syntax (<ipython-input-21-da8f05c02391>, line 1)",
     "output_type": "error",
     "traceback": [
      "\u001b[1;36m  File \u001b[1;32m\"<ipython-input-21-da8f05c02391>\"\u001b[1;36m, line \u001b[1;32m1\u001b[0m\n\u001b[1;33m    model.predict(np.array[X_train[0]]))\u001b[0m\n\u001b[1;37m                                       ^\u001b[0m\n\u001b[1;31mSyntaxError\u001b[0m\u001b[1;31m:\u001b[0m invalid syntax\n"
     ]
    }
   ],
   "source": [
    "model.predict(np.array[X_train[0]]))"
   ]
  },
  {
   "cell_type": "markdown",
   "metadata": {},
   "source": [
    "# same methdeo apply for CFAR10 "
   ]
  },
  {
   "cell_type": "code",
   "execution_count": null,
   "metadata": {},
   "outputs": [],
   "source": []
  }
 ],
 "metadata": {
  "kernelspec": {
   "display_name": "Python 3",
   "language": "python",
   "name": "python3"
  },
  "language_info": {
   "codemirror_mode": {
    "name": "ipython",
    "version": 3
   },
   "file_extension": ".py",
   "mimetype": "text/x-python",
   "name": "python",
   "nbconvert_exporter": "python",
   "pygments_lexer": "ipython3",
   "version": "3.6.6"
  }
 },
 "nbformat": 4,
 "nbformat_minor": 4
}
