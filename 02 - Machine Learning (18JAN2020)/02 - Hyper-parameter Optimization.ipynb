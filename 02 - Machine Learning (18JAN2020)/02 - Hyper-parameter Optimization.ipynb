{
 "cells": [
  {
   "cell_type": "code",
   "execution_count": 18,
   "metadata": {},
   "outputs": [],
   "source": [
    "import numpy as np \n",
    "import matplotlib.pyplot as plt\n",
    "from sklearn.neighbors import KNeighborsClassifier\n",
    "from sklearn.model_selection import train_test_split\n",
    "% matplotlib inline"
   ]
  },
  {
   "cell_type": "code",
   "execution_count": 19,
   "metadata": {},
   "outputs": [
    {
     "name": "stdout",
     "output_type": "stream",
     "text": [
      "(500, 2)\n",
      "(500, 2)\n"
     ]
    }
   ],
   "source": [
    "mean1 = [1,0]\n",
    "cov1 = [[1,0.1],[0.1,2]]\n",
    "\n",
    "distance1 = np.random.multivariate_normal(mean1,cov1,500)\n",
    "\n",
    "print(distance1.shape)\n",
    "\n",
    "mean2 = [4,5]\n",
    "cov2 = [[1,0.1],[0.1,2]]\n",
    "\n",
    "distance2 = np.random.multivariate_normal(mean2,cov2,500)\n",
    "\n",
    "print(distance2.shape)\n",
    "\n"
   ]
  },
  {
   "cell_type": "raw",
   "metadata": {},
   "source": [
    "Radius   Weight       $\n",
    "2.3      2.1          0\n",
    "4.3      1.2          0\n",
    "2.1      2.2          0\n",
    "6.5      7.2          1\n",
    "\n",
    ".....total 1000 datapoints"
   ]
  },
  {
   "cell_type": "code",
   "execution_count": 20,
   "metadata": {},
   "outputs": [
    {
     "data": {
      "image/png": "[encoded data removed]",
      "text/plain": [
       "<Figure size 432x288 with 1 Axes>"
      ]
     },
     "metadata": {},
     "output_type": "display_data"
    }
   ],
   "source": [
    "plt.xlim(-5,10) # values will not change if graph change\n",
    "plt.ylim(-5,10)\n",
    "\n",
    "plt.scatter(distance1[:,0],distance1[:,1]) #(distance1[all rows:radius],distance1[all rows:weight])\n",
    "plt.scatter(distance2[:,0],distance2[:,1])\n",
    "\n",
    "plt.show()"
   ]
  },
  {
   "cell_type": "code",
   "execution_count": 21,
   "metadata": {},
   "outputs": [],
   "source": [
    "data = np.zeros((1000,3))"
   ]
  },
  {
   "cell_type": "code",
   "execution_count": 22,
   "metadata": {},
   "outputs": [
    {
     "data": {
      "text/plain": [
       "array([[0., 0., 0.],\n",
       "       [0., 0., 0.],\n",
       "       [0., 0., 0.],\n",
       "       ...,\n",
       "       [0., 0., 0.],\n",
       "       [0., 0., 0.],\n",
       "       [0., 0., 0.]])"
      ]
     },
     "execution_count": 22,
     "metadata": {},
     "output_type": "execute_result"
    }
   ],
   "source": [
    "data"
   ]
  },
  {
   "cell_type": "code",
   "execution_count": 23,
   "metadata": {},
   "outputs": [],
   "source": [
    "data[:500,:2] = distance1\n",
    "data[500:,:2] = distance2\n",
    "data[500:,-1] = 1"
   ]
  },
  {
   "cell_type": "code",
   "execution_count": 24,
   "metadata": {},
   "outputs": [
    {
     "data": {
      "text/plain": [
       "array([[ 0.27499155, -0.08818111,  0.        ],\n",
       "       [ 0.74826214, -0.23510643,  0.        ],\n",
       "       [ 1.54661205,  0.344226  ,  0.        ],\n",
       "       ...,\n",
       "       [ 4.91584367,  3.76121257,  1.        ],\n",
       "       [ 5.98576234,  4.54299234,  1.        ],\n",
       "       [ 5.37084133,  2.54508822,  1.        ]])"
      ]
     },
     "execution_count": 24,
     "metadata": {},
     "output_type": "execute_result"
    }
   ],
   "source": [
    "data"
   ]
  },
  {
   "cell_type": "code",
   "execution_count": 25,
   "metadata": {},
   "outputs": [
    {
     "data": {
      "text/plain": [
       "(1000, 3)"
      ]
     },
     "execution_count": 25,
     "metadata": {},
     "output_type": "execute_result"
    }
   ],
   "source": [
    "data.shape"
   ]
  },
  {
   "cell_type": "code",
   "execution_count": 26,
   "metadata": {},
   "outputs": [
    {
     "data": {
      "text/plain": [
       "array([2.50233974, 2.45486443, 0.5       ])"
      ]
     },
     "execution_count": 26,
     "metadata": {},
     "output_type": "execute_result"
    }
   ],
   "source": [
    "data.mean(axis=0)"
   ]
  },
  {
   "cell_type": "code",
   "execution_count": 27,
   "metadata": {},
   "outputs": [],
   "source": [
    "np.random.shuffle(data)"
   ]
  },
  {
   "cell_type": "code",
   "execution_count": 28,
   "metadata": {},
   "outputs": [
    {
     "data": {
      "text/plain": [
       "array([[-0.60088561,  1.32237416,  0.        ],\n",
       "       [ 4.26473602,  3.95858462,  1.        ],\n",
       "       [ 2.96995359,  5.29395987,  1.        ],\n",
       "       ...,\n",
       "       [-1.02734438, -1.35762361,  0.        ],\n",
       "       [ 2.57002497,  2.05299081,  0.        ],\n",
       "       [ 0.25969943, -0.56786736,  0.        ]])"
      ]
     },
     "execution_count": 28,
     "metadata": {},
     "output_type": "execute_result"
    }
   ],
   "source": [
    "data"
   ]
  },
  {
   "cell_type": "markdown",
   "metadata": {},
   "source": [
    "### Distributing the data for training and testing"
   ]
  },
  {
   "cell_type": "code",
   "execution_count": 29,
   "metadata": {},
   "outputs": [],
   "source": [
    "X_train, X_test, y_train, y_test = train_test_split(data[:,:2], data[:,-1]) #(data[feature],data[target])"
   ]
  },
  {
   "cell_type": "code",
   "execution_count": 30,
   "metadata": {},
   "outputs": [
    {
     "name": "stdout",
     "output_type": "stream",
     "text": [
      "(750, 2)\n",
      "(750,)\n",
      "(250, 2)\n",
      "(250,)\n"
     ]
    }
   ],
   "source": [
    "print(X_train.shape)\n",
    "print(y_train.shape)\n",
    "print(X_test.shape)\n",
    "print(y_test.shape)"
   ]
  },
  {
   "cell_type": "code",
   "execution_count": 31,
   "metadata": {},
   "outputs": [
    {
     "name": "stdout",
     "output_type": "stream",
     "text": [
      "[1.]\n",
      "99.6\n"
     ]
    }
   ],
   "source": [
    "neigh = KNeighborsClassifier(n_neighbors=5)\n",
    "neigh.fit(X_train, y_train)\n",
    "\n",
    "print(neigh.predict([[6,2]]))\n",
    "\n",
    "print(100*neigh.score(X_test, y_test))"
   ]
  },
  {
   "cell_type": "code",
   "execution_count": 32,
   "metadata": {},
   "outputs": [],
   "source": [
    "def acc(k):\n",
    "\n",
    "    neigh = KNeighborsClassifier(n_neighbors=k)\n",
    "    neigh.fit(X_train, y_train)\n",
    "\n",
    "    return 100*neigh.score(X_test, y_test)"
   ]
  },
  {
   "cell_type": "markdown",
   "metadata": {},
   "source": [
    "### Linear Search"
   ]
  },
  {
   "cell_type": "raw",
   "metadata": {},
   "source": [
    "Linear Search:\n",
    "\n",
    "Run KNN for all values of k (Example: k=1 to 50) and pick the one with the highest accuracy.\n"
   ]
  },
  {
   "cell_type": "code",
   "execution_count": 33,
   "metadata": {
    "scrolled": true
   },
   "outputs": [
    {
     "name": "stdout",
     "output_type": "stream",
     "text": [
      "For k=1 Accuracy=98.4\n",
      "For k=2 Accuracy=98.4\n",
      "For k=3 Accuracy=99.2\n",
      "For k=4 Accuracy=99.6\n",
      "For k=5 Accuracy=99.6\n",
      "For k=6 Accuracy=99.6\n",
      "For k=7 Accuracy=99.6\n",
      "For k=8 Accuracy=99.6\n",
      "For k=9 Accuracy=99.6\n",
      "For k=10 Accuracy=99.6\n",
      "For k=11 Accuracy=99.2\n",
      "For k=12 Accuracy=99.6\n",
      "For k=13 Accuracy=99.6\n",
      "For k=14 Accuracy=99.6\n",
      "For k=15 Accuracy=99.2\n",
      "For k=16 Accuracy=99.6\n",
      "For k=17 Accuracy=99.6\n",
      "For k=18 Accuracy=99.6\n",
      "For k=19 Accuracy=99.6\n",
      "For k=20 Accuracy=99.6\n",
      "For k=21 Accuracy=99.6\n",
      "For k=22 Accuracy=99.6\n",
      "For k=23 Accuracy=99.6\n",
      "For k=24 Accuracy=99.6\n",
      "For k=25 Accuracy=99.2\n",
      "For k=26 Accuracy=99.2\n",
      "For k=27 Accuracy=99.2\n",
      "For k=28 Accuracy=99.2\n",
      "For k=29 Accuracy=99.2\n",
      "For k=30 Accuracy=99.6\n",
      "For k=31 Accuracy=99.6\n",
      "For k=32 Accuracy=99.6\n",
      "For k=33 Accuracy=99.6\n",
      "For k=34 Accuracy=99.6\n",
      "For k=35 Accuracy=99.6\n",
      "For k=36 Accuracy=99.6\n",
      "For k=37 Accuracy=99.6\n",
      "For k=38 Accuracy=99.6\n",
      "For k=39 Accuracy=99.6\n",
      "For k=40 Accuracy=99.6\n",
      "For k=41 Accuracy=99.6\n",
      "For k=42 Accuracy=99.6\n",
      "For k=43 Accuracy=99.6\n",
      "For k=44 Accuracy=99.6\n",
      "For k=45 Accuracy=99.6\n",
      "For k=46 Accuracy=99.6\n",
      "For k=47 Accuracy=99.6\n",
      "For k=48 Accuracy=99.6\n",
      "For k=49 Accuracy=99.6\n",
      "The maximum accuracy [99.6] for k = [ 4  5  6  7  8  9 10 12 13 14 16 17 18 19 20 21 22 23 24 30 31 32 33 34\n",
      " 35 36 37 38 39 40 41 42 43 44 45 46 47 48 49]\n"
     ]
    }
   ],
   "source": [
    "high = []\n",
    "for k in range(1,50):\n",
    "    \n",
    "    print(f\"For k={k} Accuracy={acc(k)}\")\n",
    "    \n",
    "    high.append([acc(k)])\n",
    "    hi = max(high)\n",
    "    \n",
    "    a = [i for i, j in enumerate(high) if j == hi]\n",
    "    a = np.asarray(a) + 1\n",
    "    \n",
    "print(f\"The maximum accuracy {hi} for k = {a}\")"
   ]
  },
  {
   "cell_type": "code",
   "execution_count": null,
   "metadata": {},
   "outputs": [],
   "source": []
  },
  {
   "cell_type": "code",
   "execution_count": null,
   "metadata": {},
   "outputs": [],
   "source": []
  },
  {
   "cell_type": "markdown",
   "metadata": {},
   "source": [
    "### Binary Search"
   ]
  },
  {
   "cell_type": "raw",
   "metadata": {},
   "source": [
    "Binary Search:\n",
    "\n",
    "Pick a range for k (Example: 1 to 1000).\n",
    "Find KNN accuracy for k=1, and k=1000.\n",
    "Find KNN accuracy for mid-point k=500.\n",
    "Then choose either left (1-500) of right (501-1000) range depending on higher accuracy.\n",
    "Repeat."
   ]
  },
  {
   "cell_type": "code",
   "execution_count": 34,
   "metadata": {},
   "outputs": [],
   "source": [
    "def findMax(arr, low, high): \n",
    "  \n",
    "    # This condition is for the case when \n",
    "    # array is not rotated at all \n",
    "    if (high < low): \n",
    "        return arr[0] \n",
    "  \n",
    "    # If there is only one element left \n",
    "    if (high == low): \n",
    "        return arr[low] \n",
    "  \n",
    "    # Find mid \n",
    "    mid = low + (high - low) // 2\n",
    "  \n",
    "    # Check if mid itself is maximum element \n",
    "    if (mid < high and arr[mid + 1] < arr[mid]): \n",
    "        return arr[mid] \n",
    "      \n",
    "    # Decide whether we need to go to \n",
    "    # the left half or the right half \n",
    "    \n",
    "    if (arr[low] > arr[mid]): \n",
    "        return findMax(arr, low, mid - 1)\n",
    "    else: \n",
    "        return findMax(arr, mid + 1, high)"
   ]
  },
  {
   "cell_type": "code",
   "execution_count": 92,
   "metadata": {},
   "outputs": [
    {
     "name": "stdout",
     "output_type": "stream",
     "text": [
      "Accuracy = [99.6] for k = [ 4  5  6  7  8  9 10 12 13 14 16 17 18 19 20 21 22 23 24 30 31 32 33 34\n",
      " 35 36 37 38 39 40 41 42 43 44 45 46 47 48 49 50 51 52 53 54 55 56 57 58\n",
      " 59 60 61 62 63 64 65 66 67 68 69 70 71 72 73 74 75 76 77 78 79 80 81 82\n",
      " 83 84 85 86 87 88 89 90 91 92 93 94 95 96 97 98]\n"
     ]
    }
   ],
   "source": [
    "first = 1\n",
    "end = 100\n",
    "\n",
    "\n",
    "arr = []\n",
    "\n",
    "for k in range(first,end):\n",
    "    arr.append([acc(k)])\n",
    "\n",
    "n = len(arr)\n",
    "\n",
    "result = findMax(arr, 0, n - 1) \n",
    "# print(result)\n",
    "res_list = [] \n",
    "for i in range(0, n-1) : \n",
    "    if arr[i] == result : \n",
    "        res_list.append(i)\n",
    "        \n",
    "res_list = np.asarray(res_list)\n",
    "res_list = res_list+1\n",
    "print (f\"Accuracy = {result} for k = {res_list}\") "
   ]
  },
  {
   "cell_type": "code",
   "execution_count": 69,
   "metadata": {
    "scrolled": true
   },
   "outputs": [
    {
     "name": "stdout",
     "output_type": "stream",
     "text": [
      "[ 4  5  6  7  8  9 10 12 13 14 16 17 18 19 20 21 22 23 24 30 31 32 33 34\n",
      " 35 36 37 38 39 40 41 42 43 44 45 46 47 48 49 50 51 52 53 54 55 56 57 58\n",
      " 59 60 61 62 63 64 65 66 67 68 69 70 71 72 73 74 75 76 77 78 79 80 81 82\n",
      " 83 84 85 86 87 88 89 90 91 92 93 94 95 96 97 98]\n"
     ]
    }
   ],
   "source": []
  },
  {
   "cell_type": "code",
   "execution_count": null,
   "metadata": {},
   "outputs": [],
   "source": []
  },
  {
   "cell_type": "markdown",
   "metadata": {},
   "source": [
    "### Hybrid Search"
   ]
  },
  {
   "cell_type": "raw",
   "metadata": {},
   "source": [
    "Hybrid Search :\n",
    "\n",
    "Pick a range for k (Example: 1 to 10,000)\n",
    "Find KNN accuracy for each power of 10 (1, 10, 100, 1000, 10,000).\n",
    "Choose the range with highest accuracy. Then apply binary search.\n",
    "Hybrid Search = (1) Jump Linear Search on Powers of 10, and then (2) Binary Search"
   ]
  },
  {
   "cell_type": "code",
   "execution_count": 145,
   "metadata": {},
   "outputs": [
    {
     "name": "stdout",
     "output_type": "stream",
     "text": [
      "For k=1 Accuracy=98.4\n",
      "For k=10 Accuracy=99.6\n",
      "For k=100 Accuracy=99.6\n",
      "Highest Accuracy = [99.6] for k = [10, 100]\n"
     ]
    }
   ],
   "source": [
    "#Range (1 to 10000) i.e (1, 10, 100, 1000, 10,000)\n",
    "exponent = 3\n",
    "number = 10\n",
    "power = 1\n",
    "\n",
    "k=[]\n",
    "highest_acc = []\n",
    "for i in range(1, exponent+1):\n",
    "    highest_acc.append(acc(power))\n",
    "    k.append(power)\n",
    "    print(f\"For k={power} Accuracy={acc(power)}\")\n",
    "    power = power * number\n",
    "\n",
    "n = len(highest_acc)\n",
    "max_ac = max(highest_acc)\n",
    "\n",
    "m = [i for i,e in enumerate(highest_acc) if highest_acc[i] == max_ac]\n",
    "\n",
    "key = [ i for i in k for j in m if j== k.index(i)]\n",
    "        \n",
    "print (f\"Highest Accuracy = {result} for k = {key}\") "
   ]
  },
  {
   "cell_type": "code",
   "execution_count": null,
   "metadata": {},
   "outputs": [],
   "source": []
  },
  {
   "cell_type": "code",
   "execution_count": null,
   "metadata": {},
   "outputs": [],
   "source": []
  },
  {
   "cell_type": "code",
   "execution_count": null,
   "metadata": {},
   "outputs": [],
   "source": []
  },
  {
   "cell_type": "code",
   "execution_count": null,
   "metadata": {},
   "outputs": [],
   "source": []
  },
  {
   "cell_type": "code",
   "execution_count": null,
   "metadata": {},
   "outputs": [],
   "source": []
  }
 ],
 "metadata": {
  "kernelspec": {
   "display_name": "Python 3",
   "language": "python",
   "name": "python3"
  },
  "language_info": {
   "codemirror_mode": {
    "name": "ipython",
    "version": 3
   },
   "file_extension": ".py",
   "mimetype": "text/x-python",
   "name": "python",
   "nbconvert_exporter": "python",
   "pygments_lexer": "ipython3",
   "version": "3.6.6"
  }
 },
 "nbformat": 4,
 "nbformat_minor": 4
}
