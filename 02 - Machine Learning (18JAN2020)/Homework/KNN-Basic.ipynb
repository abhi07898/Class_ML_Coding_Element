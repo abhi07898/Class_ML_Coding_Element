{
 "cells": [
  {
   "cell_type": "markdown",
   "metadata": {},
   "source": [
    "# KNN Classification"
   ]
  },
  {
   "cell_type": "markdown",
   "metadata": {},
   "source": [
    "[Coding Elements](http://www.codingelements.com)"
   ]
  },
  {
   "cell_type": "code",
   "execution_count": null,
   "metadata": {},
   "outputs": [],
   "source": []
  },
  {
   "cell_type": "code",
   "execution_count": 1,
   "metadata": {},
   "outputs": [
    {
     "name": "stdout",
     "output_type": "stream",
     "text": [
      "5.196152422706632\n"
     ]
    }
   ],
   "source": [
    "import math \n",
    "\n",
    "a = [1, 2, 3]\n",
    "b = [4, 5, 6]\n",
    "\n",
    "# Scalar\n",
    "\n",
    "sum = 0\n",
    "for i in range(len(a)):\n",
    "    sum += (a[i] - b[i]) ** 2\n",
    "dist = sum ** 0.5\n",
    "print(dist)"
   ]
  },
  {
   "cell_type": "code",
   "execution_count": 2,
   "metadata": {},
   "outputs": [
    {
     "data": {
      "text/plain": [
       "5.196152422706632"
      ]
     },
     "execution_count": 2,
     "metadata": {},
     "output_type": "execute_result"
    }
   ],
   "source": [
    "import numpy as np\n",
    "\n",
    "# Vector \n",
    "\n",
    "a = [1, 2, 3]\n",
    "b = [4, 5, 6]\n",
    "\n",
    "a = np.array(a)\n",
    "b = np.array(b)\n",
    "dist = (np.sum((b-a)**2))**0.5\n",
    "dist"
   ]
  },
  {
   "cell_type": "code",
   "execution_count": null,
   "metadata": {},
   "outputs": [],
   "source": []
  },
  {
   "cell_type": "code",
   "execution_count": null,
   "metadata": {},
   "outputs": [],
   "source": []
  },
  {
   "cell_type": "markdown",
   "metadata": {},
   "source": [
    "# KNN"
   ]
  },
  {
   "cell_type": "code",
   "execution_count": 3,
   "metadata": {},
   "outputs": [],
   "source": [
    "import numpy as np\n",
    "from matplotlib import pyplot as plt\n",
    "%matplotlib inline"
   ]
  },
  {
   "cell_type": "code",
   "execution_count": null,
   "metadata": {},
   "outputs": [],
   "source": []
  },
  {
   "cell_type": "code",
   "execution_count": 4,
   "metadata": {},
   "outputs": [],
   "source": [
    "mean1 = np.array([1, 0])\n",
    "cov1 = np.array([[1, 0.1], [0.1, 1.2]])\n",
    "dist1 = np.random.multivariate_normal(mean1, cov1, 500)\n",
    "\n",
    "mean2 = np.array([4, 5])\n",
    "cov2 = np.array([[1, 0.1], [0.1, 1.2]])\n",
    "dist2 = np.random.multivariate_normal(mean2, cov2, 500)"
   ]
  },
  {
   "cell_type": "code",
   "execution_count": 5,
   "metadata": {},
   "outputs": [
    {
     "data": {
      "image/png": "[encoded data removed]",
      "text/plain": [
       "<Figure size 432x288 with 1 Axes>"
      ]
     },
     "metadata": {
      "needs_background": "light"
     },
     "output_type": "display_data"
    }
   ],
   "source": [
    "plt.figure(0)\n",
    "plt.xlim(-5, 10)\n",
    "plt.ylim(-5, 10)\n",
    "plt.scatter(dist1[:, 0], dist1[:, 1])\n",
    "plt.scatter(dist2[:, 0], dist2[:, 1])\n",
    "plt.show()"
   ]
  },
  {
   "cell_type": "code",
   "execution_count": 6,
   "metadata": {},
   "outputs": [
    {
     "name": "stdout",
     "output_type": "stream",
     "text": [
      "(1000, 3)\n"
     ]
    },
    {
     "data": {
      "text/plain": [
       "array([2.47898989, 2.46136327, 0.5       ])"
      ]
     },
     "execution_count": 6,
     "metadata": {},
     "output_type": "execute_result"
    }
   ],
   "source": [
    "data = np.zeros((1000, 3))\n",
    "\n",
    "data[:500, :2] = dist1\n",
    "data[500:, :2] = dist2\n",
    "data[500:, -1] = 1.0\n",
    "\n",
    "print(data.shape)\n",
    "data.mean(axis=0)"
   ]
  },
  {
   "cell_type": "code",
   "execution_count": 7,
   "metadata": {},
   "outputs": [
    {
     "name": "stdout",
     "output_type": "stream",
     "text": [
      "[[ 0.70942592  0.13939784  0.        ]\n",
      " [ 3.41559261  7.41095689  1.        ]\n",
      " [-0.28994432 -0.37541453  0.        ]\n",
      " [ 2.3487132   0.22079575  0.        ]\n",
      " [ 2.61666658 -1.13184272  0.        ]\n",
      " [ 2.48594072  6.02119992  1.        ]\n",
      " [ 4.45296911  7.90028699  1.        ]\n",
      " [ 0.4232925  -1.12083284  0.        ]\n",
      " [ 2.00924751 -0.32110567  0.        ]\n",
      " [ 5.94938116  6.83611533  1.        ]]\n"
     ]
    }
   ],
   "source": [
    "np.random.shuffle(data)\n",
    "print(data[:10])"
   ]
  },
  {
   "cell_type": "code",
   "execution_count": 8,
   "metadata": {},
   "outputs": [],
   "source": [
    "def distance(a, b):\n",
    "    dist = (np.sum((b-a)**2))**0.5\n",
    "    return dist"
   ]
  },
  {
   "cell_type": "code",
   "execution_count": 17,
   "metadata": {},
   "outputs": [],
   "source": [
    "def knn(x_train, y_train, test_point, k=7):\n",
    "    vals = []\n",
    "    \n",
    "    for i in range(x_train.shape[0]):\n",
    "        d = distance(x_train[i], test_point)\n",
    "        vals.append([d, y_train[i]])\n",
    "        \n",
    "    sorted_labels = sorted(vals, key=lambda r: r[0])\n",
    "    neighbors = np.asarray(sorted_labels)[:k, -1]\n",
    "#     print(neighbors)\n",
    "    \n",
    "    freq = np.unique(neighbors, return_counts=True)\n",
    "    \n",
    "    index = freq[1].argmax()\n",
    "    return freq[0][index]"
   ]
  },
  {
   "cell_type": "code",
   "execution_count": 11,
   "metadata": {},
   "outputs": [
    {
     "name": "stdout",
     "output_type": "stream",
     "text": [
      "[1. 0. 1. 0. 1. 1. 1.]\n",
      "1.0\n"
     ]
    }
   ],
   "source": [
    "x_train = data[:, :2]\n",
    "y_train = data[:, -1]\n",
    "test_point = np.array([2, 3])\n",
    "\n",
    "print(knn(x_train, y_train, test_point))"
   ]
  },
  {
   "cell_type": "code",
   "execution_count": null,
   "metadata": {},
   "outputs": [],
   "source": []
  },
  {
   "cell_type": "code",
   "execution_count": 12,
   "metadata": {},
   "outputs": [
    {
     "name": "stdout",
     "output_type": "stream",
     "text": [
      "(750, 2) (750,)\n",
      "(250, 2) (250,)\n"
     ]
    }
   ],
   "source": [
    "np.random.shuffle(data)\n",
    "\n",
    "split = int(0.75 * data.shape[0])\n",
    "\n",
    "x_train = data[:split, :2]\n",
    "y_train = data[:split, -1]\n",
    "\n",
    "x_test = data[split:, :2]\n",
    "y_test = data[split:, -1]\n",
    "\n",
    "print(x_train.shape, y_train.shape)\n",
    "print(x_test.shape, y_test.shape)"
   ]
  },
  {
   "cell_type": "code",
   "execution_count": 15,
   "metadata": {},
   "outputs": [],
   "source": [
    "def acc(k):\n",
    "    \n",
    "    predictions = []\n",
    "    \n",
    "    for i in range(x_test.shape[0]):\n",
    "        test_point = x_test[i]\n",
    "        predicted_label = knn(x_train, y_train, test_point, k)\n",
    "        predictions.append(predicted_label)\n",
    "        \n",
    "    print(y_test == preds)\n",
    "        \n",
    "    preds = np.asarray(predictions)\n",
    "    return 100 * (y_test == preds).sum() / preds.shape[0]\n",
    "    "
   ]
  },
  {
   "cell_type": "code",
   "execution_count": 19,
   "metadata": {},
   "outputs": [
    {
     "name": "stdout",
     "output_type": "stream",
     "text": [
      "For k=1 the accuracy is 99.2\n",
      "For k=2 the accuracy is 98.4\n",
      "For k=3 the accuracy is 99.2\n",
      "For k=4 the accuracy is 98.8\n",
      "For k=5 the accuracy is 99.6\n",
      "For k=6 the accuracy is 99.6\n",
      "For k=7 the accuracy is 99.6\n",
      "For k=8 the accuracy is 99.6\n",
      "For k=9 the accuracy is 99.6\n",
      "For k=10 the accuracy is 99.6\n",
      "For k=11 the accuracy is 99.6\n",
      "For k=12 the accuracy is 99.6\n",
      "For k=13 the accuracy is 99.6\n",
      "For k=14 the accuracy is 99.6\n",
      "For k=15 the accuracy is 99.6\n",
      "For k=16 the accuracy is 99.6\n",
      "For k=17 the accuracy is 99.6\n",
      "For k=18 the accuracy is 99.6\n",
      "For k=19 the accuracy is 99.6\n",
      "For k=20 the accuracy is 99.6\n",
      "For k=21 the accuracy is 99.6\n",
      "For k=22 the accuracy is 99.6\n",
      "For k=23 the accuracy is 99.6\n",
      "For k=24 the accuracy is 99.6\n",
      "For k=25 the accuracy is 99.6\n",
      "For k=26 the accuracy is 99.6\n",
      "For k=27 the accuracy is 99.6\n",
      "For k=28 the accuracy is 99.6\n",
      "For k=29 the accuracy is 99.6\n",
      "For k=30 the accuracy is 99.6\n",
      "For k=31 the accuracy is 99.6\n",
      "For k=32 the accuracy is 99.6\n",
      "For k=33 the accuracy is 100.0\n",
      "For k=34 the accuracy is 99.6\n",
      "For k=35 the accuracy is 100.0\n",
      "For k=36 the accuracy is 99.6\n",
      "For k=37 the accuracy is 100.0\n",
      "For k=38 the accuracy is 99.6\n",
      "For k=39 the accuracy is 99.6\n",
      "For k=40 the accuracy is 99.6\n",
      "For k=41 the accuracy is 100.0\n",
      "For k=42 the accuracy is 99.6\n",
      "For k=43 the accuracy is 100.0\n",
      "For k=44 the accuracy is 99.6\n",
      "For k=45 the accuracy is 100.0\n",
      "For k=46 the accuracy is 100.0\n",
      "For k=47 the accuracy is 100.0\n",
      "For k=48 the accuracy is 100.0\n",
      "For k=49 the accuracy is 100.0\n"
     ]
    }
   ],
   "source": [
    "for k in range(1, 50):\n",
    "    print(f'For k={k} the accuracy is {acc(k)}')"
   ]
  },
  {
   "cell_type": "code",
   "execution_count": null,
   "metadata": {},
   "outputs": [],
   "source": []
  },
  {
   "cell_type": "code",
   "execution_count": null,
   "metadata": {},
   "outputs": [],
   "source": []
  },
  {
   "cell_type": "code",
   "execution_count": null,
   "metadata": {},
   "outputs": [],
   "source": [
    "#      ! pip3 install scikit-learn"
   ]
  },
  {
   "cell_type": "code",
   "execution_count": 20,
   "metadata": {},
   "outputs": [],
   "source": [
    "import sklearn\n",
    "from sklearn.neighbors import KNeighborsClassifier"
   ]
  },
  {
   "cell_type": "code",
   "execution_count": 21,
   "metadata": {},
   "outputs": [
    {
     "name": "stdout",
     "output_type": "stream",
     "text": [
      "99.6\n"
     ]
    }
   ],
   "source": [
    "neigh = KNeighborsClassifier(n_neighbors=5)\n",
    "neigh.fit(x_train, y_train)\n",
    "print(100*neigh.score(x_test, y_test))"
   ]
  },
  {
   "cell_type": "code",
   "execution_count": null,
   "metadata": {},
   "outputs": [],
   "source": []
  },
  {
   "cell_type": "code",
   "execution_count": null,
   "metadata": {},
   "outputs": [],
   "source": []
  },
  {
   "cell_type": "markdown",
   "metadata": {},
   "source": [
    "[Coding Elements](http://www.codingelements.com)"
   ]
  },
  {
   "cell_type": "code",
   "execution_count": null,
   "metadata": {},
   "outputs": [],
   "source": []
  },
  {
   "cell_type": "code",
   "execution_count": null,
   "metadata": {},
   "outputs": [],
   "source": []
  },
  {
   "cell_type": "code",
   "execution_count": null,
   "metadata": {},
   "outputs": [],
   "source": []
  },
  {
   "cell_type": "code",
   "execution_count": null,
   "metadata": {},
   "outputs": [],
   "source": []
  },
  {
   "cell_type": "code",
   "execution_count": null,
   "metadata": {},
   "outputs": [],
   "source": []
  },
  {
   "cell_type": "code",
   "execution_count": null,
   "metadata": {},
   "outputs": [],
   "source": []
  },
  {
   "cell_type": "code",
   "execution_count": null,
   "metadata": {},
   "outputs": [],
   "source": []
  },
  {
   "cell_type": "code",
   "execution_count": null,
   "metadata": {},
   "outputs": [],
   "source": []
  },
  {
   "cell_type": "code",
   "execution_count": null,
   "metadata": {},
   "outputs": [],
   "source": []
  }
 ],
 "metadata": {
  "kernelspec": {
   "display_name": "Python 3",
   "language": "python",
   "name": "python3"
  },
  "language_info": {
   "codemirror_mode": {
    "name": "ipython",
    "version": 3
   },
   "file_extension": ".py",
   "mimetype": "text/x-python",
   "name": "python",
   "nbconvert_exporter": "python",
   "pygments_lexer": "ipython3",
   "version": "3.7.3"
  }
 },
 "nbformat": 4,
 "nbformat_minor": 2
}
