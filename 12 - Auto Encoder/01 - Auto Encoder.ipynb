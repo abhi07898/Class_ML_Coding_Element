{
 "cells": [
  {
   "cell_type": "markdown",
   "metadata": {},
   "source": [
    "1. Compress  (it s much more depenedetn on train dataset so it not used)\n",
    "2. Encrypt  (it may use may not use)\n",
    "3. Noise Removal (remove the net from images )\n",
    "4. "
   ]
  },
  {
   "cell_type": "markdown",
   "metadata": {},
   "source": [
    "neural netrok unsuprevised learning ... its only a simple example "
   ]
  },
  {
   "cell_type": "code",
   "execution_count": 1,
   "metadata": {},
   "outputs": [],
   "source": [
    "import numpy as np \n",
    "import pandas as pd\n",
    "import matplotlib.pyplot as plt\n",
    "%matplotlib inline\n",
    "\n",
    "from keras.datasets import mnist \n"
   ]
  },
  {
   "cell_type": "code",
   "execution_count": 2,
   "metadata": {},
   "outputs": [],
   "source": [
    "(x_train, _), (x_test, _) = mnist.load_data()   # i am not using the y lable "
   ]
  },
  {
   "cell_type": "code",
   "execution_count": 5,
   "metadata": {},
   "outputs": [],
   "source": [
    "# perofm normalization \n",
    "\n",
    "X_train = x_train.astype('float32') / 255\n",
    "X_test = x_test.astype('float32') / 255"
   ]
  },
  {
   "cell_type": "code",
   "execution_count": 6,
   "metadata": {},
   "outputs": [
    {
     "name": "stdout",
     "output_type": "stream",
     "text": [
      "(60000, 28, 28) (10000, 28, 28)\n"
     ]
    }
   ],
   "source": [
    "print(X_train.shape, X_test.shape)"
   ]
  },
  {
   "cell_type": "code",
   "execution_count": 12,
   "metadata": {},
   "outputs": [],
   "source": [
    "# we use direct DENSE not using conv and flatten here the values \n",
    "X_train = X_train.reshape(-1, 28*28)\n",
    "X_test = X_test.reshape(-1, 28*28)"
   ]
  },
  {
   "cell_type": "code",
   "execution_count": 13,
   "metadata": {},
   "outputs": [
    {
     "name": "stdout",
     "output_type": "stream",
     "text": [
      "(60000, 784) (10000, 784)\n"
     ]
    }
   ],
   "source": [
    "print(X_train.shape, X_test.shape)"
   ]
  },
  {
   "cell_type": "code",
   "execution_count": 14,
   "metadata": {},
   "outputs": [],
   "source": [
    "from keras.models import Model #not use sequential \n",
    "from keras.layers import Input, Dense #specify input \n"
   ]
  },
  {
   "cell_type": "code",
   "execution_count": 15,
   "metadata": {},
   "outputs": [],
   "source": [
    "input_img = Input(shape=(784,))  #input layer \n",
    "encoder = Dense(128, activation='relu')(input_img)  #specify parameter of input \n",
    "encoder = Dense(64, activation='relu')(encoder)\n",
    "encoder = Dense(32, activation='relu')(encoder)\n",
    "\n",
    "\n",
    "decoder = Dense(64, activation='relu')(encoder)\n",
    "decoder = Dense(128, activation='relu')(decoder)\n",
    "decoder = Dense(784, activation='sigmoid')(decoder)\n",
    "\n",
    "\n",
    "# now lets create the auto encoder \n",
    "\n"
   ]
  },
  {
   "cell_type": "code",
   "execution_count": 16,
   "metadata": {},
   "outputs": [
    {
     "name": "stdout",
     "output_type": "stream",
     "text": [
      "Train on 60000 samples, validate on 10000 samples\n",
      "Epoch 1/50\n",
      "60000/60000 [==============================] - 4s 65us/step - loss: 0.3226 - val_loss: 0.2618\n",
      "Epoch 2/50\n",
      "60000/60000 [==============================] - 3s 57us/step - loss: 0.2541 - val_loss: 0.2419\n",
      "Epoch 3/50\n",
      "60000/60000 [==============================] - 3s 55us/step - loss: 0.2308 - val_loss: 0.2216\n",
      "Epoch 4/50\n",
      "60000/60000 [==============================] - 4s 59us/step - loss: 0.2144 - val_loss: 0.2058\n",
      "Epoch 5/50\n",
      "60000/60000 [==============================] - 4s 59us/step - loss: 0.2005 - val_loss: 0.1951\n",
      "Epoch 6/50\n",
      "60000/60000 [==============================] - 3s 56us/step - loss: 0.1925 - val_loss: 0.1857\n",
      "Epoch 7/50\n",
      "60000/60000 [==============================] - 3s 56us/step - loss: 0.1826 - val_loss: 0.1781\n",
      "Epoch 8/50\n",
      "60000/60000 [==============================] - 3s 55us/step - loss: 0.1746 - val_loss: 0.1694\n",
      "Epoch 9/50\n",
      "60000/60000 [==============================] - 4s 59us/step - loss: 0.1690 - val_loss: 0.1641\n",
      "Epoch 10/50\n",
      "60000/60000 [==============================] - 4s 63us/step - loss: 0.1646 - val_loss: 0.1594\n",
      "Epoch 11/50\n",
      "60000/60000 [==============================] - 4s 59us/step - loss: 0.1607 - val_loss: 0.1585\n",
      "Epoch 12/50\n",
      "60000/60000 [==============================] - 4s 59us/step - loss: 0.1571 - val_loss: 0.1571\n",
      "Epoch 13/50\n",
      "60000/60000 [==============================] - 4s 60us/step - loss: 0.1535 - val_loss: 0.1508\n",
      "Epoch 14/50\n",
      "60000/60000 [==============================] - 4s 60us/step - loss: 0.1502 - val_loss: 0.1489\n",
      "Epoch 15/50\n",
      "60000/60000 [==============================] - 4s 59us/step - loss: 0.1474 - val_loss: 0.1437\n",
      "Epoch 16/50\n",
      "60000/60000 [==============================] - 4s 61us/step - loss: 0.1445 - val_loss: 0.1421\n",
      "Epoch 17/50\n",
      "60000/60000 [==============================] - 4s 59us/step - loss: 0.1420 - val_loss: 0.1389\n",
      "Epoch 18/50\n",
      "60000/60000 [==============================] - 4s 59us/step - loss: 0.1396 - val_loss: 0.1396\n",
      "Epoch 19/50\n",
      "60000/60000 [==============================] - 4s 59us/step - loss: 0.1379 - val_loss: 0.1342\n",
      "Epoch 20/50\n",
      "60000/60000 [==============================] - 4s 60us/step - loss: 0.1359 - val_loss: 0.1338\n",
      "Epoch 21/50\n",
      "60000/60000 [==============================] - 4s 59us/step - loss: 0.1343 - val_loss: 0.1323\n",
      "Epoch 22/50\n",
      "60000/60000 [==============================] - 4s 60us/step - loss: 0.1327 - val_loss: 0.1304\n",
      "Epoch 23/50\n",
      "60000/60000 [==============================] - 4s 59us/step - loss: 0.1315 - val_loss: 0.1287\n",
      "Epoch 24/50\n",
      "60000/60000 [==============================] - 3s 58us/step - loss: 0.1300 - val_loss: 0.1284\n",
      "Epoch 25/50\n",
      "60000/60000 [==============================] - 4s 62us/step - loss: 0.1288 - val_loss: 0.1285\n",
      "Epoch 26/50\n",
      "60000/60000 [==============================] - 4s 64us/step - loss: 0.1276 - val_loss: 0.1251\n",
      "Epoch 27/50\n",
      "60000/60000 [==============================] - 4s 66us/step - loss: 0.1264 - val_loss: 0.1266\n",
      "Epoch 28/50\n",
      "60000/60000 [==============================] - 4s 59us/step - loss: 0.1255 - val_loss: 0.1226\n",
      "Epoch 29/50\n",
      "60000/60000 [==============================] - 4s 60us/step - loss: 0.1243 - val_loss: 0.1226\n",
      "Epoch 30/50\n",
      "60000/60000 [==============================] - 4s 59us/step - loss: 0.1234 - val_loss: 0.1235\n",
      "Epoch 31/50\n",
      "60000/60000 [==============================] - 4s 63us/step - loss: 0.1226 - val_loss: 0.1226\n",
      "Epoch 32/50\n",
      "60000/60000 [==============================] - 3s 58us/step - loss: 0.1220 - val_loss: 0.1205\n",
      "Epoch 33/50\n",
      "60000/60000 [==============================] - 4s 58us/step - loss: 0.1212 - val_loss: 0.1197\n",
      "Epoch 34/50\n",
      "60000/60000 [==============================] - 4s 58us/step - loss: 0.1207 - val_loss: 0.1182\n",
      "Epoch 35/50\n",
      "60000/60000 [==============================] - 4s 59us/step - loss: 0.1199 - val_loss: 0.1165\n",
      "Epoch 36/50\n",
      "60000/60000 [==============================] - 4s 60us/step - loss: 0.1194 - val_loss: 0.1184\n",
      "Epoch 37/50\n",
      "60000/60000 [==============================] - 4s 60us/step - loss: 0.1188 - val_loss: 0.1172\n",
      "Epoch 38/50\n",
      "60000/60000 [==============================] - 4s 60us/step - loss: 0.1184 - val_loss: 0.1179\n",
      "Epoch 39/50\n",
      "60000/60000 [==============================] - 4s 59us/step - loss: 0.1177 - val_loss: 0.1168\n",
      "Epoch 40/50\n",
      "60000/60000 [==============================] - 4s 59us/step - loss: 0.1172 - val_loss: 0.1150\n",
      "Epoch 41/50\n",
      "60000/60000 [==============================] - 4s 59us/step - loss: 0.1167 - val_loss: 0.1154\n",
      "Epoch 42/50\n",
      "60000/60000 [==============================] - 4s 60us/step - loss: 0.1162 - val_loss: 0.1163\n",
      "Epoch 43/50\n",
      "60000/60000 [==============================] - 4s 60us/step - loss: 0.1156 - val_loss: 0.1130\n",
      "Epoch 44/50\n",
      "60000/60000 [==============================] - 4s 60us/step - loss: 0.1152 - val_loss: 0.1141\n",
      "Epoch 45/50\n",
      "60000/60000 [==============================] - 4s 61us/step - loss: 0.1146 - val_loss: 0.1145\n",
      "Epoch 46/50\n",
      "60000/60000 [==============================] - 4s 60us/step - loss: 0.1143 - val_loss: 0.1117\n",
      "Epoch 47/50\n",
      "60000/60000 [==============================] - 4s 61us/step - loss: 0.1138 - val_loss: 0.1119\n",
      "Epoch 48/50\n",
      "60000/60000 [==============================] - 4s 60us/step - loss: 0.1133 - val_loss: 0.1118\n",
      "Epoch 49/50\n",
      "60000/60000 [==============================] - 4s 60us/step - loss: 0.1129 - val_loss: 0.1116\n",
      "Epoch 50/50\n",
      "60000/60000 [==============================] - 4s 63us/step - loss: 0.1125 - val_loss: 0.1120\n"
     ]
    },
    {
     "data": {
      "text/plain": [
       "<keras.callbacks.callbacks.History at 0x23a4a9ec518>"
      ]
     },
     "execution_count": 16,
     "metadata": {},
     "output_type": "execute_result"
    }
   ],
   "source": [
    "autoencoder = Model(input_img, decoder ) #(input, output)\n",
    "autoencoder.compile(optimizer='adadelta',\n",
    "                   loss='binary_crossentropy'\n",
    "                   )\n",
    "autoencoder.fit(X_train, X_train,\n",
    "               epochs=50,\n",
    "               batch_size = 256,\n",
    "               validation_data = (X_test, X_test)\n",
    "               )"
   ]
  },
  {
   "cell_type": "code",
   "execution_count": 24,
   "metadata": {},
   "outputs": [
    {
     "data": {
      "image/png": "[encoded data removed]",
      "text/plain": [
       "<Figure size 432x288 with 1 Axes>"
      ]
     },
     "metadata": {
      "needs_background": "light"
     },
     "output_type": "display_data"
    },
    {
     "data": {
      "image/png": "[encoded data removed]",
      "text/plain": [
       "<Figure size 432x288 with 1 Axes>"
      ]
     },
     "metadata": {
      "needs_background": "light"
     },
     "output_type": "display_data"
    }
   ],
   "source": [
    "i=4\n",
    "plt.imshow(X_test[i].reshape(28,28), cmap='gray')  #image is flatted so reshape it \n",
    "plt.show()\n",
    "\n",
    "out = autoencoder.predict(X_test[i].reshape(1,-1))  #1,784 for single image\n",
    "plt.imshow(out[0].reshape(28,28), cmap=\"gray\")\n",
    "plt.show()"
   ]
  },
  {
   "cell_type": "code",
   "execution_count": null,
   "metadata": {},
   "outputs": [],
   "source": []
  },
  {
   "cell_type": "code",
   "execution_count": null,
   "metadata": {},
   "outputs": [],
   "source": []
  },
  {
   "cell_type": "code",
   "execution_count": null,
   "metadata": {},
   "outputs": [],
   "source": []
  },
  {
   "cell_type": "code",
   "execution_count": null,
   "metadata": {},
   "outputs": [],
   "source": []
  },
  {
   "cell_type": "code",
   "execution_count": null,
   "metadata": {},
   "outputs": [],
   "source": []
  },
  {
   "cell_type": "code",
   "execution_count": null,
   "metadata": {},
   "outputs": [],
   "source": []
  },
  {
   "cell_type": "code",
   "execution_count": null,
   "metadata": {},
   "outputs": [],
   "source": []
  },
  {
   "cell_type": "code",
   "execution_count": null,
   "metadata": {},
   "outputs": [],
   "source": []
  },
  {
   "cell_type": "code",
   "execution_count": null,
   "metadata": {},
   "outputs": [],
   "source": []
  },
  {
   "cell_type": "code",
   "execution_count": null,
   "metadata": {},
   "outputs": [],
   "source": []
  }
 ],
 "metadata": {
  "kernelspec": {
   "display_name": "Python 3",
   "language": "python",
   "name": "python3"
  },
  "language_info": {
   "codemirror_mode": {
    "name": "ipython",
    "version": 3
   },
   "file_extension": ".py",
   "mimetype": "text/x-python",
   "name": "python",
   "nbconvert_exporter": "python",
   "pygments_lexer": "ipython3",
   "version": "3.6.6"
  }
 },
 "nbformat": 4,
 "nbformat_minor": 4
}
