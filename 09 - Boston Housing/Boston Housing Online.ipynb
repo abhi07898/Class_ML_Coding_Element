{
 "cells": [
  {
   "cell_type": "code",
   "execution_count": 2,
   "metadata": {},
   "outputs": [],
   "source": [
    "import numpy as np\n",
    "import pandas as pd\n",
    "import matplotlib.pyplot as plt\n",
    "%matplotlib inline"
   ]
  },
  {
   "cell_type": "code",
   "execution_count": 10,
   "metadata": {},
   "outputs": [],
   "source": [
    "from keras.models import Sequential\n",
    "from keras.layers import Dense, Activation \n",
    "from keras.utils import np_utils"
   ]
  },
  {
   "cell_type": "markdown",
   "metadata": {},
   "source": [
    "datasets"
   ]
  },
  {
   "cell_type": "code",
   "execution_count": 6,
   "metadata": {},
   "outputs": [],
   "source": [
    "from keras.datasets import boston_housing\n",
    "(X_train,y_train),(X_test,y_test)=boston_housing.load_data()"
   ]
  },
  {
   "cell_type": "code",
   "execution_count": 7,
   "metadata": {},
   "outputs": [
    {
     "name": "stdout",
     "output_type": "stream",
     "text": [
      "(404, 13) (404,)\n",
      "(102, 13) (102,)\n"
     ]
    }
   ],
   "source": [
    "print(X_train.shape, y_train.shape)\n",
    "print(X_test.shape, y_test.shape)"
   ]
  },
  {
   "cell_type": "markdown",
   "metadata": {},
   "source": [
    "Start building Neural Network Model"
   ]
  },
  {
   "cell_type": "code",
   "execution_count": 12,
   "metadata": {},
   "outputs": [
    {
     "name": "stdout",
     "output_type": "stream",
     "text": [
      "Model: \"sequential_4\"\n",
      "_________________________________________________________________\n",
      "Layer (type)                 Output Shape              Param #   \n",
      "=================================================================\n",
      "dense_1 (Dense)              (None, 100)               1400      \n",
      "_________________________________________________________________\n",
      "activation_1 (Activation)    (None, 100)               0         \n",
      "_________________________________________________________________\n",
      "dense_2 (Dense)              (None, 100)               10100     \n",
      "_________________________________________________________________\n",
      "activation_2 (Activation)    (None, 100)               0         \n",
      "_________________________________________________________________\n",
      "dense_3 (Dense)              (None, 100)               10100     \n",
      "_________________________________________________________________\n",
      "activation_3 (Activation)    (None, 100)               0         \n",
      "_________________________________________________________________\n",
      "dense_4 (Dense)              (None, 100)               10100     \n",
      "_________________________________________________________________\n",
      "activation_4 (Activation)    (None, 100)               0         \n",
      "_________________________________________________________________\n",
      "dense_5 (Dense)              (None, 1)                 101       \n",
      "_________________________________________________________________\n",
      "activation_5 (Activation)    (None, 1)                 0         \n",
      "=================================================================\n",
      "Total params: 31,801\n",
      "Trainable params: 31,801\n",
      "Non-trainable params: 0\n",
      "_________________________________________________________________\n"
     ]
    }
   ],
   "source": [
    "model = Sequential()\n",
    "model.add(Dense(100, input_shape=(13,)))\n",
    "model.add(Activation('relu'))\n",
    "\n",
    "model.add(Dense(100))\n",
    "model.add(Activation('relu'))\n",
    "\n",
    "model.add(Dense(100))\n",
    "model.add(Activation('relu'))\n",
    "\n",
    "model.add(Dense(100))\n",
    "model.add(Activation('relu'))\n",
    "\n",
    "model.add(Dense(1))\n",
    "model.add(Activation('linear'))\n",
    "\n",
    "model.summary()"
   ]
  },
  {
   "cell_type": "markdown",
   "metadata": {},
   "source": [
    "compile model"
   ]
  },
  {
   "cell_type": "code",
   "execution_count": 17,
   "metadata": {},
   "outputs": [
    {
     "name": "stderr",
     "output_type": "stream",
     "text": [
      "c:\\users\\lenovo\\appdata\\local\\programs\\python\\python36\\lib\\site-packages\\ipykernel_launcher.py:9: UserWarning: The `nb_epoch` argument in `fit` has been renamed `epochs`.\n",
      "  if __name__ == '__main__':\n"
     ]
    },
    {
     "name": "stdout",
     "output_type": "stream",
     "text": [
      "Train on 404 samples, validate on 102 samples\n",
      "Epoch 1/50\n",
      " - 0s - loss: 206.0417 - mse: 206.0417 - val_loss: 123.2029 - val_mse: 123.2029\n",
      "Epoch 2/50\n",
      " - 0s - loss: 94.2929 - mse: 94.2929 - val_loss: 93.1511 - val_mse: 93.1511\n",
      "Epoch 3/50\n",
      " - 0s - loss: 70.2748 - mse: 70.2748 - val_loss: 60.5646 - val_mse: 60.5646\n",
      "Epoch 4/50\n",
      " - 0s - loss: 61.5407 - mse: 61.5407 - val_loss: 63.2596 - val_mse: 63.2596\n",
      "Epoch 5/50\n",
      " - 0s - loss: 58.9804 - mse: 58.9804 - val_loss: 59.2431 - val_mse: 59.2431\n",
      "Epoch 6/50\n",
      " - 0s - loss: 57.9744 - mse: 57.9744 - val_loss: 58.7593 - val_mse: 58.7593\n",
      "Epoch 7/50\n",
      " - 0s - loss: 54.3683 - mse: 54.3683 - val_loss: 60.0823 - val_mse: 60.0823\n",
      "Epoch 8/50\n",
      " - 0s - loss: 56.1920 - mse: 56.1920 - val_loss: 56.7390 - val_mse: 56.7390\n",
      "Epoch 9/50\n",
      " - 0s - loss: 57.3227 - mse: 57.3227 - val_loss: 63.5610 - val_mse: 63.5610\n",
      "Epoch 10/50\n",
      " - 0s - loss: 52.9130 - mse: 52.9130 - val_loss: 54.9353 - val_mse: 54.9353\n",
      "Epoch 11/50\n",
      " - 0s - loss: 52.6318 - mse: 52.6318 - val_loss: 56.5754 - val_mse: 56.5754\n",
      "Epoch 12/50\n",
      " - 0s - loss: 47.9863 - mse: 47.9863 - val_loss: 52.0719 - val_mse: 52.0719\n",
      "Epoch 13/50\n",
      " - 0s - loss: 51.0564 - mse: 51.0564 - val_loss: 52.8124 - val_mse: 52.8124\n",
      "Epoch 14/50\n",
      " - 0s - loss: 51.3848 - mse: 51.3848 - val_loss: 50.4838 - val_mse: 50.4838\n",
      "Epoch 15/50\n",
      " - 0s - loss: 47.0683 - mse: 47.0683 - val_loss: 51.8894 - val_mse: 51.8894\n",
      "Epoch 16/50\n",
      " - 0s - loss: 46.3327 - mse: 46.3327 - val_loss: 49.3366 - val_mse: 49.3366\n",
      "Epoch 17/50\n",
      " - 0s - loss: 60.1812 - mse: 60.1812 - val_loss: 64.1393 - val_mse: 64.1393\n",
      "Epoch 18/50\n",
      " - 0s - loss: 46.7788 - mse: 46.7788 - val_loss: 48.6101 - val_mse: 48.6101\n",
      "Epoch 19/50\n",
      " - 0s - loss: 43.6076 - mse: 43.6076 - val_loss: 47.8858 - val_mse: 47.8858\n",
      "Epoch 20/50\n",
      " - 0s - loss: 39.8486 - mse: 39.8486 - val_loss: 45.8616 - val_mse: 45.8616\n",
      "Epoch 21/50\n",
      " - 0s - loss: 38.1920 - mse: 38.1920 - val_loss: 43.0045 - val_mse: 43.0045\n",
      "Epoch 22/50\n",
      " - 0s - loss: 41.6283 - mse: 41.6283 - val_loss: 42.5940 - val_mse: 42.5940\n",
      "Epoch 23/50\n",
      " - 0s - loss: 43.4614 - mse: 43.4614 - val_loss: 45.2560 - val_mse: 45.2560\n",
      "Epoch 24/50\n",
      " - 0s - loss: 43.4635 - mse: 43.4635 - val_loss: 57.3198 - val_mse: 57.3198\n",
      "Epoch 25/50\n",
      " - 0s - loss: 42.1946 - mse: 42.1946 - val_loss: 39.5035 - val_mse: 39.5035\n",
      "Epoch 26/50\n",
      " - 0s - loss: 35.2464 - mse: 35.2464 - val_loss: 51.1020 - val_mse: 51.1020\n",
      "Epoch 27/50\n",
      " - 0s - loss: 36.8419 - mse: 36.8419 - val_loss: 41.6963 - val_mse: 41.6963\n",
      "Epoch 28/50\n",
      " - 0s - loss: 37.7710 - mse: 37.7710 - val_loss: 50.5843 - val_mse: 50.5843\n",
      "Epoch 29/50\n",
      " - 0s - loss: 41.5933 - mse: 41.5933 - val_loss: 47.7698 - val_mse: 47.7698\n",
      "Epoch 30/50\n",
      " - 0s - loss: 33.0434 - mse: 33.0434 - val_loss: 45.6832 - val_mse: 45.6832\n",
      "Epoch 31/50\n",
      " - 0s - loss: 33.2163 - mse: 33.2163 - val_loss: 35.9615 - val_mse: 35.9615\n",
      "Epoch 32/50\n",
      " - 0s - loss: 33.1420 - mse: 33.1420 - val_loss: 36.7834 - val_mse: 36.7834\n",
      "Epoch 33/50\n",
      " - 0s - loss: 31.2147 - mse: 31.2147 - val_loss: 43.8909 - val_mse: 43.8909\n",
      "Epoch 34/50\n",
      " - 0s - loss: 37.2337 - mse: 37.2337 - val_loss: 37.8382 - val_mse: 37.8382\n",
      "Epoch 35/50\n",
      " - 0s - loss: 39.9172 - mse: 39.9172 - val_loss: 42.1312 - val_mse: 42.1312\n",
      "Epoch 36/50\n",
      " - 0s - loss: 30.8146 - mse: 30.8146 - val_loss: 38.6341 - val_mse: 38.6341\n",
      "Epoch 37/50\n",
      " - 0s - loss: 27.0947 - mse: 27.0947 - val_loss: 33.3159 - val_mse: 33.3159\n",
      "Epoch 38/50\n",
      " - 0s - loss: 25.1933 - mse: 25.1933 - val_loss: 61.3856 - val_mse: 61.3857\n",
      "Epoch 39/50\n",
      " - 0s - loss: 29.7485 - mse: 29.7485 - val_loss: 40.5539 - val_mse: 40.5539\n",
      "Epoch 40/50\n",
      " - 0s - loss: 31.9493 - mse: 31.9493 - val_loss: 34.6978 - val_mse: 34.6978\n",
      "Epoch 41/50\n",
      " - 0s - loss: 26.8181 - mse: 26.8181 - val_loss: 37.6082 - val_mse: 37.6082\n",
      "Epoch 42/50\n",
      " - 0s - loss: 26.9915 - mse: 26.9915 - val_loss: 42.4910 - val_mse: 42.4910\n",
      "Epoch 43/50\n",
      " - 0s - loss: 27.0876 - mse: 27.0876 - val_loss: 35.9391 - val_mse: 35.9391\n",
      "Epoch 44/50\n",
      " - 0s - loss: 27.9632 - mse: 27.9632 - val_loss: 38.8514 - val_mse: 38.8514\n",
      "Epoch 45/50\n",
      " - 0s - loss: 28.2106 - mse: 28.2106 - val_loss: 39.2941 - val_mse: 39.2941\n",
      "Epoch 46/50\n",
      " - 0s - loss: 26.5694 - mse: 26.5694 - val_loss: 32.8544 - val_mse: 32.8544\n",
      "Epoch 47/50\n",
      " - 0s - loss: 21.9299 - mse: 21.9299 - val_loss: 48.7297 - val_mse: 48.7297\n",
      "Epoch 48/50\n",
      " - 0s - loss: 24.0016 - mse: 24.0016 - val_loss: 38.1873 - val_mse: 38.1873\n",
      "Epoch 49/50\n",
      " - 0s - loss: 21.4430 - mse: 21.4430 - val_loss: 41.6436 - val_mse: 41.6436\n",
      "Epoch 50/50\n",
      " - 0s - loss: 24.5805 - mse: 24.5805 - val_loss: 34.0349 - val_mse: 34.0349\n"
     ]
    },
    {
     "data": {
      "text/plain": [
       "<keras.callbacks.callbacks.History at 0x29d4f8562e8>"
      ]
     },
     "execution_count": 17,
     "metadata": {},
     "output_type": "execute_result"
    }
   ],
   "source": [
    "model.compile(optimizer='adam',\n",
    "             loss = 'mean_squared_error',\n",
    "             metrics = ['mse'])\n",
    "\n",
    "model.fit(X_train, y_train,\n",
    "         batch_size=32,\n",
    "         nb_epoch=50,\n",
    "         verbose=2,\n",
    "         validation_data=(X_test, y_test))"
   ]
  },
  {
   "cell_type": "code",
   "execution_count": 19,
   "metadata": {},
   "outputs": [
    {
     "data": {
      "text/plain": [
       "array([[10.147964],\n",
       "       [16.869013],\n",
       "       [21.822392],\n",
       "       [28.678123],\n",
       "       [22.748266]], dtype=float32)"
      ]
     },
     "execution_count": 19,
     "metadata": {},
     "output_type": "execute_result"
    }
   ],
   "source": [
    "model.predict(X_test[:5])"
   ]
  },
  {
   "cell_type": "code",
   "execution_count": 21,
   "metadata": {},
   "outputs": [
    {
     "name": "stdout",
     "output_type": "stream",
     "text": [
      "[10.147964  16.869013  21.822392  28.678123  22.748266  19.911137\n",
      " 26.507486  21.787485  17.888195  17.240896  13.384179  19.682041\n",
      " 16.306414  34.522858  14.913942  21.024267  23.765427  18.973543\n",
      " 16.283524  21.697544  10.70167   10.749326  19.670166  15.495399\n",
      " 22.463673  18.870035  24.428473  45.05474   11.969198  23.485514\n",
      " 18.846447  13.310129  27.340626  23.041681  15.464359   8.421866\n",
      " 12.968734  11.2843    19.45589   25.671085  27.412306  21.075092\n",
      " 14.588486  26.37382   41.101997  24.008444  29.82763   18.85849\n",
      " 22.656073  22.23287   37.927185  19.09816   11.548006  16.63425\n",
      " 27.669703  23.797615  13.313883  28.71409   29.413054  24.78368\n",
      " 18.427382  15.489025  14.6591835 19.030212  23.16924   22.528849\n",
      " 14.321361  22.73192   11.432545   9.994839  21.250217  26.403992\n",
      " 19.879309  13.314436  23.52155   19.792973  22.169022  21.915085\n",
      " 31.07812    9.420272  19.864988  34.894833  16.99439   14.09194\n",
      " 20.794899  17.268948  16.377073  19.203957  21.185774  24.901712\n",
      " 18.088974  25.436586  19.800575  27.098125  30.957813  18.466208\n",
      " 36.511684  33.16907   26.179638  40.858906  26.734934  16.647871 ]\n"
     ]
    }
   ],
   "source": [
    "# model.predict(X_test).reshape(-1)\n",
    "print(model.predict(X_test).flatten())"
   ]
  },
  {
   "cell_type": "code",
   "execution_count": 22,
   "metadata": {},
   "outputs": [
    {
     "name": "stdout",
     "output_type": "stream",
     "text": [
      "[ 7.2 18.8 19.  27.  22.2 24.5 31.2 22.9 20.5 23.2 18.6 14.5 17.8 50.\n",
      " 20.8 24.3 24.2 19.8 19.1 22.7 12.  10.2 20.  18.5 20.9 23.  27.5 30.1\n",
      "  9.5 22.  21.2 14.1 33.1 23.4 20.1  7.4 15.4 23.8 20.1 24.5 33.  28.4\n",
      " 14.1 46.7 32.5 29.6 28.4 19.8 20.2 25.  35.4 20.3  9.7 14.5 34.9 26.6\n",
      "  7.2 50.  32.4 21.6 29.8 13.1 27.5 21.2 23.1 21.9 13.  23.2  8.1  5.6\n",
      " 21.7 29.6 19.6  7.  26.4 18.9 20.9 28.1 35.4 10.2 24.3 43.1 17.6 15.4\n",
      " 16.2 27.1 21.4 21.5 22.4 25.  16.6 18.6 22.  42.8 35.1 21.5 36.  21.9\n",
      " 24.1 50.  26.7 25. ]\n"
     ]
    }
   ],
   "source": [
    "print(y_test)"
   ]
  },
  {
   "cell_type": "code",
   "execution_count": 23,
   "metadata": {},
   "outputs": [
    {
     "data": {
      "text/plain": [
       "0.0"
      ]
     },
     "execution_count": 23,
     "metadata": {},
     "output_type": "execute_result"
    }
   ],
   "source": [
    "np.mean(y_test == model.predict(X_test).flatten())"
   ]
  },
  {
   "cell_type": "code",
   "execution_count": 24,
   "metadata": {},
   "outputs": [
    {
     "data": {
      "text/plain": [
       "-481.3185833201689"
      ]
     },
     "execution_count": 24,
     "metadata": {},
     "output_type": "execute_result"
    }
   ],
   "source": [
    "np.sum(y_test - model.predict(X_test).flatten()**2)/ (y_test.shape[0])"
   ]
  },
  {
   "cell_type": "markdown",
   "metadata": {},
   "source": [
    "# plotting "
   ]
  },
  {
   "cell_type": "code",
   "execution_count": 26,
   "metadata": {},
   "outputs": [],
   "source": [
    "y_pred = model.predict(X_test)"
   ]
  },
  {
   "cell_type": "code",
   "execution_count": 27,
   "metadata": {},
   "outputs": [
    {
     "data": {
      "image/png": "[encoded data removed]",
      "text/plain": [
       "<Figure size 432x288 with 1 Axes>"
      ]
     },
     "metadata": {
      "needs_background": "light"
     },
     "output_type": "display_data"
    }
   ],
   "source": [
    "plt .scatter(y_test, y_pred)\n",
    "plt.show()"
   ]
  },
  {
   "cell_type": "markdown",
   "metadata": {},
   "source": [
    "now plot the differences means HITSOGRAM plotting"
   ]
  },
  {
   "cell_type": "code",
   "execution_count": 29,
   "metadata": {},
   "outputs": [
    {
     "data": {
      "image/png": "[encoded data removed]",
      "text/plain": [
       "<Figure size 432x288 with 1 Axes>"
      ]
     },
     "metadata": {
      "needs_background": "light"
     },
     "output_type": "display_data"
    }
   ],
   "source": [
    "plt.hist(y_test - y_pred)\n",
    "plt.show()"
   ]
  },
  {
   "cell_type": "code",
   "execution_count": 30,
   "metadata": {},
   "outputs": [
    {
     "data": {
      "image/png": "[encoded data removed]",
      "text/plain": [
       "<Figure size 432x288 with 1 Axes>"
      ]
     },
     "metadata": {
      "needs_background": "light"
     },
     "output_type": "display_data"
    }
   ],
   "source": [
    "plt.hist(abs(y_test - y_pred))\n",
    "plt.show()"
   ]
  },
  {
   "cell_type": "code",
   "execution_count": null,
   "metadata": {},
   "outputs": [],
   "source": []
  }
 ],
 "metadata": {
  "kernelspec": {
   "display_name": "Python 3",
   "language": "python",
   "name": "python3"
  },
  "language_info": {
   "codemirror_mode": {
    "name": "ipython",
    "version": 3
   },
   "file_extension": ".py",
   "mimetype": "text/x-python",
   "name": "python",
   "nbconvert_exporter": "python",
   "pygments_lexer": "ipython3",
   "version": "3.6.6"
  }
 },
 "nbformat": 4,
 "nbformat_minor": 4
}
