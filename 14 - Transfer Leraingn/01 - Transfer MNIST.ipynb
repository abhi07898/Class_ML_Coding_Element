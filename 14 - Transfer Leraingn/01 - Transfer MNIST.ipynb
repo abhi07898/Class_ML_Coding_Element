{
 "cells": [
  {
   "cell_type": "markdown",
   "metadata": {},
   "source": [
    "# manualyy scratch "
   ]
  },
  {
   "cell_type": "code",
   "execution_count": 1,
   "metadata": {},
   "outputs": [],
   "source": [
    "import numpy as np\n",
    "import matplotlib.pyplot as plt \n",
    "%matplotlib inline "
   ]
  },
  {
   "cell_type": "code",
   "execution_count": 4,
   "metadata": {},
   "outputs": [],
   "source": [
    "from keras.datasets import mnist\n",
    "(x_train, y_train),(x_test, y_test)  = mnist.load_data()"
   ]
  },
  {
   "cell_type": "markdown",
   "metadata": {},
   "source": [
    "print the shape here that we know alreday "
   ]
  },
  {
   "cell_type": "code",
   "execution_count": 7,
   "metadata": {},
   "outputs": [],
   "source": [
    "# split thiese model pretrend\n",
    "#0-4\n",
    "pt_x_train = []\n",
    "pt_y_train = []\n",
    "pt_x_test = []\n",
    "pt_y_test =[]\n",
    "\n",
    "# 5-9\n",
    "tl_x_train = [] \n",
    "tl_y_train = []\n",
    "tl_x_test = []\n",
    "tl_y_test = []\n",
    "\n",
    "m=20000  #on the place of 60k training data\n",
    "for i in range(m):\n",
    "    if y_train[i] < 5:          #pre training y_train and x_train\n",
    "        pt_x_train.append(x_train[i] / 255)  #for noramlization\n",
    "        pt_y_train.append(y_train[i] )\n",
    "    else:\n",
    "        tl_x_train.append(x_train[i] / 255)\n",
    "        tl_y_train.append(y_train[i] )\n",
    "\n",
    "        \n",
    "m=10000  #\n",
    "for i in range(m):\n",
    "    if y_train[i] < 5:          #pre training y_train and x_train\n",
    "        pt_x_test.append(x_train[i] / 255)  #for noramlization\n",
    "        pt_y_test.append(y_train[i] )\n",
    "    else:\n",
    "        tl_x_test.append(x_train[i] / 255)\n",
    "        tl_y_test.append(y_train[i] )\n",
    "        "
   ]
  },
  {
   "cell_type": "code",
   "execution_count": 8,
   "metadata": {},
   "outputs": [],
   "source": [
    "# convert python list into numpy\n",
    "from keras.utils import np_utils\n",
    "pt_x_train = np.asarray(pt_x_train).reshape(-1, 28, 28, 1)\n",
    "pt_x_test = np.asarray(pt_x_test).reshape(-1, 28, 28, 1)\n",
    "tl_x_train = np.asarray(tl_x_train).reshape(-1, 28, 28, 1)\n",
    "tl_x_test = np.asarray(tl_x_test).reshape(-1, 28, 28, 1)\n",
    "\n",
    "\n",
    "\n",
    "pt_y_train = np_utils.to_categorical(np.asarray(pt_y_train))\n",
    "pt_y_test = np_utils.to_categorical(np.asarray(pt_y_test))\n",
    "tl_y_train = np_utils.to_categorical(np.asarray(tl_y_train))\n",
    "tl_y_test = np_utils.to_categorical(np.asarray(tl_y_test))"
   ]
  },
  {
   "cell_type": "code",
   "execution_count": 9,
   "metadata": {},
   "outputs": [
    {
     "name": "stdout",
     "output_type": "stream",
     "text": [
      "(10225, 28, 28, 1) (10225, 5)\n",
      "(5131, 28, 28, 1) (5131, 5)\n",
      "(9775, 28, 28, 1) (9775, 10)\n",
      "(4869, 28, 28, 1) (4869, 10)\n"
     ]
    }
   ],
   "source": [
    "print(pt_x_train.shape, pt_y_train.shape)\n",
    "print(pt_x_test.shape, pt_y_test.shape)\n",
    "\n",
    "print(tl_x_train.shape, tl_y_train.shape)\n",
    "print(tl_x_test.shape, tl_y_test.shape)\n"
   ]
  },
  {
   "cell_type": "code",
   "execution_count": null,
   "metadata": {},
   "outputs": [],
   "source": [
    "# creating model 0-4 the length 5 where 5 to 9 then length 10 "
   ]
  },
  {
   "cell_type": "code",
   "execution_count": 10,
   "metadata": {},
   "outputs": [],
   "source": [
    "from keras.models import Sequential\n",
    "from keras.layers import Conv2D, Flatten, Dense, MaxPool2D, Dropout"
   ]
  },
  {
   "cell_type": "code",
   "execution_count": 12,
   "metadata": {},
   "outputs": [
    {
     "name": "stdout",
     "output_type": "stream",
     "text": [
      "Model: \"sequential_2\"\n",
      "_________________________________________________________________\n",
      "Layer (type)                 Output Shape              Param #   \n",
      "=================================================================\n",
      "conv2d_4 (Conv2D)            (None, 24, 24, 32)        832       \n",
      "_________________________________________________________________\n",
      "conv2d_5 (Conv2D)            (None, 20, 20, 16)        12816     \n",
      "_________________________________________________________________\n",
      "max_pooling2d_2 (MaxPooling2 (None, 10, 10, 16)        0         \n",
      "_________________________________________________________________\n",
      "conv2d_6 (Conv2D)            (None, 8, 8, 8)           1160      \n",
      "_________________________________________________________________\n",
      "flatten_2 (Flatten)          (None, 512)               0         \n",
      "_________________________________________________________________\n",
      "dropout_2 (Dropout)          (None, 512)               0         \n",
      "_________________________________________________________________\n",
      "dense_3 (Dense)              (None, 128)               65664     \n",
      "_________________________________________________________________\n",
      "dense_4 (Dense)              (None, 5)                 645       \n",
      "=================================================================\n",
      "Total params: 81,117\n",
      "Trainable params: 81,117\n",
      "Non-trainable params: 0\n",
      "_________________________________________________________________\n"
     ]
    }
   ],
   "source": [
    "model = Sequential()\n",
    "# pre training model creting \n",
    "model.add(Conv2D(32, 5, activation='relu', input_shape = (28,28,1)))\n",
    "# 24,24,32  28-5+1\n",
    "model.add(Conv2D(16, 5, activation='relu'))\n",
    "#20,20,16\n",
    "model.add(MaxPool2D(pool_size=(2,2)))\n",
    "#10,10,16\n",
    "model.add(Conv2D(8, 3, activation='relu'))\n",
    "#8,8,8\n",
    "model.add(Flatten())\n",
    "\n",
    "model.add(Dropout(0.4))  #randomly weights drop \n",
    "\n",
    "model.add(Dense(128, activation='relu'))\n",
    "\n",
    "model.add(Dense(5, activation='softmax'))\n",
    "\n",
    "\n",
    "model.summary()\n"
   ]
  },
  {
   "cell_type": "code",
   "execution_count": 13,
   "metadata": {},
   "outputs": [],
   "source": [
    "model.compile(loss='categorical_crossentropy',\n",
    "             optimizer='adam',\n",
    "             metrics=['accuracy'])"
   ]
  },
  {
   "cell_type": "code",
   "execution_count": 14,
   "metadata": {},
   "outputs": [],
   "source": [
    "import datetime"
   ]
  },
  {
   "cell_type": "code",
   "execution_count": 16,
   "metadata": {},
   "outputs": [
    {
     "name": "stdout",
     "output_type": "stream",
     "text": [
      "Train on 10225 samples, validate on 5131 samples\n",
      "Epoch 1/10\n",
      " - 13s - loss: 0.3126 - accuracy: 0.9012 - val_loss: 0.0706 - val_accuracy: 0.9780\n",
      "Epoch 2/10\n",
      " - 12s - loss: 0.0780 - accuracy: 0.9739 - val_loss: 0.0438 - val_accuracy: 0.9864\n",
      "Epoch 3/10\n",
      " - 13s - loss: 0.0506 - accuracy: 0.9832 - val_loss: 0.0334 - val_accuracy: 0.9895\n",
      "Epoch 4/10\n",
      " - 13s - loss: 0.0439 - accuracy: 0.9854 - val_loss: 0.0211 - val_accuracy: 0.9934\n",
      "Epoch 5/10\n",
      " - 13s - loss: 0.0360 - accuracy: 0.9875 - val_loss: 0.0206 - val_accuracy: 0.9930\n",
      "Epoch 6/10\n",
      " - 13s - loss: 0.0274 - accuracy: 0.9913 - val_loss: 0.0109 - val_accuracy: 0.9965\n",
      "Epoch 7/10\n",
      " - 13s - loss: 0.0212 - accuracy: 0.9924 - val_loss: 0.0094 - val_accuracy: 0.9969\n",
      "Epoch 8/10\n",
      " - 13s - loss: 0.0194 - accuracy: 0.9933 - val_loss: 0.0057 - val_accuracy: 0.9986\n",
      "Epoch 9/10\n",
      " - 13s - loss: 0.0200 - accuracy: 0.9925 - val_loss: 0.0062 - val_accuracy: 0.9979\n",
      "Epoch 10/10\n",
      " - 13s - loss: 0.0150 - accuracy: 0.9947 - val_loss: 0.0042 - val_accuracy: 0.9990\n",
      "0:02:10.226209\n"
     ]
    }
   ],
   "source": [
    "start = datetime.datetime.now()\n",
    "model.fit(pt_x_train,pt_y_train,\n",
    "         validation_data=(pt_x_test, pt_y_test),\n",
    "         epochs=10,\n",
    "         shuffle=True,\n",
    "         batch_size=100,\n",
    "         verbose=2)\n",
    "end = datetime.datetime.now()\n",
    "print(end - start )"
   ]
  },
  {
   "cell_type": "code",
   "execution_count": 17,
   "metadata": {},
   "outputs": [
    {
     "data": {
      "text/plain": [
       "[<keras.layers.convolutional.Conv2D at 0x264dc0ad7f0>,\n",
       " <keras.layers.convolutional.Conv2D at 0x264dc05b1d0>,\n",
       " <keras.layers.pooling.MaxPooling2D at 0x264dc222dd8>,\n",
       " <keras.layers.convolutional.Conv2D at 0x264dc049b70>,\n",
       " <keras.layers.core.Flatten at 0x264dc049e48>,\n",
       " <keras.layers.core.Dropout at 0x264dc044828>,\n",
       " <keras.layers.core.Dense at 0x264c4b90e48>,\n",
       " <keras.layers.core.Dense at 0x264c4b902e8>]"
      ]
     },
     "execution_count": 17,
     "metadata": {},
     "output_type": "execute_result"
    }
   ],
   "source": [
    "model.layers    #list the using above layers "
   ]
  },
  {
   "cell_type": "code",
   "execution_count": 18,
   "metadata": {},
   "outputs": [
    {
     "name": "stdout",
     "output_type": "stream",
     "text": [
      "False\n",
      "False\n",
      "False\n",
      "False\n",
      "False\n",
      "False\n",
      "True\n",
      "True\n"
     ]
    }
   ],
   "source": [
    "for layer in model.layers[:6]:\n",
    "    layer.trainable = False\n",
    "\n",
    "for layer in model.layers:\n",
    "    print(layer.trainable)"
   ]
  },
  {
   "cell_type": "code",
   "execution_count": 20,
   "metadata": {},
   "outputs": [
    {
     "name": "stdout",
     "output_type": "stream",
     "text": [
      "Model: \"sequential_4\"\n",
      "_________________________________________________________________\n",
      "Layer (type)                 Output Shape              Param #   \n",
      "=================================================================\n",
      "conv2d_4 (Conv2D)            (None, 24, 24, 32)        832       \n",
      "_________________________________________________________________\n",
      "conv2d_5 (Conv2D)            (None, 20, 20, 16)        12816     \n",
      "_________________________________________________________________\n",
      "max_pooling2d_2 (MaxPooling2 (None, 10, 10, 16)        0         \n",
      "_________________________________________________________________\n",
      "conv2d_6 (Conv2D)            (None, 8, 8, 8)           1160      \n",
      "_________________________________________________________________\n",
      "flatten_2 (Flatten)          (None, 512)               0         \n",
      "_________________________________________________________________\n",
      "dropout_2 (Dropout)          (None, 512)               0         \n",
      "_________________________________________________________________\n",
      "dense_6 (Dense)              (None, 128)               65664     \n",
      "_________________________________________________________________\n",
      "dense_7 (Dense)              (None, 10)                1290      \n",
      "=================================================================\n",
      "Total params: 81,762\n",
      "Trainable params: 66,954\n",
      "Non-trainable params: 14,808\n",
      "_________________________________________________________________\n"
     ]
    }
   ],
   "source": [
    "# lets  tranfer image sinto new mode \n",
    "tl_model = Sequential(model.layers[:6])\n",
    "tl_model.add(Dense(128, activation='relu'))\n",
    "tl_model.add(Dense(10,activation='softmax'))\n",
    "tl_model.summary()\n"
   ]
  },
  {
   "cell_type": "code",
   "execution_count": 25,
   "metadata": {},
   "outputs": [],
   "source": [
    "tl_model.compile(loss='categorical_crossentropy',\n",
    "               optimizer = 'adam',\n",
    "               metrics=['accuracy'])"
   ]
  },
  {
   "cell_type": "code",
   "execution_count": 26,
   "metadata": {},
   "outputs": [
    {
     "name": "stdout",
     "output_type": "stream",
     "text": [
      "Train on 9775 samples, validate on 4869 samples\n",
      "Epoch 1/10\n",
      " - 4s - loss: 0.3529 - accuracy: 0.8886 - val_loss: 0.0842 - val_accuracy: 0.9739\n",
      "Epoch 2/10\n",
      " - 4s - loss: 0.1127 - accuracy: 0.9640 - val_loss: 0.0574 - val_accuracy: 0.9819\n",
      "Epoch 3/10\n",
      " - 4s - loss: 0.0841 - accuracy: 0.9723 - val_loss: 0.0433 - val_accuracy: 0.9860\n",
      "Epoch 4/10\n",
      " - 4s - loss: 0.0716 - accuracy: 0.9792 - val_loss: 0.0366 - val_accuracy: 0.9889\n",
      "Epoch 5/10\n",
      " - 4s - loss: 0.0711 - accuracy: 0.9784 - val_loss: 0.0343 - val_accuracy: 0.9885\n",
      "Epoch 6/10\n",
      " - 4s - loss: 0.0678 - accuracy: 0.9773 - val_loss: 0.0285 - val_accuracy: 0.9906\n",
      "Epoch 7/10\n",
      " - 4s - loss: 0.0600 - accuracy: 0.9802 - val_loss: 0.0246 - val_accuracy: 0.9916\n",
      "Epoch 8/10\n",
      " - 4s - loss: 0.0489 - accuracy: 0.9824 - val_loss: 0.0190 - val_accuracy: 0.9934\n",
      "Epoch 9/10\n",
      " - 4s - loss: 0.0492 - accuracy: 0.9833 - val_loss: 0.0212 - val_accuracy: 0.9932\n",
      "Epoch 10/10\n",
      " - 4s - loss: 0.0468 - accuracy: 0.9847 - val_loss: 0.0219 - val_accuracy: 0.9936\n",
      "0:00:37.806833\n"
     ]
    }
   ],
   "source": [
    "start = datetime.datetime.now()\n",
    "tl_model.fit(tl_x_train,tl_y_train,\n",
    "         validation_data=(tl_x_test, tl_y_test),\n",
    "         epochs=10,\n",
    "         shuffle=True,\n",
    "         batch_size=100,\n",
    "         verbose=2)\n",
    "end = datetime.datetime.now()\n",
    "print(end - start )"
   ]
  },
  {
   "cell_type": "code",
   "execution_count": null,
   "metadata": {},
   "outputs": [],
   "source": []
  }
 ],
 "metadata": {
  "kernelspec": {
   "display_name": "Python 3",
   "language": "python",
   "name": "python3"
  },
  "language_info": {
   "codemirror_mode": {
    "name": "ipython",
    "version": 3
   },
   "file_extension": ".py",
   "mimetype": "text/x-python",
   "name": "python",
   "nbconvert_exporter": "python",
   "pygments_lexer": "ipython3",
   "version": "3.6.6"
  }
 },
 "nbformat": 4,
 "nbformat_minor": 4
}
