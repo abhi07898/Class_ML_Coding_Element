{
 "cells": [
  {
   "cell_type": "code",
   "execution_count": 1,
   "metadata": {},
   "outputs": [],
   "source": [
    "import numpy as np \n",
    "import matplotlib.pyplot as plt\n",
    "import pandas as pd"
   ]
  },
  {
   "cell_type": "code",
   "execution_count": 8,
   "metadata": {},
   "outputs": [],
   "source": [
    "from keras.models import Sequential\n",
    "from keras.layers import Dense, Activation \n",
    "from keras.utils import np_utils"
   ]
  },
  {
   "cell_type": "markdown",
   "metadata": {},
   "source": [
    "datasets preparing "
   ]
  },
  {
   "cell_type": "code",
   "execution_count": 4,
   "metadata": {},
   "outputs": [
    {
     "name": "stdout",
     "output_type": "stream",
     "text": [
      "(404, 13) (404,)\n",
      "(102, 13) (102,)\n"
     ]
    }
   ],
   "source": [
    "from keras.datasets import boston_housing\n",
    "(X_train,y_train),(X_test, y_test) = boston_housing.load_data()\n",
    "print(X_train.shape, y_train.shape)\n",
    "print(X_test.shape, y_test.shape)"
   ]
  },
  {
   "cell_type": "markdown",
   "metadata": {},
   "source": [
    "#  Start Building Neural Network Model "
   ]
  },
  {
   "cell_type": "code",
   "execution_count": 10,
   "metadata": {},
   "outputs": [
    {
     "name": "stdout",
     "output_type": "stream",
     "text": [
      "Model: \"sequential_5\"\n",
      "_________________________________________________________________\n",
      "Layer (type)                 Output Shape              Param #   \n",
      "=================================================================\n",
      "dense_2 (Dense)              (None, 100)               1400      \n",
      "_________________________________________________________________\n",
      "activation_2 (Activation)    (None, 100)               0         \n",
      "_________________________________________________________________\n",
      "dense_3 (Dense)              (None, 100)               10100     \n",
      "_________________________________________________________________\n",
      "activation_3 (Activation)    (None, 100)               0         \n",
      "_________________________________________________________________\n",
      "dense_4 (Dense)              (None, 100)               10100     \n",
      "_________________________________________________________________\n",
      "activation_4 (Activation)    (None, 100)               0         \n",
      "_________________________________________________________________\n",
      "dense_5 (Dense)              (None, 1)                 101       \n",
      "_________________________________________________________________\n",
      "activation_5 (Activation)    (None, 1)                 0         \n",
      "=================================================================\n",
      "Total params: 21,701\n",
      "Trainable params: 21,701\n",
      "Non-trainable params: 0\n",
      "_________________________________________________________________\n"
     ]
    }
   ],
   "source": [
    "model = Sequential()\n",
    "model.add(Dense(100, input_shape=(13,)))\n",
    "model.add(Activation ('relu'))\n",
    "\n",
    "model.add(Dense(100))\n",
    "model.add(Activation('relu'))\n",
    "\n",
    "model.add(Dense(100))\n",
    "model.add(Activation('relu'))\n",
    "model.add(Dense(1))   # y=x bcs linear \n",
    "model.add(Activation('linear'))\n",
    "\n",
    "model.summary()"
   ]
  },
  {
   "cell_type": "markdown",
   "metadata": {},
   "source": [
    "# Model compilation "
   ]
  },
  {
   "cell_type": "code",
   "execution_count": 13,
   "metadata": {},
   "outputs": [],
   "source": [
    "model.compile(optimizer='adam',\n",
    "             loss='mean_squared_error',\n",
    "             metrics=['mse'])"
   ]
  },
  {
   "cell_type": "code",
   "execution_count": 21,
   "metadata": {},
   "outputs": [
    {
     "name": "stdout",
     "output_type": "stream",
     "text": [
      "Train on 404 samples, validate on 102 samples\n",
      "Epoch 1/20\n",
      " - 0s - loss: 10.5332 - mse: 10.5332 - val_loss: 25.1035 - val_mse: 25.1035\n",
      "Epoch 2/20\n",
      " - 0s - loss: 9.5611 - mse: 9.5611 - val_loss: 27.0092 - val_mse: 27.0092\n",
      "Epoch 3/20\n",
      " - 0s - loss: 9.1197 - mse: 9.1197 - val_loss: 28.0366 - val_mse: 28.0366\n",
      "Epoch 4/20\n",
      " - 0s - loss: 10.1180 - mse: 10.1180 - val_loss: 27.7773 - val_mse: 27.7773\n",
      "Epoch 5/20\n",
      " - 0s - loss: 11.4237 - mse: 11.4237 - val_loss: 29.2402 - val_mse: 29.2402\n",
      "Epoch 6/20\n",
      " - 0s - loss: 11.2739 - mse: 11.2739 - val_loss: 26.1918 - val_mse: 26.1918\n"
     ]
    },
    {
     "name": "stderr",
     "output_type": "stream",
     "text": [
      "c:\\users\\lenovo\\appdata\\local\\programs\\python\\python36\\lib\\site-packages\\ipykernel_launcher.py:5: UserWarning: The `nb_epoch` argument in `fit` has been renamed `epochs`.\n",
      "  \"\"\"\n"
     ]
    },
    {
     "name": "stdout",
     "output_type": "stream",
     "text": [
      "Epoch 7/20\n",
      " - 0s - loss: 9.5396 - mse: 9.5396 - val_loss: 26.7816 - val_mse: 26.7816\n",
      "Epoch 8/20\n",
      " - 0s - loss: 9.3580 - mse: 9.3580 - val_loss: 27.4054 - val_mse: 27.4054\n",
      "Epoch 9/20\n",
      " - 0s - loss: 8.6679 - mse: 8.6679 - val_loss: 29.9191 - val_mse: 29.9191\n",
      "Epoch 10/20\n",
      " - 0s - loss: 9.0574 - mse: 9.0574 - val_loss: 25.5101 - val_mse: 25.5101\n",
      "Epoch 11/20\n",
      " - 0s - loss: 7.8186 - mse: 7.8186 - val_loss: 29.0546 - val_mse: 29.0546\n",
      "Epoch 12/20\n",
      " - 0s - loss: 8.6133 - mse: 8.6133 - val_loss: 26.3418 - val_mse: 26.3418\n",
      "Epoch 13/20\n",
      " - 0s - loss: 8.7235 - mse: 8.7235 - val_loss: 26.4359 - val_mse: 26.4359\n",
      "Epoch 14/20\n",
      " - 0s - loss: 9.8137 - mse: 9.8137 - val_loss: 28.2933 - val_mse: 28.2933\n",
      "Epoch 15/20\n",
      " - 0s - loss: 9.7189 - mse: 9.7189 - val_loss: 24.0848 - val_mse: 24.0848\n",
      "Epoch 16/20\n",
      " - 0s - loss: 8.9672 - mse: 8.9672 - val_loss: 27.0539 - val_mse: 27.0539\n",
      "Epoch 17/20\n",
      " - 0s - loss: 8.3203 - mse: 8.3203 - val_loss: 24.6932 - val_mse: 24.6932\n",
      "Epoch 18/20\n",
      " - 0s - loss: 8.9307 - mse: 8.9307 - val_loss: 23.8178 - val_mse: 23.8178\n",
      "Epoch 19/20\n",
      " - 0s - loss: 9.0536 - mse: 9.0536 - val_loss: 30.8341 - val_mse: 30.8341\n",
      "Epoch 20/20\n",
      " - 0s - loss: 8.5259 - mse: 8.5259 - val_loss: 30.4300 - val_mse: 30.4300\n"
     ]
    },
    {
     "data": {
      "text/plain": [
       "<keras.callbacks.callbacks.History at 0x23bd0f08080>"
      ]
     },
     "execution_count": 21,
     "metadata": {},
     "output_type": "execute_result"
    }
   ],
   "source": [
    "model.fit(X_train,y_train,\n",
    "         batch_size=32,\n",
    "         nb_epoch=20,\n",
    "         verbose=2,\n",
    "          validation_data=(X_test, y_test))"
   ]
  },
  {
   "cell_type": "code",
   "execution_count": 18,
   "metadata": {},
   "outputs": [
    {
     "data": {
      "text/plain": [
       "array([[ 9.593895],\n",
       "       [19.86828 ],\n",
       "       [22.05973 ],\n",
       "       [39.77585 ],\n",
       "       [24.016518]], dtype=float32)"
      ]
     },
     "execution_count": 18,
     "metadata": {},
     "output_type": "execute_result"
    }
   ],
   "source": [
    "model.predict(X_test)[:5]"
   ]
  },
  {
   "cell_type": "code",
   "execution_count": 24,
   "metadata": {},
   "outputs": [
    {
     "data": {
      "text/plain": [
       "array([11.915615, 19.169277, 20.599089, 42.046215, 22.814764],\n",
       "      dtype=float32)"
      ]
     },
     "execution_count": 24,
     "metadata": {},
     "output_type": "execute_result"
    }
   ],
   "source": [
    "model.predict(X_test).reshape(-1)[:5]"
   ]
  },
  {
   "cell_type": "code",
   "execution_count": 25,
   "metadata": {},
   "outputs": [
    {
     "name": "stdout",
     "output_type": "stream",
     "text": [
      "[ 7.2 18.8 19.  27.  22.2]\n"
     ]
    }
   ],
   "source": [
    "print(y_test[:5])"
   ]
  },
  {
   "cell_type": "markdown",
   "metadata": {},
   "source": [
    "# perdiction label"
   ]
  },
  {
   "cell_type": "code",
   "execution_count": 26,
   "metadata": {},
   "outputs": [
    {
     "data": {
      "text/plain": [
       "-6.266117150212471"
      ]
     },
     "execution_count": 26,
     "metadata": {},
     "output_type": "execute_result"
    }
   ],
   "source": [
    "np.mean((y_test - model.predict(X_test).reshape(-1)**2))/ (y_test.shape[0])"
   ]
  },
  {
   "cell_type": "markdown",
   "metadata": {},
   "source": [
    "# plotting"
   ]
  },
  {
   "cell_type": "code",
   "execution_count": 30,
   "metadata": {},
   "outputs": [
    {
     "data": {
      "image/png": "[encoded data removed]",
      "text/plain": [
       "<Figure size 432x288 with 1 Axes>"
      ]
     },
     "metadata": {
      "needs_background": "light"
     },
     "output_type": "display_data"
    }
   ],
   "source": [
    "plt.scatter(y_test, model.predict(X_test))\n",
    "plt.show()"
   ]
  },
  {
   "cell_type": "markdown",
   "metadata": {},
   "source": [
    "plot differences HIstogream "
   ]
  },
  {
   "cell_type": "code",
   "execution_count": 33,
   "metadata": {},
   "outputs": [
    {
     "data": {
      "image/png": "[encoded data removed]",
      "text/plain": [
       "<Figure size 432x288 with 1 Axes>"
      ]
     },
     "metadata": {
      "needs_background": "light"
     },
     "output_type": "display_data"
    }
   ],
   "source": [
    "plt.hist(y_test - model.predict(X_test))\n",
    "plt.show()"
   ]
  },
  {
   "cell_type": "code",
   "execution_count": 32,
   "metadata": {},
   "outputs": [
    {
     "data": {
      "image/png": "[encoded data removed]",
      "text/plain": [
       "<Figure size 432x288 with 1 Axes>"
      ]
     },
     "metadata": {
      "needs_background": "light"
     },
     "output_type": "display_data"
    }
   ],
   "source": [
    "plt.hist(abs(y_test - model.predict(X_test)))\n",
    "plt.show()"
   ]
  },
  {
   "cell_type": "code",
   "execution_count": null,
   "metadata": {},
   "outputs": [],
   "source": []
  }
 ],
 "metadata": {
  "kernelspec": {
   "display_name": "Python 3",
   "language": "python",
   "name": "python3"
  },
  "language_info": {
   "codemirror_mode": {
    "name": "ipython",
    "version": 3
   },
   "file_extension": ".py",
   "mimetype": "text/x-python",
   "name": "python",
   "nbconvert_exporter": "python",
   "pygments_lexer": "ipython3",
   "version": "3.6.6"
  }
 },
 "nbformat": 4,
 "nbformat_minor": 4
}
