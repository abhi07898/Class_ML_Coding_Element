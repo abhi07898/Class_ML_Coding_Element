{
 "cells": [
  {
   "cell_type": "code",
   "execution_count": 1,
   "metadata": {},
   "outputs": [],
   "source": [
    "import pandas as pd\n",
    "import numpy as np\n",
    "import matplotlib.pyplot as plt\n",
    "%matplotlib inline"
   ]
  },
  {
   "cell_type": "code",
   "execution_count": 3,
   "metadata": {},
   "outputs": [
    {
     "name": "stdout",
     "output_type": "stream",
     "text": [
      "(5000, 2) (5000,)\n"
     ]
    }
   ],
   "source": [
    "from sklearn.datasets import make_circles\n",
    "X, y = make_circles(n_samples=5000, \n",
    "                   factor=0.4)\n",
    "print(X.shape, y.shape)"
   ]
  },
  {
   "cell_type": "code",
   "execution_count": 8,
   "metadata": {},
   "outputs": [
    {
     "data": {
      "image/png": "[encoded data removed]",
      "text/plain": [
       "<Figure size 432x288 with 1 Axes>"
      ]
     },
     "metadata": {
      "needs_background": "light"
     },
     "output_type": "display_data"
    }
   ],
   "source": [
    "# now plotting before the analyising data\n",
    "plt.scatter(X[:,0], X[:,1],c=y)\n",
    "plt.show()"
   ]
  },
  {
   "cell_type": "markdown",
   "metadata": {},
   "source": [
    "# Explore dtataset"
   ]
  },
  {
   "cell_type": "code",
   "execution_count": 11,
   "metadata": {},
   "outputs": [
    {
     "name": "stdout",
     "output_type": "stream",
     "text": [
      "[0 1]\n",
      "(array([0, 1], dtype=int64), array([2500, 2500], dtype=int64))\n"
     ]
    }
   ],
   "source": [
    "print(np.unique(y))\n",
    "print(np.unique(y, return_counts=True))"
   ]
  },
  {
   "cell_type": "code",
   "execution_count": 12,
   "metadata": {},
   "outputs": [],
   "source": [
    "from keras.utils import np_utils\n",
    "Y = np_utils.to_categorical(y)"
   ]
  },
  {
   "cell_type": "code",
   "execution_count": 16,
   "metadata": {},
   "outputs": [
    {
     "name": "stdout",
     "output_type": "stream",
     "text": [
      "after one hot encoded [[1. 0.]\n",
      " [0. 1.]\n",
      " [1. 0.]\n",
      " [1. 0.]\n",
      " [0. 1.]]\n",
      "before one hot encoded [0 1 0 0 1]\n"
     ]
    }
   ],
   "source": [
    "print('after one hot encoded',Y[:5])\n",
    "print('before one hot encoded',y[:5])"
   ]
  },
  {
   "cell_type": "code",
   "execution_count": 18,
   "metadata": {},
   "outputs": [],
   "source": [
    "# applying Sequential Model"
   ]
  },
  {
   "cell_type": "code",
   "execution_count": 31,
   "metadata": {},
   "outputs": [],
   "source": [
    "from sklearn.model_selection import train_test_split\n",
    "X_train,  X_test,Y_train, Y_test = train_test_split(X,Y) "
   ]
  },
  {
   "cell_type": "code",
   "execution_count": 32,
   "metadata": {},
   "outputs": [
    {
     "name": "stdout",
     "output_type": "stream",
     "text": [
      "(3750, 2) (3750, 2)\n"
     ]
    }
   ],
   "source": [
    "print(X_train.shape, Y_train.shape)"
   ]
  },
  {
   "cell_type": "code",
   "execution_count": 33,
   "metadata": {},
   "outputs": [],
   "source": [
    "from keras.layers import Dense, Activation\n",
    "from keras.models import Sequential"
   ]
  },
  {
   "cell_type": "code",
   "execution_count": 34,
   "metadata": {},
   "outputs": [
    {
     "name": "stdout",
     "output_type": "stream",
     "text": [
      "Model: \"sequential_6\"\n",
      "_________________________________________________________________\n",
      "Layer (type)                 Output Shape              Param #   \n",
      "=================================================================\n",
      "dense_8 (Dense)              (None, 5)                 15        \n",
      "_________________________________________________________________\n",
      "activation_6 (Activation)    (None, 5)                 0         \n",
      "_________________________________________________________________\n",
      "dense_9 (Dense)              (None, 2)                 12        \n",
      "_________________________________________________________________\n",
      "activation_7 (Activation)    (None, 2)                 0         \n",
      "=================================================================\n",
      "Total params: 27\n",
      "Trainable params: 27\n",
      "Non-trainable params: 0\n",
      "_________________________________________________________________\n"
     ]
    }
   ],
   "source": [
    "model = Sequential()\n",
    "model.add(Dense(5, input_shape=(2,)))\n",
    "model.add(Activation('relu'))\n",
    "\n",
    "model.add(Dense(2))\n",
    "model.add(Activation('softmax'))\n",
    "\n",
    "model.summary()"
   ]
  },
  {
   "cell_type": "markdown",
   "metadata": {},
   "source": [
    "# model compilation "
   ]
  },
  {
   "cell_type": "code",
   "execution_count": 35,
   "metadata": {},
   "outputs": [],
   "source": [
    "model.compile(optimizer='adam',\n",
    "             loss='binary_crossentropy',\n",
    "             metrics=['accuracy'])"
   ]
  },
  {
   "cell_type": "code",
   "execution_count": 36,
   "metadata": {},
   "outputs": [
    {
     "name": "stdout",
     "output_type": "stream",
     "text": [
      "Train on 3750 samples, validate on 1250 samples\n",
      "Epoch 1/20\n",
      " - 1s - loss: 0.6440 - accuracy: 0.6240 - val_loss: 0.6159 - val_accuracy: 0.6720\n",
      "Epoch 2/20\n",
      " - 1s - loss: 0.5927 - accuracy: 0.7336 - val_loss: 0.5650 - val_accuracy: 0.7840\n",
      "Epoch 3/20\n",
      " - 1s - loss: 0.5311 - accuracy: 0.8504 - val_loss: 0.4986 - val_accuracy: 0.8432\n",
      "Epoch 4/20\n",
      " - 1s - loss: 0.4566 - accuracy: 0.8685 - val_loss: 0.4246 - val_accuracy: 0.8648\n",
      "Epoch 5/20\n",
      " - 1s - loss: 0.3795 - accuracy: 0.8976 - val_loss: 0.3498 - val_accuracy: 0.8904\n",
      "Epoch 6/20\n",
      " - 1s - loss: 0.3060 - accuracy: 0.9235 - val_loss: 0.2808 - val_accuracy: 0.9192\n",
      "Epoch 7/20\n",
      " - 1s - loss: 0.2414 - accuracy: 0.9427 - val_loss: 0.2225 - val_accuracy: 0.9368\n",
      "Epoch 8/20\n",
      " - 1s - loss: 0.1880 - accuracy: 0.9592 - val_loss: 0.1751 - val_accuracy: 0.9520\n",
      "Epoch 9/20\n",
      " - 1s - loss: 0.1458 - accuracy: 0.9723 - val_loss: 0.1364 - val_accuracy: 0.9672\n",
      "Epoch 10/20\n",
      " - 1s - loss: 0.1130 - accuracy: 0.9821 - val_loss: 0.1055 - val_accuracy: 0.9848\n",
      "Epoch 11/20\n",
      " - 1s - loss: 0.0871 - accuracy: 0.9909 - val_loss: 0.0802 - val_accuracy: 0.9936\n",
      "Epoch 12/20\n",
      " - 1s - loss: 0.0664 - accuracy: 1.0000 - val_loss: 0.0598 - val_accuracy: 1.0000\n",
      "Epoch 13/20\n",
      " - 1s - loss: 0.0508 - accuracy: 1.0000 - val_loss: 0.0456 - val_accuracy: 1.0000\n",
      "Epoch 14/20\n",
      " - 1s - loss: 0.0395 - accuracy: 1.0000 - val_loss: 0.0358 - val_accuracy: 1.0000\n",
      "Epoch 15/20\n",
      " - 1s - loss: 0.0313 - accuracy: 1.0000 - val_loss: 0.0285 - val_accuracy: 1.0000\n",
      "Epoch 16/20\n",
      " - 1s - loss: 0.0252 - accuracy: 1.0000 - val_loss: 0.0228 - val_accuracy: 1.0000\n",
      "Epoch 17/20\n",
      " - 1s - loss: 0.0205 - accuracy: 1.0000 - val_loss: 0.0186 - val_accuracy: 1.0000\n",
      "Epoch 18/20\n",
      " - 1s - loss: 0.0168 - accuracy: 1.0000 - val_loss: 0.0153 - val_accuracy: 1.0000\n",
      "Epoch 19/20\n",
      " - 1s - loss: 0.0139 - accuracy: 1.0000 - val_loss: 0.0127 - val_accuracy: 1.0000\n",
      "Epoch 20/20\n",
      " - 1s - loss: 0.0116 - accuracy: 1.0000 - val_loss: 0.0106 - val_accuracy: 1.0000\n"
     ]
    },
    {
     "data": {
      "text/plain": [
       "<keras.callbacks.callbacks.History at 0x2438534def0>"
      ]
     },
     "execution_count": 36,
     "metadata": {},
     "output_type": "execute_result"
    }
   ],
   "source": [
    "model.fit(X_train, Y_train, \n",
    "         batch_size=16,\n",
    "         epochs=20,\n",
    "         verbose=2,\n",
    "         validation_data=(X_test, Y_test))"
   ]
  },
  {
   "cell_type": "code",
   "execution_count": null,
   "metadata": {},
   "outputs": [],
   "source": []
  }
 ],
 "metadata": {
  "kernelspec": {
   "display_name": "Python 3",
   "language": "python",
   "name": "python3"
  },
  "language_info": {
   "codemirror_mode": {
    "name": "ipython",
    "version": 3
   },
   "file_extension": ".py",
   "mimetype": "text/x-python",
   "name": "python",
   "nbconvert_exporter": "python",
   "pygments_lexer": "ipython3",
   "version": "3.6.6"
  }
 },
 "nbformat": 4,
 "nbformat_minor": 4
}
