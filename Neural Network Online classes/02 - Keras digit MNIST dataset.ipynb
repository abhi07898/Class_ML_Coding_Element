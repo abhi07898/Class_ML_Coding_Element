{
 "cells": [
  {
   "cell_type": "code",
   "execution_count": 1,
   "metadata": {},
   "outputs": [],
   "source": [
    "import numpy as np\n",
    "import pandas  as pd\n",
    "import matplotlib.pyplot as plt \n"
   ]
  },
  {
   "cell_type": "code",
   "execution_count": 2,
   "metadata": {},
   "outputs": [
    {
     "name": "stderr",
     "output_type": "stream",
     "text": [
      "Using TensorFlow backend.\n"
     ]
    }
   ],
   "source": [
    "import keras"
   ]
  },
  {
   "cell_type": "code",
   "execution_count": 3,
   "metadata": {},
   "outputs": [
    {
     "data": {
      "text/plain": [
       "'tensorflow'"
      ]
     },
     "execution_count": 3,
     "metadata": {},
     "output_type": "execute_result"
    }
   ],
   "source": [
    "keras.backend.backend()"
   ]
  },
  {
   "cell_type": "code",
   "execution_count": 4,
   "metadata": {},
   "outputs": [],
   "source": [
    "from keras.datasets import mnist\n",
    "(X_train, y_train),(X_test, y_test)=mnist.load_data()"
   ]
  },
  {
   "cell_type": "code",
   "execution_count": 5,
   "metadata": {},
   "outputs": [
    {
     "name": "stdout",
     "output_type": "stream",
     "text": [
      "(60000, 28, 28) (60000,)\n",
      "(10000, 28, 28) (10000,)\n"
     ]
    }
   ],
   "source": [
    "print(X_train.shape, y_train.shape)\n",
    "print(X_test.shape, y_test.shape)"
   ]
  },
  {
   "cell_type": "code",
   "execution_count": 6,
   "metadata": {},
   "outputs": [
    {
     "data": {
      "text/plain": [
       "<matplotlib.image.AxesImage at 0x219f29021d0>"
      ]
     },
     "execution_count": 6,
     "metadata": {},
     "output_type": "execute_result"
    },
    {
     "data": {
      "image/png": "[encoded data removed]",
      "text/plain": [
       "<Figure size 432x288 with 1 Axes>"
      ]
     },
     "metadata": {
      "needs_background": "light"
     },
     "output_type": "display_data"
    }
   ],
   "source": [
    "plt.imshow(X_train[0])\n"
   ]
  },
  {
   "cell_type": "code",
   "execution_count": 7,
   "metadata": {},
   "outputs": [],
   "source": [
    "# perform normilization to normalised the vcalueof X train and test both "
   ]
  },
  {
   "cell_type": "code",
   "execution_count": 8,
   "metadata": {},
   "outputs": [],
   "source": [
    "# X_train = X_train / 255\n",
    "# X_test = X_test / 255"
   ]
  },
  {
   "cell_type": "code",
   "execution_count": 9,
   "metadata": {},
   "outputs": [
    {
     "data": {
      "text/plain": [
       "<matplotlib.image.AxesImage at 0x219f2996710>"
      ]
     },
     "execution_count": 9,
     "metadata": {},
     "output_type": "execute_result"
    },
    {
     "data": {
      "image/png": "[encoded data removed]",
      "text/plain": [
       "<Figure size 432x288 with 1 Axes>"
      ]
     },
     "metadata": {
      "needs_background": "light"
     },
     "output_type": "display_data"
    }
   ],
   "source": [
    "plt.imshow(X_train[0])"
   ]
  },
  {
   "cell_type": "code",
   "execution_count": 19,
   "metadata": {},
   "outputs": [
    {
     "data": {
      "text/plain": [
       "array([0, 1, 2, 3, 4, 5, 6, 7, 8, 9], dtype=uint8)"
      ]
     },
     "execution_count": 19,
     "metadata": {},
     "output_type": "execute_result"
    }
   ],
   "source": [
    "np.unique(y_train)"
   ]
  },
  {
   "cell_type": "code",
   "execution_count": 10,
   "metadata": {},
   "outputs": [
    {
     "name": "stdout",
     "output_type": "stream",
     "text": [
      "(60000, 10)\n"
     ]
    }
   ],
   "source": [
    "from keras.utils import np_utils\n",
    "Y_train = np_utils.to_categorical(y_train)\n",
    "Y_test = np_utils.to_categorical(y_test)\n",
    "\n",
    "print(Y_train.shape)"
   ]
  },
  {
   "cell_type": "code",
   "execution_count": 21,
   "metadata": {},
   "outputs": [
    {
     "name": "stdout",
     "output_type": "stream",
     "text": [
      "[7 2 1 0 4]\n",
      "[[0. 0. 0. 0. 0. 0. 0. 1. 0. 0.]\n",
      " [0. 0. 1. 0. 0. 0. 0. 0. 0. 0.]\n",
      " [0. 1. 0. 0. 0. 0. 0. 0. 0. 0.]\n",
      " [1. 0. 0. 0. 0. 0. 0. 0. 0. 0.]\n",
      " [0. 0. 0. 0. 1. 0. 0. 0. 0. 0.]]\n"
     ]
    }
   ],
   "source": [
    "print(y_test[:5])\n",
    "print(Y_test[:5])"
   ]
  },
  {
   "cell_type": "code",
   "execution_count": 30,
   "metadata": {},
   "outputs": [],
   "source": [
    "# image plotting \n",
    "\n",
    "\n",
    "\n",
    "X_train =X_train.reshape(-1,28,28,1)\n",
    "X_test = X_test.reshape(-1,28,28,1)\n"
   ]
  },
  {
   "cell_type": "code",
   "execution_count": 12,
   "metadata": {},
   "outputs": [
    {
     "name": "stdout",
     "output_type": "stream",
     "text": [
      "(3600, 28, 28, 1) (3600, 10)\n",
      "(900, 28, 28, 1) (900, 10)\n"
     ]
    }
   ],
   "source": [
    "# reduce the dtaaste \n",
    "X_train= X_train[:3600]\n",
    "X_test = X_test[:900]\n",
    "Y_train = Y_train[:3600]\n",
    "Y_test = Y_test[:900]\n",
    "\n",
    "print(X_train.shape, Y_train.shape)\n",
    "print(X_test.shape, Y_test.shape)"
   ]
  },
  {
   "cell_type": "code",
   "execution_count": 13,
   "metadata": {},
   "outputs": [],
   "source": [
    "from keras.models import Sequential\n",
    "from keras.layers import Dense, Activation, Flatten"
   ]
  },
  {
   "cell_type": "code",
   "execution_count": 31,
   "metadata": {},
   "outputs": [
    {
     "name": "stdout",
     "output_type": "stream",
     "text": [
      "Model: \"sequential_2\"\n",
      "_________________________________________________________________\n",
      "Layer (type)                 Output Shape              Param #   \n",
      "=================================================================\n",
      "flatten_2 (Flatten)          (None, 784)               0         \n",
      "_________________________________________________________________\n",
      "dense_4 (Dense)              (None, 100)               78500     \n",
      "_________________________________________________________________\n",
      "dense_5 (Dense)              (None, 100)               10100     \n",
      "_________________________________________________________________\n",
      "dense_6 (Dense)              (None, 10)                1010      \n",
      "=================================================================\n",
      "Total params: 89,610\n",
      "Trainable params: 89,610\n",
      "Non-trainable params: 0\n",
      "_________________________________________________________________\n"
     ]
    }
   ],
   "source": [
    "model = Sequential()\n",
    "\n",
    "model.add(Flatten(input_shape=(28,28,1)))\n",
    "model.add(Dense(100,activation='relu'))\n",
    "model.add(Dense(100, activation='relu'))\n",
    "model.add(Dense(10, activation='softmax'))\n",
    "model.summary()"
   ]
  },
  {
   "cell_type": "markdown",
   "metadata": {},
   "source": [
    "compilation "
   ]
  },
  {
   "cell_type": "code",
   "execution_count": 32,
   "metadata": {},
   "outputs": [],
   "source": [
    "model.compile(loss='categorical_crossentropy',\n",
    "             optimizer='adam',\n",
    "             metrics=['accuracy'])"
   ]
  },
  {
   "cell_type": "markdown",
   "metadata": {},
   "source": [
    "model fitting "
   ]
  },
  {
   "cell_type": "code",
   "execution_count": 34,
   "metadata": {},
   "outputs": [
    {
     "name": "stdout",
     "output_type": "stream",
     "text": [
      "Train on 3600 samples, validate on 900 samples\n",
      "Epoch 1/20\n",
      " - 1s - loss: 8.1584 - accuracy: 0.7142 - val_loss: 3.2215 - val_accuracy: 0.7622\n",
      "Epoch 2/20\n",
      " - 1s - loss: 1.6950 - accuracy: 0.8725 - val_loss: 2.7740 - val_accuracy: 0.8133\n",
      "Epoch 3/20\n",
      " - 1s - loss: 1.1242 - accuracy: 0.8967 - val_loss: 2.7535 - val_accuracy: 0.8256\n",
      "Epoch 4/20\n",
      " - 1s - loss: 0.6986 - accuracy: 0.9250 - val_loss: 2.0530 - val_accuracy: 0.8633\n",
      "Epoch 5/20\n",
      " - 1s - loss: 0.4818 - accuracy: 0.9417 - val_loss: 1.9679 - val_accuracy: 0.8567\n",
      "Epoch 6/20\n",
      " - 1s - loss: 0.2991 - accuracy: 0.9608 - val_loss: 2.2915 - val_accuracy: 0.8600\n",
      "Epoch 7/20\n",
      " - 1s - loss: 0.3780 - accuracy: 0.9600 - val_loss: 2.0284 - val_accuracy: 0.8544\n",
      "Epoch 8/20\n",
      " - 1s - loss: 0.3215 - accuracy: 0.9658 - val_loss: 1.8888 - val_accuracy: 0.8800\n",
      "Epoch 9/20\n",
      " - 1s - loss: 0.5269 - accuracy: 0.9453 - val_loss: 2.7737 - val_accuracy: 0.8667\n",
      "Epoch 10/20\n",
      " - 1s - loss: 0.3459 - accuracy: 0.9622 - val_loss: 2.4248 - val_accuracy: 0.8878\n",
      "Epoch 11/20\n",
      " - 1s - loss: 0.4595 - accuracy: 0.9547 - val_loss: 2.2887 - val_accuracy: 0.8644\n",
      "Epoch 12/20\n",
      " - 1s - loss: 0.3711 - accuracy: 0.9625 - val_loss: 2.2727 - val_accuracy: 0.8689\n",
      "Epoch 13/20\n",
      " - 1s - loss: 0.4459 - accuracy: 0.9636 - val_loss: 1.9657 - val_accuracy: 0.8756\n",
      "Epoch 14/20\n",
      " - 1s - loss: 0.4241 - accuracy: 0.9653 - val_loss: 2.0530 - val_accuracy: 0.8967\n",
      "Epoch 15/20\n",
      " - 1s - loss: 0.2426 - accuracy: 0.9739 - val_loss: 2.1957 - val_accuracy: 0.8867\n",
      "Epoch 16/20\n",
      " - 1s - loss: 0.3303 - accuracy: 0.9686 - val_loss: 1.9910 - val_accuracy: 0.8967\n",
      "Epoch 17/20\n",
      " - 1s - loss: 0.3768 - accuracy: 0.9742 - val_loss: 2.2942 - val_accuracy: 0.8678\n",
      "Epoch 18/20\n",
      " - 1s - loss: 0.2985 - accuracy: 0.9739 - val_loss: 2.3641 - val_accuracy: 0.8811\n",
      "Epoch 19/20\n",
      " - 1s - loss: 0.2920 - accuracy: 0.9739 - val_loss: 1.8426 - val_accuracy: 0.8944\n",
      "Epoch 20/20\n",
      " - 1s - loss: 0.2099 - accuracy: 0.9817 - val_loss: 1.7620 - val_accuracy: 0.9133\n"
     ]
    },
    {
     "data": {
      "text/plain": [
       "<keras.callbacks.callbacks.History at 0x219f33b7a20>"
      ]
     },
     "execution_count": 34,
     "metadata": {},
     "output_type": "execute_result"
    }
   ],
   "source": [
    "model.fit(X_train , Y_train,\n",
    "         validation_data=(X_test, Y_test),\n",
    "         batch_size=16, \n",
    "         epochs=20,\n",
    "         verbose=2)"
   ]
  },
  {
   "cell_type": "code",
   "execution_count": null,
   "metadata": {},
   "outputs": [],
   "source": []
  },
  {
   "cell_type": "code",
   "execution_count": null,
   "metadata": {},
   "outputs": [],
   "source": []
  },
  {
   "cell_type": "code",
   "execution_count": null,
   "metadata": {},
   "outputs": [],
   "source": []
  },
  {
   "cell_type": "code",
   "execution_count": null,
   "metadata": {},
   "outputs": [],
   "source": []
  },
  {
   "cell_type": "code",
   "execution_count": null,
   "metadata": {},
   "outputs": [],
   "source": []
  },
  {
   "cell_type": "code",
   "execution_count": null,
   "metadata": {},
   "outputs": [],
   "source": []
  },
  {
   "cell_type": "code",
   "execution_count": null,
   "metadata": {},
   "outputs": [],
   "source": []
  }
 ],
 "metadata": {
  "kernelspec": {
   "display_name": "Python 3",
   "language": "python",
   "name": "python3"
  },
  "language_info": {
   "codemirror_mode": {
    "name": "ipython",
    "version": 3
   },
   "file_extension": ".py",
   "mimetype": "text/x-python",
   "name": "python",
   "nbconvert_exporter": "python",
   "pygments_lexer": "ipython3",
   "version": "3.6.6"
  }
 },
 "nbformat": 4,
 "nbformat_minor": 4
}
