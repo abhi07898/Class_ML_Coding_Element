{
 "cells": [
  {
   "cell_type": "code",
   "execution_count": 1,
   "metadata": {},
   "outputs": [],
   "source": [
    "import pandas as pd\n",
    "import numpy as np\n",
    "import matplotlib.pyplot as plt "
   ]
  },
  {
   "cell_type": "code",
   "execution_count": 2,
   "metadata": {},
   "outputs": [
    {
     "name": "stderr",
     "output_type": "stream",
     "text": [
      "Using TensorFlow backend.\n"
     ]
    }
   ],
   "source": [
    "from keras.datasets import mnist"
   ]
  },
  {
   "cell_type": "code",
   "execution_count": 3,
   "metadata": {},
   "outputs": [],
   "source": [
    "(X_train, y_train),(X_test, y_test) = mnist.load_data()"
   ]
  },
  {
   "cell_type": "code",
   "execution_count": 4,
   "metadata": {},
   "outputs": [
    {
     "name": "stdout",
     "output_type": "stream",
     "text": [
      "(60000, 28, 28) (60000,)\n",
      "(10000, 28, 28) (10000,)\n"
     ]
    }
   ],
   "source": [
    "print(X_train.shape, y_train.shape)\n",
    "print(X_test.shape, y_test.shape)\n",
    "\n",
    "# 0 to 9 output classes .....and perform onee hot encoder "
   ]
  },
  {
   "cell_type": "code",
   "execution_count": 5,
   "metadata": {},
   "outputs": [
    {
     "data": {
      "text/plain": [
       "array([0, 1, 2, 3, 4, 5, 6, 7, 8, 9], dtype=uint8)"
      ]
     },
     "execution_count": 5,
     "metadata": {},
     "output_type": "execute_result"
    }
   ],
   "source": [
    "np.unique(y_train)"
   ]
  },
  {
   "cell_type": "code",
   "execution_count": 6,
   "metadata": {},
   "outputs": [],
   "source": [
    "from keras.utils import np_utils"
   ]
  },
  {
   "cell_type": "code",
   "execution_count": 7,
   "metadata": {},
   "outputs": [
    {
     "name": "stdout",
     "output_type": "stream",
     "text": [
      "(60000, 10)\n",
      "(10000, 10)\n"
     ]
    }
   ],
   "source": [
    "Y_train = np_utils.to_categorical(y_train)\n",
    "Y_test = np_utils.to_categorical(y_test)\n",
    "print(Y_train.shape)\n",
    "print(Y_test.shape)"
   ]
  },
  {
   "cell_type": "markdown",
   "metadata": {},
   "source": [
    "# plot some images .. to know therer acuurecy it is in better way or not "
   ]
  },
  {
   "cell_type": "code",
   "execution_count": 8,
   "metadata": {},
   "outputs": [
    {
     "data": {
      "text/plain": [
       "<matplotlib.image.AxesImage at 0x1f4a40ad978>"
      ]
     },
     "execution_count": 8,
     "metadata": {},
     "output_type": "execute_result"
    },
    {
     "data": {
      "image/png": "[encoded data removed]",
      "text/plain": [
       "<Figure size 432x288 with 1 Axes>"
      ]
     },
     "metadata": {
      "needs_background": "light"
     },
     "output_type": "display_data"
    }
   ],
   "source": [
    "plt.imshow(X_train[1], cmap='gray')"
   ]
  },
  {
   "cell_type": "code",
   "execution_count": 9,
   "metadata": {},
   "outputs": [],
   "source": [
    "x_train = X_train.reshape(60000,28,28,1)\n",
    "x_test = X_test.reshape(-1,28,28,1)"
   ]
  },
  {
   "cell_type": "code",
   "execution_count": 10,
   "metadata": {},
   "outputs": [
    {
     "name": "stdout",
     "output_type": "stream",
     "text": [
      "(60000, 28, 28, 1) (10000, 28, 28, 1)\n"
     ]
    }
   ],
   "source": [
    "print(x_train.shape, x_test.shape)"
   ]
  },
  {
   "cell_type": "markdown",
   "metadata": {},
   "source": [
    "reduce the size of datasets "
   ]
  },
  {
   "cell_type": "code",
   "execution_count": 11,
   "metadata": {},
   "outputs": [],
   "source": [
    "x_train = x_train[:3600]\n",
    "x_test = x_test[:900]\n",
    "Y_train = Y_train[:3600]\n",
    "Y_test = Y_test[:900]"
   ]
  },
  {
   "cell_type": "code",
   "execution_count": 12,
   "metadata": {},
   "outputs": [
    {
     "name": "stdout",
     "output_type": "stream",
     "text": [
      "(3600, 28, 28, 1) (900, 28, 28, 1) (3600, 10) (900, 10)\n"
     ]
    }
   ],
   "source": [
    "print(x_train.shape, x_test.shape, Y_train.shape, Y_test.shape)"
   ]
  },
  {
   "cell_type": "markdown",
   "metadata": {},
   "source": [
    "# Building Keras Model "
   ]
  },
  {
   "cell_type": "code",
   "execution_count": 13,
   "metadata": {},
   "outputs": [],
   "source": [
    "from keras.models import Sequential\n",
    "from keras.layers import Dense, Activation , Flatten"
   ]
  },
  {
   "cell_type": "code",
   "execution_count": 14,
   "metadata": {},
   "outputs": [],
   "source": [
    "model = Sequential()\n",
    "\n",
    "model.add(Flatten(input_shape=(28,28,1)))\n",
    "\n",
    "model.add(Dense(100))\n",
    "model.add(Activation('relu'))\n",
    "\n",
    "model.add(Dense(100))\n",
    "model.add(Activation('relu'))\n",
    "\n",
    "model.add(Dense(10))\n",
    "model.add(Activation('softmax'))"
   ]
  },
  {
   "cell_type": "markdown",
   "metadata": {},
   "source": [
    "# compile Model "
   ]
  },
  {
   "cell_type": "code",
   "execution_count": 15,
   "metadata": {},
   "outputs": [],
   "source": [
    "model.compile(loss='categorical_crossentropy',\n",
    "             optimizer = 'adam',\n",
    "             metrics = ['accuracy'])"
   ]
  },
  {
   "cell_type": "markdown",
   "metadata": {},
   "source": [
    "fitting"
   ]
  },
  {
   "cell_type": "code",
   "execution_count": 16,
   "metadata": {
    "scrolled": true
   },
   "outputs": [
    {
     "name": "stdout",
     "output_type": "stream",
     "text": [
      "Train on 3600 samples, validate on 900 samples\n",
      "Epoch 1/12\n",
      " - 1s - loss: 8.4264 - accuracy: 0.7236 - val_loss: 3.6868 - val_accuracy: 0.7789\n",
      "Epoch 2/12\n",
      " - 1s - loss: 1.7615 - accuracy: 0.8714 - val_loss: 2.5342 - val_accuracy: 0.8289\n",
      "Epoch 3/12\n",
      " - 1s - loss: 1.0537 - accuracy: 0.9106 - val_loss: 3.0024 - val_accuracy: 0.8167\n",
      "Epoch 4/12\n",
      " - 1s - loss: 0.7790 - accuracy: 0.9267 - val_loss: 2.4172 - val_accuracy: 0.8033\n",
      "Epoch 5/12\n",
      " - 1s - loss: 0.6959 - accuracy: 0.9342 - val_loss: 2.5660 - val_accuracy: 0.8100\n",
      "Epoch 6/12\n",
      " - 1s - loss: 0.4952 - accuracy: 0.9481 - val_loss: 2.0545 - val_accuracy: 0.8633\n",
      "Epoch 7/12\n",
      " - 1s - loss: 0.3244 - accuracy: 0.9611 - val_loss: 2.1792 - val_accuracy: 0.8678\n",
      "Epoch 8/12\n",
      " - 1s - loss: 0.4275 - accuracy: 0.9522 - val_loss: 2.1022 - val_accuracy: 0.8689\n",
      "Epoch 9/12\n",
      " - 1s - loss: 0.3835 - accuracy: 0.9606 - val_loss: 1.5536 - val_accuracy: 0.8878\n",
      "Epoch 10/12\n",
      " - 1s - loss: 0.3535 - accuracy: 0.9600 - val_loss: 2.3636 - val_accuracy: 0.8733\n",
      "Epoch 11/12\n",
      " - 1s - loss: 0.7390 - accuracy: 0.9450 - val_loss: 2.1386 - val_accuracy: 0.8900\n",
      "Epoch 12/12\n",
      " - 1s - loss: 0.3174 - accuracy: 0.9703 - val_loss: 2.0913 - val_accuracy: 0.8733\n"
     ]
    },
    {
     "data": {
      "text/plain": [
       "<keras.callbacks.callbacks.History at 0x1f4a45b7f60>"
      ]
     },
     "execution_count": 16,
     "metadata": {},
     "output_type": "execute_result"
    }
   ],
   "source": [
    "model.fit(x_train, Y_train,\n",
    "         validation_data=(x_test, Y_test),\n",
    "         batch_size = 16,\n",
    "         epochs=12,\n",
    "         verbose=2)"
   ]
  },
  {
   "cell_type": "markdown",
   "metadata": {},
   "source": [
    "# Few hidden layers, few neurons (20)"
   ]
  },
  {
   "cell_type": "code",
   "execution_count": 18,
   "metadata": {},
   "outputs": [
    {
     "name": "stdout",
     "output_type": "stream",
     "text": [
      "Train on 3600 samples, validate on 900 samples\n",
      "Epoch 1/12\n",
      " - 1s - loss: 5.2805 - accuracy: 0.2656 - val_loss: 2.2836 - val_accuracy: 0.3033\n",
      "Epoch 2/12\n",
      " - 1s - loss: 1.9213 - accuracy: 0.3328 - val_loss: 2.1802 - val_accuracy: 0.3244\n",
      "Epoch 3/12\n",
      " - 1s - loss: 1.7419 - accuracy: 0.3783 - val_loss: 1.8518 - val_accuracy: 0.3511\n",
      "Epoch 4/12\n",
      " - 1s - loss: 1.6282 - accuracy: 0.4183 - val_loss: 1.7950 - val_accuracy: 0.4033\n",
      "Epoch 5/12\n",
      " - 1s - loss: 1.5368 - accuracy: 0.4489 - val_loss: 1.8125 - val_accuracy: 0.4344\n",
      "Epoch 6/12\n",
      " - 1s - loss: 1.4820 - accuracy: 0.4847 - val_loss: 1.9357 - val_accuracy: 0.4478\n",
      "Epoch 7/12\n",
      " - 1s - loss: 1.3968 - accuracy: 0.4811 - val_loss: 2.1541 - val_accuracy: 0.4689\n",
      "Epoch 8/12\n",
      " - 1s - loss: 1.3685 - accuracy: 0.5064 - val_loss: 1.7547 - val_accuracy: 0.4633\n",
      "Epoch 9/12\n",
      " - 1s - loss: 1.3162 - accuracy: 0.5156 - val_loss: 2.6291 - val_accuracy: 0.5367\n",
      "Epoch 10/12\n",
      " - 1s - loss: 1.3037 - accuracy: 0.5275 - val_loss: 1.8174 - val_accuracy: 0.4600\n",
      "Epoch 11/12\n",
      " - 1s - loss: 1.1908 - accuracy: 0.5494 - val_loss: 1.8872 - val_accuracy: 0.5056\n",
      "Epoch 12/12\n",
      " - 1s - loss: 1.1606 - accuracy: 0.5561 - val_loss: 1.7713 - val_accuracy: 0.4833\n"
     ]
    },
    {
     "data": {
      "text/plain": [
       "<keras.callbacks.callbacks.History at 0x1f4a6525fd0>"
      ]
     },
     "execution_count": 18,
     "metadata": {},
     "output_type": "execute_result"
    }
   ],
   "source": [
    "from keras.models import Sequential\n",
    "from keras.layers import Dense, Activation , Flatten\n",
    "\n",
    "\n",
    "\n",
    "\n",
    "\n",
    "\n",
    "model = Sequential()\n",
    "model.add(Flatten(input_shape=(28,28,1)))\n",
    "model.add(Dense(20))\n",
    "model.add(Activation('relu'))\n",
    "model.add(Dense(10))\n",
    "model.add(Activation('softmax'))\n",
    "\n",
    "\n",
    "\n",
    "model.compile(loss='categorical_crossentropy',\n",
    "             optimizer = 'adam',\n",
    "             metrics = ['accuracy'])\n",
    "\n",
    "\n",
    "\n",
    "\n",
    "model.fit(x_train, Y_train,\n",
    "         validation_data=(x_test, Y_test),\n",
    "         batch_size = 16,\n",
    "         epochs=12,\n",
    "         verbose=2)"
   ]
  },
  {
   "cell_type": "markdown",
   "metadata": {},
   "source": [
    "# Few hidden layers, medium neurons (100)"
   ]
  },
  {
   "cell_type": "code",
   "execution_count": 20,
   "metadata": {},
   "outputs": [
    {
     "name": "stdout",
     "output_type": "stream",
     "text": [
      "Train on 3600 samples, validate on 900 samples\n",
      "Epoch 1/12\n",
      "3600/3600 [==============================] - 1s 306us/step - loss: 14.9396 - accuracy: 0.7408 - val_loss: 7.6412 - val_accuracy: 0.8056\n",
      "Epoch 2/12\n",
      "3600/3600 [==============================] - 1s 270us/step - loss: 3.0908 - accuracy: 0.8792 - val_loss: 3.7500 - val_accuracy: 0.8511\n",
      "Epoch 3/12\n",
      "3600/3600 [==============================] - 1s 277us/step - loss: 1.5752 - accuracy: 0.9192 - val_loss: 3.2050 - val_accuracy: 0.8533\n",
      "Epoch 4/12\n",
      "3600/3600 [==============================] - 1s 268us/step - loss: 1.0038 - accuracy: 0.9411 - val_loss: 3.3222 - val_accuracy: 0.8689\n",
      "Epoch 5/12\n",
      "3600/3600 [==============================] - 1s 257us/step - loss: 0.5818 - accuracy: 0.9567 - val_loss: 4.2993 - val_accuracy: 0.8456\n",
      "Epoch 6/12\n",
      "3600/3600 [==============================] - 1s 290us/step - loss: 0.4876 - accuracy: 0.9650 - val_loss: 3.2682 - val_accuracy: 0.8767\n",
      "Epoch 7/12\n",
      "3600/3600 [==============================] - 1s 293us/step - loss: 0.7980 - accuracy: 0.9481 - val_loss: 3.5173 - val_accuracy: 0.8722\n",
      "Epoch 8/12\n",
      "3600/3600 [==============================] - 1s 265us/step - loss: 0.4315 - accuracy: 0.9694 - val_loss: 2.8006 - val_accuracy: 0.9011\n",
      "Epoch 9/12\n",
      "3600/3600 [==============================] - 1s 268us/step - loss: 0.4245 - accuracy: 0.9669 - val_loss: 3.3848 - val_accuracy: 0.8767\n",
      "Epoch 10/12\n",
      "3600/3600 [==============================] - 1s 299us/step - loss: 0.2409 - accuracy: 0.9772 - val_loss: 3.2421 - val_accuracy: 0.8844\n",
      "Epoch 11/12\n",
      "3600/3600 [==============================] - 1s 272us/step - loss: 0.4481 - accuracy: 0.9700 - val_loss: 3.2621 - val_accuracy: 0.8711\n",
      "Epoch 12/12\n",
      "3600/3600 [==============================] - 1s 286us/step - loss: 0.4893 - accuracy: 0.9694 - val_loss: 2.7705 - val_accuracy: 0.8833\n"
     ]
    },
    {
     "data": {
      "text/plain": [
       "<keras.callbacks.callbacks.History at 0x1f4a7ffcf98>"
      ]
     },
     "execution_count": 20,
     "metadata": {},
     "output_type": "execute_result"
    }
   ],
   "source": [
    "from keras.models import Sequential\n",
    "from keras.layers import Dense, Activation , Flatten\n",
    "\n",
    "\n",
    "\n",
    "\n",
    "\n",
    "\n",
    "model = Sequential()\n",
    "model.add(Flatten(input_shape=(28,28,1)))\n",
    "model.add(Dense(100))\n",
    "model.add(Activation('relu'))\n",
    "model.add(Dense(10))\n",
    "model.add(Activation('softmax'))\n",
    "\n",
    "\n",
    "\n",
    "model.compile(loss='categorical_crossentropy',\n",
    "             optimizer = 'adam',\n",
    "             metrics = ['accuracy'])\n",
    "\n",
    "\n",
    "\n",
    "\n",
    "model.fit(x_train, Y_train,\n",
    "         validation_data=(x_test, Y_test),\n",
    "         batch_size = 16,\n",
    "         epochs=12,\n",
    "         verbose=1)"
   ]
  },
  {
   "cell_type": "markdown",
   "metadata": {},
   "source": [
    "# Few hidden layers, more neurons (1000)"
   ]
  },
  {
   "cell_type": "code",
   "execution_count": 21,
   "metadata": {},
   "outputs": [
    {
     "name": "stdout",
     "output_type": "stream",
     "text": [
      "Train on 3600 samples, validate on 900 samples\n",
      "Epoch 1/12\n",
      " - 3s - loss: 18.4634 - accuracy: 0.8103 - val_loss: 11.4965 - val_accuracy: 0.8111\n",
      "Epoch 2/12\n",
      " - 3s - loss: 3.4121 - accuracy: 0.9219 - val_loss: 4.4772 - val_accuracy: 0.8956\n",
      "Epoch 3/12\n",
      " - 3s - loss: 1.7648 - accuracy: 0.9442 - val_loss: 5.5118 - val_accuracy: 0.8956\n",
      "Epoch 4/12\n",
      " - 3s - loss: 1.3642 - accuracy: 0.9586 - val_loss: 4.5869 - val_accuracy: 0.9178\n",
      "Epoch 5/12\n",
      " - 3s - loss: 1.5235 - accuracy: 0.9586 - val_loss: 4.9429 - val_accuracy: 0.9011\n",
      "Epoch 6/12\n",
      " - 3s - loss: 1.0406 - accuracy: 0.9667 - val_loss: 5.4027 - val_accuracy: 0.8956\n",
      "Epoch 7/12\n",
      " - 3s - loss: 0.9663 - accuracy: 0.9675 - val_loss: 5.6981 - val_accuracy: 0.8811\n",
      "Epoch 8/12\n",
      " - 3s - loss: 1.1304 - accuracy: 0.9658 - val_loss: 4.4452 - val_accuracy: 0.9078\n",
      "Epoch 9/12\n",
      " - 3s - loss: 1.4127 - accuracy: 0.9631 - val_loss: 5.4066 - val_accuracy: 0.8989\n",
      "Epoch 10/12\n",
      " - 3s - loss: 1.1405 - accuracy: 0.9683 - val_loss: 5.9983 - val_accuracy: 0.9033\n",
      "Epoch 11/12\n",
      " - 3s - loss: 0.9870 - accuracy: 0.9736 - val_loss: 7.0978 - val_accuracy: 0.8989\n",
      "Epoch 12/12\n",
      " - 3s - loss: 0.9917 - accuracy: 0.9750 - val_loss: 6.7821 - val_accuracy: 0.8978\n"
     ]
    },
    {
     "data": {
      "text/plain": [
       "<keras.callbacks.callbacks.History at 0x1f4a8e1bf28>"
      ]
     },
     "execution_count": 21,
     "metadata": {},
     "output_type": "execute_result"
    }
   ],
   "source": [
    "from keras.models import Sequential\n",
    "from keras.layers import Dense, Activation , Flatten\n",
    "\n",
    "\n",
    "\n",
    "\n",
    "\n",
    "\n",
    "model = Sequential()\n",
    "model.add(Flatten(input_shape=(28,28,1)))\n",
    "model.add(Dense(1000))\n",
    "model.add(Activation('relu'))\n",
    "model.add(Dense(10))\n",
    "model.add(Activation('softmax'))\n",
    "\n",
    "\n",
    "\n",
    "model.compile(loss='categorical_crossentropy',\n",
    "             optimizer = 'adam',\n",
    "             metrics = ['accuracy'])\n",
    "\n",
    "\n",
    "\n",
    "\n",
    "model.fit(x_train, Y_train,\n",
    "         validation_data=(x_test, Y_test),\n",
    "         batch_size = 16,\n",
    "         epochs=12,\n",
    "         verbose=2)"
   ]
  },
  {
   "cell_type": "code",
   "execution_count": null,
   "metadata": {},
   "outputs": [],
   "source": []
  },
  {
   "cell_type": "markdown",
   "metadata": {},
   "source": [
    "# More hidden layers, more neurons (100, 100)"
   ]
  },
  {
   "cell_type": "code",
   "execution_count": 22,
   "metadata": {},
   "outputs": [
    {
     "name": "stdout",
     "output_type": "stream",
     "text": [
      "Train on 3600 samples, validate on 900 samples\n",
      "Epoch 1/12\n",
      " - 1s - loss: 8.2841 - accuracy: 0.7286 - val_loss: 4.1382 - val_accuracy: 0.7611\n",
      "Epoch 2/12\n",
      " - 1s - loss: 1.6853 - accuracy: 0.8758 - val_loss: 2.7021 - val_accuracy: 0.8089\n",
      "Epoch 3/12\n",
      " - 1s - loss: 0.9687 - accuracy: 0.9061 - val_loss: 2.3569 - val_accuracy: 0.8478\n",
      "Epoch 4/12\n",
      " - 1s - loss: 0.6732 - accuracy: 0.9339 - val_loss: 2.1446 - val_accuracy: 0.8556\n",
      "Epoch 5/12\n",
      " - 1s - loss: 0.4635 - accuracy: 0.9500 - val_loss: 2.1800 - val_accuracy: 0.8633\n",
      "Epoch 6/12\n",
      " - 1s - loss: 0.5670 - accuracy: 0.9422 - val_loss: 2.3210 - val_accuracy: 0.8600\n",
      "Epoch 7/12\n",
      " - 1s - loss: 0.6111 - accuracy: 0.9417 - val_loss: 2.0360 - val_accuracy: 0.8678\n",
      "Epoch 8/12\n",
      " - 1s - loss: 0.4419 - accuracy: 0.9583 - val_loss: 1.5980 - val_accuracy: 0.8978\n",
      "Epoch 9/12\n",
      " - 1s - loss: 0.4428 - accuracy: 0.9578 - val_loss: 2.0315 - val_accuracy: 0.8778\n",
      "Epoch 10/12\n",
      " - 1s - loss: 0.3100 - accuracy: 0.9681 - val_loss: 2.5298 - val_accuracy: 0.8733\n",
      "Epoch 11/12\n",
      " - 1s - loss: 0.2886 - accuracy: 0.9667 - val_loss: 1.9768 - val_accuracy: 0.8844\n",
      "Epoch 12/12\n",
      " - 1s - loss: 0.3145 - accuracy: 0.9678 - val_loss: 2.2192 - val_accuracy: 0.8800\n"
     ]
    },
    {
     "data": {
      "text/plain": [
       "<keras.callbacks.callbacks.History at 0x1f4a8c3af60>"
      ]
     },
     "execution_count": 22,
     "metadata": {},
     "output_type": "execute_result"
    }
   ],
   "source": [
    "from keras.models import Sequential\n",
    "from keras.layers import Dense, Activation , Flatten\n",
    "\n",
    "\n",
    "\n",
    "\n",
    "\n",
    "\n",
    "model = Sequential()\n",
    "model.add(Flatten(input_shape=(28,28,1)))\n",
    "model.add(Dense(100))\n",
    "model.add(Activation('relu'))\n",
    "model.add(Dense(100))\n",
    "model.add(Activation('relu'))\n",
    "model.add(Dense(10))\n",
    "model.add(Activation('softmax'))\n",
    "\n",
    "\n",
    "\n",
    "model.compile(loss='categorical_crossentropy',\n",
    "             optimizer = 'adam',\n",
    "             metrics = ['accuracy'])\n",
    "\n",
    "\n",
    "\n",
    "\n",
    "model.fit(x_train, Y_train,\n",
    "         validation_data=(x_test, Y_test),\n",
    "         batch_size = 16,\n",
    "         epochs=12,\n",
    "         verbose=2)"
   ]
  },
  {
   "cell_type": "markdown",
   "metadata": {},
   "source": [
    "# More hidden layers, few neurons (20, 20, 20)"
   ]
  },
  {
   "cell_type": "code",
   "execution_count": 23,
   "metadata": {},
   "outputs": [
    {
     "name": "stdout",
     "output_type": "stream",
     "text": [
      "Train on 3600 samples, validate on 900 samples\n",
      "Epoch 1/12\n",
      " - 1s - loss: 5.4023 - accuracy: 0.2644 - val_loss: 2.0648 - val_accuracy: 0.2556\n",
      "Epoch 2/12\n",
      " - 1s - loss: 1.7953 - accuracy: 0.3067 - val_loss: 1.8310 - val_accuracy: 0.3011\n",
      "Epoch 3/12\n",
      " - 1s - loss: 1.5826 - accuracy: 0.3797 - val_loss: 1.6816 - val_accuracy: 0.3822\n",
      "Epoch 4/12\n",
      " - 1s - loss: 1.3807 - accuracy: 0.5306 - val_loss: 1.8211 - val_accuracy: 0.5333\n",
      "Epoch 5/12\n",
      " - 1s - loss: 1.2257 - accuracy: 0.5956 - val_loss: 1.3180 - val_accuracy: 0.5667\n",
      "Epoch 6/12\n",
      " - 1s - loss: 1.0972 - accuracy: 0.6219 - val_loss: 1.2780 - val_accuracy: 0.5789\n",
      "Epoch 7/12\n",
      " - 1s - loss: 1.0130 - accuracy: 0.6581 - val_loss: 1.2623 - val_accuracy: 0.6022\n",
      "Epoch 8/12\n",
      " - 1s - loss: 0.9650 - accuracy: 0.6697 - val_loss: 1.2273 - val_accuracy: 0.5733\n",
      "Epoch 9/12\n",
      " - 1s - loss: 0.8778 - accuracy: 0.6914 - val_loss: 1.1522 - val_accuracy: 0.6344\n",
      "Epoch 10/12\n",
      " - 1s - loss: 0.8199 - accuracy: 0.7172 - val_loss: 1.1041 - val_accuracy: 0.6278\n",
      "Epoch 11/12\n",
      " - 1s - loss: 0.8237 - accuracy: 0.7208 - val_loss: 1.1364 - val_accuracy: 0.6322\n",
      "Epoch 12/12\n",
      " - 1s - loss: 0.7688 - accuracy: 0.7353 - val_loss: 1.0904 - val_accuracy: 0.6322\n"
     ]
    },
    {
     "data": {
      "text/plain": [
       "<keras.callbacks.callbacks.History at 0x1f4aab13fd0>"
      ]
     },
     "execution_count": 23,
     "metadata": {},
     "output_type": "execute_result"
    }
   ],
   "source": [
    "from keras.models import Sequential\n",
    "from keras.layers import Dense, Activation , Flatten\n",
    "\n",
    "\n",
    "\n",
    "\n",
    "\n",
    "\n",
    "model = Sequential()\n",
    "model.add(Flatten(input_shape=(28,28,1)))\n",
    "model.add(Dense(20))\n",
    "model.add(Activation('relu'))\n",
    "model.add(Dense(20))\n",
    "model.add(Activation('relu'))\n",
    "model.add(Dense(10))\n",
    "model.add(Activation('softmax'))\n",
    "\n",
    "\n",
    "\n",
    "model.compile(loss='categorical_crossentropy',\n",
    "             optimizer = 'adam',\n",
    "             metrics = ['accuracy'])\n",
    "\n",
    "\n",
    "\n",
    "\n",
    "model.fit(x_train, Y_train,\n",
    "         validation_data=(x_test, Y_test),\n",
    "         batch_size = 16,\n",
    "         epochs=12,\n",
    "         verbose=2)"
   ]
  },
  {
   "cell_type": "code",
   "execution_count": null,
   "metadata": {},
   "outputs": [],
   "source": []
  },
  {
   "cell_type": "code",
   "execution_count": null,
   "metadata": {},
   "outputs": [],
   "source": []
  },
  {
   "cell_type": "code",
   "execution_count": null,
   "metadata": {},
   "outputs": [],
   "source": []
  },
  {
   "cell_type": "code",
   "execution_count": null,
   "metadata": {},
   "outputs": [],
   "source": []
  },
  {
   "cell_type": "code",
   "execution_count": null,
   "metadata": {},
   "outputs": [],
   "source": []
  },
  {
   "cell_type": "code",
   "execution_count": null,
   "metadata": {},
   "outputs": [],
   "source": []
  },
  {
   "cell_type": "code",
   "execution_count": null,
   "metadata": {},
   "outputs": [],
   "source": []
  }
 ],
 "metadata": {
  "kernelspec": {
   "display_name": "Python 3",
   "language": "python",
   "name": "python3"
  },
  "language_info": {
   "codemirror_mode": {
    "name": "ipython",
    "version": 3
   },
   "file_extension": ".py",
   "mimetype": "text/x-python",
   "name": "python",
   "nbconvert_exporter": "python",
   "pygments_lexer": "ipython3",
   "version": "3.6.6"
  }
 },
 "nbformat": 4,
 "nbformat_minor": 4
}
