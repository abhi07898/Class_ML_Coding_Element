{
 "cells": [
  {
   "cell_type": "code",
   "execution_count": 1,
   "metadata": {},
   "outputs": [],
   "source": [
    "import numpy as  np \n",
    "import matplotlib.pyplot as plt"
   ]
  },
  {
   "cell_type": "code",
   "execution_count": 2,
   "metadata": {},
   "outputs": [
    {
     "name": "stderr",
     "output_type": "stream",
     "text": [
      "Using TensorFlow backend.\n"
     ]
    }
   ],
   "source": [
    "from keras.datasets import mnist"
   ]
  },
  {
   "cell_type": "code",
   "execution_count": 3,
   "metadata": {},
   "outputs": [],
   "source": [
    "(x_train,y_train),(x_test, y_test) = mnist.load_data()"
   ]
  },
  {
   "cell_type": "code",
   "execution_count": 4,
   "metadata": {},
   "outputs": [
    {
     "name": "stdout",
     "output_type": "stream",
     "text": [
      "(60000, 28, 28) (60000,)\n",
      "(10000, 28, 28) (10000,)\n"
     ]
    }
   ],
   "source": [
    "print(x_train.shape, y_train.shape)\n",
    "print(x_test.shape, y_test.shape)"
   ]
  },
  {
   "cell_type": "markdown",
   "metadata": {},
   "source": [
    "<!-- SPLIT the MNIST dataset bs=cs we r goig to \n",
    "perform tranbsfer lerainng so \n",
    "we traned the model witn 0-4 digits and \n",
    "test tha mpodel with 5-9 didgit sets -->"
   ]
  },
  {
   "cell_type": "code",
   "execution_count": 5,
   "metadata": {},
   "outputs": [],
   "source": [
    "pt_x_train = []\n",
    "pt_y_train = []\n",
    "pt_x_test = []\n",
    "pt_y_test = []\n",
    "\n",
    "\n",
    "tl_x_train = []\n",
    "tl_y_train = []\n",
    "tl_x_test = []\n",
    "tl_y_test = []"
   ]
  },
  {
   "cell_type": "code",
   "execution_count": 6,
   "metadata": {},
   "outputs": [],
   "source": [
    "# we deco=ided to eotk with only 20k images \n",
    "\n",
    "m = 20000\n",
    "for i in range(m):\n",
    "    if y_train[i]<5:\n",
    "        pt_x_train.append(x_train[i]/255)\n",
    "        pt_y_train.append(y_train[i])\n",
    "    else:\n",
    "        tl_x_train.append(x_train[i]/255)\n",
    "        tl_y_train.append(y_train[i])\n",
    "\n",
    "\n",
    "m2=10000  #\n",
    "for i in range(m2):\n",
    "    if y_test[i]<5:          #pre training y_train and x_train\n",
    "        pt_x_test.append(x_test[i]/255)  #for noramlization\n",
    "        pt_y_test.append(y_test[i] )\n",
    "    else:\n",
    "        tl_x_test.append(x_test[i]/255)\n",
    "        tl_y_test.append(y_test[i] )\n",
    "        "
   ]
  },
  {
   "cell_type": "markdown",
   "metadata": {},
   "source": [
    "Reshapping the data "
   ]
  },
  {
   "cell_type": "code",
   "execution_count": null,
   "metadata": {},
   "outputs": [],
   "source": []
  },
  {
   "cell_type": "code",
   "execution_count": 7,
   "metadata": {},
   "outputs": [],
   "source": [
    "pt_x_train = np.asarray(pt_x_train).reshape(-1,28,28,1)\n",
    "pt_x_test = np.asarray(pt_x_test).reshape(-1,28,28,1)\n",
    "tl_x_train = np.asarray(tl_x_train).reshape(-1,28,28,1)\n",
    "tl_x_test = np.asarray(tl_x_test).reshape(-1,28,28,1)\n"
   ]
  },
  {
   "cell_type": "code",
   "execution_count": 8,
   "metadata": {},
   "outputs": [],
   "source": [
    "from keras.utils import np_utils"
   ]
  },
  {
   "cell_type": "code",
   "execution_count": 9,
   "metadata": {},
   "outputs": [],
   "source": [
    "pt_y_train = np_utils.to_categorical(np.asarray(pt_y_train))\n",
    "pt_y_test = np_utils.to_categorical(np.asarray(pt_y_test))\n",
    "tl_y_train = np_utils.to_categorical(np.asarray(tl_y_train))\n",
    "tl_y_test = np_utils.to_categorical(np.asarray(tl_y_test))"
   ]
  },
  {
   "cell_type": "code",
   "execution_count": 10,
   "metadata": {},
   "outputs": [
    {
     "name": "stdout",
     "output_type": "stream",
     "text": [
      "(10225, 28, 28, 1) (10225, 5)\n",
      "(5139, 28, 28, 1) (5139, 5)\n",
      "(9775, 28, 28, 1) (9775, 10)\n",
      "(4861, 28, 28, 1) (4861, 10)\n"
     ]
    }
   ],
   "source": [
    "print(pt_x_train.shape, pt_y_train.shape)\n",
    "print(pt_x_test.shape, pt_y_test.shape)\n",
    "print(tl_x_train.shape, tl_y_train.shape)\n",
    "print(tl_x_test.shape, tl_y_test.shape)"
   ]
  },
  {
   "cell_type": "markdown",
   "metadata": {},
   "source": [
    "Pretrend Model "
   ]
  },
  {
   "cell_type": "code",
   "execution_count": 11,
   "metadata": {},
   "outputs": [],
   "source": [
    "from keras.models import Sequential\n",
    "from keras.layers import Dense, Conv2D, Flatten, Activation, MaxPool2D, Dropout"
   ]
  },
  {
   "cell_type": "code",
   "execution_count": 12,
   "metadata": {},
   "outputs": [
    {
     "name": "stdout",
     "output_type": "stream",
     "text": [
      "Model: \"sequential_1\"\n",
      "_________________________________________________________________\n",
      "Layer (type)                 Output Shape              Param #   \n",
      "=================================================================\n",
      "conv2d_1 (Conv2D)            (None, 24, 24, 32)        832       \n",
      "_________________________________________________________________\n",
      "conv2d_2 (Conv2D)            (None, 20, 20, 16)        12816     \n",
      "_________________________________________________________________\n",
      "max_pooling2d_1 (MaxPooling2 (None, 10, 10, 16)        0         \n",
      "_________________________________________________________________\n",
      "conv2d_3 (Conv2D)            (None, 8, 8, 8)           1160      \n",
      "_________________________________________________________________\n",
      "flatten_1 (Flatten)          (None, 512)               0         \n",
      "_________________________________________________________________\n",
      "dropout_1 (Dropout)          (None, 512)               0         \n",
      "_________________________________________________________________\n",
      "dense_1 (Dense)              (None, 128)               65664     \n",
      "_________________________________________________________________\n",
      "activation_1 (Activation)    (None, 128)               0         \n",
      "_________________________________________________________________\n",
      "dense_2 (Dense)              (None, 5)                 645       \n",
      "_________________________________________________________________\n",
      "activation_2 (Activation)    (None, 5)                 0         \n",
      "=================================================================\n",
      "Total params: 81,117\n",
      "Trainable params: 81,117\n",
      "Non-trainable params: 0\n",
      "_________________________________________________________________\n"
     ]
    }
   ],
   "source": [
    "model = Sequential()\n",
    "\n",
    "model.add(Conv2D(32,(5,5), input_shape=(28,28,1), activation='relu'))\n",
    "\n",
    "model.add(Conv2D(16,(5,5), activation='relu'))\n",
    "\n",
    "model.add(MaxPool2D(pool_size=(2,2)))\n",
    "\n",
    "model.add(Conv2D(8,(3,3), activation='relu'))\n",
    "\n",
    "model.add(Flatten())\n",
    "\n",
    "model.add(Dropout(0.4))\n",
    "\n",
    "model.add(Dense(128))\n",
    "model.add(Activation('relu'))\n",
    "\n",
    "model.add(Dense(5))\n",
    "model.add(Activation('softmax'))\n",
    "\n",
    "model.summary()"
   ]
  },
  {
   "cell_type": "markdown",
   "metadata": {},
   "source": [
    "TRaining "
   ]
  },
  {
   "cell_type": "code",
   "execution_count": 13,
   "metadata": {},
   "outputs": [],
   "source": [
    "model.compile(loss='categorical_crossentropy',\n",
    "             optimizer='adam',\n",
    "             metrics=['accuracy'])\n",
    "\n"
   ]
  },
  {
   "cell_type": "code",
   "execution_count": 15,
   "metadata": {},
   "outputs": [
    {
     "name": "stdout",
     "output_type": "stream",
     "text": [
      "Train on 10225 samples, validate on 5139 samples\n",
      "Epoch 1/2\n",
      " - 20s - loss: 0.0381 - accuracy: 0.9876 - val_loss: 0.0194 - val_accuracy: 0.9930\n",
      "Epoch 2/2\n",
      " - 20s - loss: 0.0329 - accuracy: 0.9899 - val_loss: 0.0124 - val_accuracy: 0.9959\n",
      "0:00:40.073923\n"
     ]
    }
   ],
   "source": [
    "import datetime\n",
    "\n",
    "start  =  datetime.datetime.now()\n",
    "model.fit(pt_x_train, pt_y_train,\n",
    "         validation_data=(pt_x_test,pt_y_test),\n",
    "         epochs=2,\n",
    "         batch_size=16,\n",
    "         verbose=2)\n",
    "end = datetime.datetime.now()\n",
    "print(end-start)"
   ]
  },
  {
   "cell_type": "code",
   "execution_count": 16,
   "metadata": {},
   "outputs": [
    {
     "data": {
      "text/plain": [
       "[<keras.layers.convolutional.Conv2D at 0x27245c22ef0>,\n",
       " <keras.layers.convolutional.Conv2D at 0x27245c25358>,\n",
       " <keras.layers.pooling.MaxPooling2D at 0x27245c255f8>,\n",
       " <keras.layers.convolutional.Conv2D at 0x27245c25fd0>,\n",
       " <keras.layers.core.Flatten at 0x27245c25518>,\n",
       " <keras.layers.core.Dropout at 0x2725417aef0>,\n",
       " <keras.layers.core.Dense at 0x2725419d208>,\n",
       " <keras.layers.core.Activation at 0x2725419dd68>,\n",
       " <keras.layers.core.Dense at 0x2725015c400>,\n",
       " <keras.layers.core.Activation at 0x2725419dac8>]"
      ]
     },
     "execution_count": 16,
     "metadata": {},
     "output_type": "execute_result"
    }
   ],
   "source": [
    "model.layers"
   ]
  },
  {
   "cell_type": "code",
   "execution_count": 25,
   "metadata": {},
   "outputs": [
    {
     "name": "stdout",
     "output_type": "stream",
     "text": [
      "False\n",
      "False\n",
      "False\n",
      "False\n",
      "False\n",
      "False\n",
      "True\n",
      "True\n",
      "True\n",
      "True\n"
     ]
    }
   ],
   "source": [
    "for layer in model.layers[:6]:\n",
    "    layer.trainable=False\n",
    "\n",
    "for layer in model.layers:\n",
    "    print(layer.trainable)"
   ]
  },
  {
   "cell_type": "markdown",
   "metadata": {},
   "source": [
    "first 6 --> False or frediging \n",
    "last 4 --> True ..."
   ]
  },
  {
   "cell_type": "code",
   "execution_count": 26,
   "metadata": {},
   "outputs": [
    {
     "name": "stdout",
     "output_type": "stream",
     "text": [
      "Model: \"sequential_3\"\n",
      "_________________________________________________________________\n",
      "Layer (type)                 Output Shape              Param #   \n",
      "=================================================================\n",
      "conv2d_1 (Conv2D)            (None, 24, 24, 32)        832       \n",
      "_________________________________________________________________\n",
      "conv2d_2 (Conv2D)            (None, 20, 20, 16)        12816     \n",
      "_________________________________________________________________\n",
      "max_pooling2d_1 (MaxPooling2 (None, 10, 10, 16)        0         \n",
      "_________________________________________________________________\n",
      "conv2d_3 (Conv2D)            (None, 8, 8, 8)           1160      \n",
      "_________________________________________________________________\n",
      "flatten_1 (Flatten)          (None, 512)               0         \n",
      "_________________________________________________________________\n",
      "dropout_1 (Dropout)          (None, 512)               0         \n",
      "_________________________________________________________________\n",
      "dense_5 (Dense)              (None, 128)               65664     \n",
      "_________________________________________________________________\n",
      "activation_5 (Activation)    (None, 128)               0         \n",
      "_________________________________________________________________\n",
      "dense_6 (Dense)              (None, 10)                1290      \n",
      "_________________________________________________________________\n",
      "activation_6 (Activation)    (None, 10)                0         \n",
      "=================================================================\n",
      "Total params: 81,762\n",
      "Trainable params: 66,954\n",
      "Non-trainable params: 14,808\n",
      "_________________________________________________________________\n"
     ]
    }
   ],
   "source": [
    "tl_model = Sequential(model.layers[:6])\n",
    "\n",
    "tl_model.add(Dense(128))\n",
    "tl_model.add(Activation('relu'))\n",
    "\n",
    "tl_model.add(Dense(10))\n",
    "tl_model.add(Activation('softmax'))\n",
    "\n",
    "tl_model.summary()"
   ]
  },
  {
   "cell_type": "markdown",
   "metadata": {},
   "source": [
    "# results"
   ]
  },
  {
   "cell_type": "code",
   "execution_count": 27,
   "metadata": {},
   "outputs": [],
   "source": [
    "tl_model.compile(loss=\"categorical_crossentropy\",\n",
    "                 optimizer=\"adam\",\n",
    "                 metrics=['accuracy']\n",
    "                 )"
   ]
  },
  {
   "cell_type": "code",
   "execution_count": 28,
   "metadata": {},
   "outputs": [
    {
     "name": "stdout",
     "output_type": "stream",
     "text": [
      "Train on 9775 samples, validate on 4861 samples\n",
      "Epoch 1/1\n",
      " - 4s - loss: 0.3542 - accuracy: 0.8929 - val_loss: 0.0922 - val_accuracy: 0.9722\n",
      "0:00:04.739628\n"
     ]
    }
   ],
   "source": [
    "start = datetime.datetime.now()\n",
    "tl_model.fit(tl_x_train, tl_y_train,\n",
    "            validation_data=(tl_x_test, tl_y_test),\n",
    "            shuffle=True,\n",
    "            batch_size=100,\n",
    "            verbose=2)\n",
    "end = datetime.datetime.now()\n",
    "print(end-start)"
   ]
  },
  {
   "cell_type": "code",
   "execution_count": null,
   "metadata": {},
   "outputs": [],
   "source": []
  },
  {
   "cell_type": "code",
   "execution_count": null,
   "metadata": {},
   "outputs": [],
   "source": []
  },
  {
   "cell_type": "code",
   "execution_count": null,
   "metadata": {},
   "outputs": [],
   "source": []
  }
 ],
 "metadata": {
  "kernelspec": {
   "display_name": "Python 3",
   "language": "python",
   "name": "python3"
  },
  "language_info": {
   "codemirror_mode": {
    "name": "ipython",
    "version": 3
   },
   "file_extension": ".py",
   "mimetype": "text/x-python",
   "name": "python",
   "nbconvert_exporter": "python",
   "pygments_lexer": "ipython3",
   "version": "3.6.6"
  }
 },
 "nbformat": 4,
 "nbformat_minor": 4
}
