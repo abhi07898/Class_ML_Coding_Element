{
 "cells": [
  {
   "cell_type": "code",
   "execution_count": 3,
   "metadata": {},
   "outputs": [],
   "source": [
    "import numpy as np\n",
    "import pandas as pd\n",
    "import matplotlib.pyplot as plt"
   ]
  },
  {
   "cell_type": "code",
   "execution_count": 7,
   "metadata": {},
   "outputs": [],
   "source": [
    "from keras.datasets import mnist"
   ]
  },
  {
   "cell_type": "code",
   "execution_count": 5,
   "metadata": {},
   "outputs": [],
   "source": [
    "(X_train, y_train), (X_test, y_test) = mnist.load_data() "
   ]
  },
  {
   "cell_type": "code",
   "execution_count": 6,
   "metadata": {},
   "outputs": [
    {
     "name": "stdout",
     "output_type": "stream",
     "text": [
      "(60000, 28, 28) (60000,)\n",
      "(10000, 28, 28) (10000,)\n"
     ]
    }
   ],
   "source": [
    "print(X_train.shape, y_train.shape)\n",
    "print(X_test.shape, y_test.shape)"
   ]
  },
  {
   "cell_type": "markdown",
   "metadata": {},
   "source": [
    "# Split the MNIST data set "
   ]
  },
  {
   "cell_type": "code",
   "execution_count": 8,
   "metadata": {},
   "outputs": [],
   "source": [
    "pt_x_train = []\n",
    "pt_y_train = []\n",
    "pt_x_test = []\n",
    "pt_y_test = []\n",
    "\n",
    "tl_x_train = []\n",
    "tl_y_train = []\n",
    "tl_x_test = []\n",
    "tl_y_test = []\n"
   ]
  },
  {
   "cell_type": "markdown",
   "metadata": {},
   "source": [
    "we r only working with 20k dataste "
   ]
  },
  {
   "cell_type": "code",
   "execution_count": 9,
   "metadata": {},
   "outputs": [],
   "source": [
    "m = 20000\n",
    "for i in range(m):\n",
    "    if y_train[i]<5:\n",
    "        pt_x_train.append(X_train[i]/255)\n",
    "        pt_y_train.append(y_train[i])\n",
    "    else:\n",
    "        tl_x_train.append(X_train[i]/255)\n",
    "        tl_y_train.append(y_train[i])\n",
    "        \n",
    "mm = 10000\n",
    "for i in range(mm):\n",
    "    if y_test[i]<5:\n",
    "        pt_x_test.append(X_test[i]/255)\n",
    "        pt_y_test.append(y_test[i])\n",
    "    else:\n",
    "        tl_x_test.append(X_test[i]/255)\n",
    "        tl_y_test.append(y_test[i])\n",
    "    "
   ]
  },
  {
   "cell_type": "code",
   "execution_count": 10,
   "metadata": {},
   "outputs": [],
   "source": [
    "pt_x_train = np.asarray(pt_x_train).reshape(-1,28,28,1)\n",
    "pt_x_test = np.asarray(pt_x_test).reshape(-1,28,28,1)\n",
    "\n",
    "tl_x_train = np.asarray(tl_x_train).reshape(-1,28,28,1)\n",
    "tl_x_test = np.asarray(tl_x_test).reshape(-1,28,28,1)"
   ]
  },
  {
   "cell_type": "code",
   "execution_count": 11,
   "metadata": {},
   "outputs": [
    {
     "name": "stdout",
     "output_type": "stream",
     "text": [
      "(10225, 28, 28, 1) (9775, 28, 28, 1)\n",
      "(5139, 28, 28, 1) (4861, 28, 28, 1)\n"
     ]
    }
   ],
   "source": [
    "print(pt_x_train.shape, tl_x_train.shape)\n",
    "print(pt_x_test.shape, tl_x_test.shape)"
   ]
  },
  {
   "cell_type": "code",
   "execution_count": 16,
   "metadata": {},
   "outputs": [],
   "source": [
    "from keras.utils import np_utils\n"
   ]
  },
  {
   "cell_type": "code",
   "execution_count": 17,
   "metadata": {},
   "outputs": [],
   "source": [
    "pt_y_train = np_utils.to_categorical(np.asarray(pt_y_train))\n",
    "pt_y_test = np_utils.to_categorical(np.asarray(pt_y_test))\n",
    "\n",
    "tl_y_train = np_utils.to_categorical(np.asarray(tl_y_train))\n",
    "tl_y_test = np_utils.to_categorical(np.asarray(tl_y_test))\n",
    "\n"
   ]
  },
  {
   "cell_type": "code",
   "execution_count": 18,
   "metadata": {},
   "outputs": [
    {
     "data": {
      "text/plain": [
       "array([[1., 0., 0., 0., 0.],\n",
       "       [0., 0., 0., 0., 1.],\n",
       "       [0., 1., 0., 0., 0.],\n",
       "       [0., 0., 1., 0., 0.],\n",
       "       [0., 1., 0., 0., 0.]], dtype=float32)"
      ]
     },
     "execution_count": 18,
     "metadata": {},
     "output_type": "execute_result"
    }
   ],
   "source": [
    "pt_y_train[:5]"
   ]
  },
  {
   "cell_type": "markdown",
   "metadata": {},
   "source": [
    "# Pretrend Model"
   ]
  },
  {
   "cell_type": "code",
   "execution_count": 19,
   "metadata": {},
   "outputs": [],
   "source": [
    "from keras.models import Sequential\n",
    "from keras.layers import Dense, Activation, Conv2D, Flatten,MaxPool2D,Dropout"
   ]
  },
  {
   "cell_type": "code",
   "execution_count": 23,
   "metadata": {},
   "outputs": [
    {
     "name": "stdout",
     "output_type": "stream",
     "text": [
      "Model: \"sequential_4\"\n",
      "_________________________________________________________________\n",
      "Layer (type)                 Output Shape              Param #   \n",
      "=================================================================\n",
      "conv2d_2 (Conv2D)            (None, 24, 24, 32)        832       \n",
      "_________________________________________________________________\n",
      "conv2d_3 (Conv2D)            (None, 20, 20, 16)        12816     \n",
      "_________________________________________________________________\n",
      "max_pooling2d_1 (MaxPooling2 (None, 10, 10, 16)        0         \n",
      "_________________________________________________________________\n",
      "conv2d_4 (Conv2D)            (None, 8, 8, 8)           1160      \n",
      "_________________________________________________________________\n",
      "flatten_1 (Flatten)          (None, 512)               0         \n",
      "_________________________________________________________________\n",
      "dropout_1 (Dropout)          (None, 512)               0         \n",
      "_________________________________________________________________\n",
      "dense_1 (Dense)              (None, 128)               65664     \n",
      "_________________________________________________________________\n",
      "activation_1 (Activation)    (None, 128)               0         \n",
      "_________________________________________________________________\n",
      "dense_2 (Dense)              (None, 5)                 645       \n",
      "_________________________________________________________________\n",
      "activation_2 (Activation)    (None, 5)                 0         \n",
      "=================================================================\n",
      "Total params: 81,117\n",
      "Trainable params: 81,117\n",
      "Non-trainable params: 0\n",
      "_________________________________________________________________\n"
     ]
    }
   ],
   "source": [
    "model = Sequential()\n",
    "\n",
    "model.add(Conv2D(32,(5,5),\n",
    "                input_shape = (28,28,1),\n",
    "                activation = 'relu'))\n",
    "\n",
    "model.add(Conv2D(16,(5,5),\n",
    "                activation='relu'))\n",
    "\n",
    "model.add(MaxPool2D(pool_size=(2,2)))\n",
    "\n",
    "model.add(Conv2D(8,(3,3),\n",
    "                activation='relu'))\n",
    "\n",
    "model.add(Flatten())\n",
    "\n",
    "model.add(Dropout(0.4))\n",
    "\n",
    "model.add(Dense(128))\n",
    "model.add(Activation('relu'))\n",
    "\n",
    "model.add(Dense(5))\n",
    "model.add(Activation('softmax'))\n",
    "\n",
    "model.summary()"
   ]
  },
  {
   "cell_type": "markdown",
   "metadata": {},
   "source": [
    "#TRaining"
   ]
  },
  {
   "cell_type": "code",
   "execution_count": 24,
   "metadata": {},
   "outputs": [],
   "source": [
    "model.compile(loss='categorical_crossentropy',\n",
    "             optimizer='adam',\n",
    "             metrics=['accuracy'])"
   ]
  },
  {
   "cell_type": "code",
   "execution_count": 25,
   "metadata": {},
   "outputs": [
    {
     "name": "stdout",
     "output_type": "stream",
     "text": [
      "Train on 10225 samples, validate on 5139 samples\n",
      "Epoch 1/2\n",
      " - 23s - loss: 0.1601 - accuracy: 0.9476 - val_loss: 0.0259 - val_accuracy: 0.9907\n",
      "Epoch 2/2\n",
      " - 23s - loss: 0.0552 - accuracy: 0.9826 - val_loss: 0.0146 - val_accuracy: 0.9955\n"
     ]
    },
    {
     "data": {
      "text/plain": [
       "<keras.callbacks.callbacks.History at 0x2c7688f43c8>"
      ]
     },
     "execution_count": 25,
     "metadata": {},
     "output_type": "execute_result"
    }
   ],
   "source": [
    "model.fit(pt_x_train, pt_y_train,\n",
    "         validation_data=(pt_x_test, pt_y_test),\n",
    "         batch_size=16,\n",
    "         epochs=2,\n",
    "         shuffle=True,\n",
    "         verbose=2)"
   ]
  },
  {
   "cell_type": "code",
   "execution_count": 26,
   "metadata": {},
   "outputs": [
    {
     "data": {
      "text/plain": [
       "[<keras.layers.convolutional.Conv2D at 0x2c7683b15f8>,\n",
       " <keras.layers.convolutional.Conv2D at 0x2c7683b1470>,\n",
       " <keras.layers.pooling.MaxPooling2D at 0x2c7683b16d8>,\n",
       " <keras.layers.convolutional.Conv2D at 0x2c7683b1400>,\n",
       " <keras.layers.core.Flatten at 0x2c75cc82080>,\n",
       " <keras.layers.core.Dropout at 0x2c74d4f47b8>,\n",
       " <keras.layers.core.Dense at 0x2c75ca85d68>,\n",
       " <keras.layers.core.Activation at 0x2c74d4f4208>,\n",
       " <keras.layers.core.Dense at 0x2c75c951208>,\n",
       " <keras.layers.core.Activation at 0x2c74ca84e48>]"
      ]
     },
     "execution_count": 26,
     "metadata": {},
     "output_type": "execute_result"
    }
   ],
   "source": [
    "model.layers"
   ]
  },
  {
   "cell_type": "code",
   "execution_count": 27,
   "metadata": {},
   "outputs": [
    {
     "name": "stdout",
     "output_type": "stream",
     "text": [
      "False\n",
      "False\n",
      "False\n",
      "False\n",
      "False\n",
      "False\n",
      "True\n",
      "True\n",
      "True\n",
      "True\n"
     ]
    }
   ],
   "source": [
    "for layer in model.layers[:6]:\n",
    "    layer.trainable=False\n",
    "for layer in model.layers:\n",
    "    print(layer.trainable)"
   ]
  },
  {
   "cell_type": "code",
   "execution_count": 29,
   "metadata": {},
   "outputs": [
    {
     "name": "stdout",
     "output_type": "stream",
     "text": [
      "Model: \"sequential_6\"\n",
      "_________________________________________________________________\n",
      "Layer (type)                 Output Shape              Param #   \n",
      "=================================================================\n",
      "conv2d_2 (Conv2D)            (None, 24, 24, 32)        832       \n",
      "_________________________________________________________________\n",
      "conv2d_3 (Conv2D)            (None, 20, 20, 16)        12816     \n",
      "_________________________________________________________________\n",
      "max_pooling2d_1 (MaxPooling2 (None, 10, 10, 16)        0         \n",
      "_________________________________________________________________\n",
      "conv2d_4 (Conv2D)            (None, 8, 8, 8)           1160      \n",
      "_________________________________________________________________\n",
      "flatten_1 (Flatten)          (None, 512)               0         \n",
      "_________________________________________________________________\n",
      "dropout_1 (Dropout)          (None, 512)               0         \n",
      "_________________________________________________________________\n",
      "dense_4 (Dense)              (None, 128)               65664     \n",
      "_________________________________________________________________\n",
      "activation_3 (Activation)    (None, 128)               0         \n",
      "_________________________________________________________________\n",
      "dense_5 (Dense)              (None, 10)                1290      \n",
      "_________________________________________________________________\n",
      "activation_4 (Activation)    (None, 10)                0         \n",
      "=================================================================\n",
      "Total params: 81,762\n",
      "Trainable params: 66,954\n",
      "Non-trainable params: 14,808\n",
      "_________________________________________________________________\n"
     ]
    }
   ],
   "source": [
    "tl_model = Sequential(model.layers[:6])\n",
    "\n",
    "tl_model.add(Dense(128))\n",
    "tl_model.add(Activation('relu'))\n",
    "\n",
    "tl_model.add(Dense(10))\n",
    "tl_model.add(Activation('softmax'))\n",
    "\n",
    "tl_model.summary()"
   ]
  },
  {
   "cell_type": "markdown",
   "metadata": {},
   "source": [
    "# Result"
   ]
  },
  {
   "cell_type": "code",
   "execution_count": 30,
   "metadata": {},
   "outputs": [],
   "source": [
    "tl_model.compile(loss = 'categorical_crossentropy',\n",
    "                optimizer='adam',\n",
    "                metrics=['accuracy'])"
   ]
  },
  {
   "cell_type": "code",
   "execution_count": 34,
   "metadata": {},
   "outputs": [
    {
     "name": "stdout",
     "output_type": "stream",
     "text": [
      "Train on 9775 samples, validate on 4861 samples\n",
      "Epoch 1/2\n",
      " - 8s - loss: 0.0761 - accuracy: 0.9750 - val_loss: 0.0368 - val_accuracy: 0.9870\n",
      "Epoch 2/2\n",
      " - 8s - loss: 0.0651 - accuracy: 0.9797 - val_loss: 0.0401 - val_accuracy: 0.9860\n",
      "0:00:16.203961\n"
     ]
    }
   ],
   "source": [
    "import datetime\n",
    "start = datetime.datetime.now()\n",
    "tl_model.fit(tl_x_train, tl_y_train,\n",
    "            validation_data=(tl_x_test, tl_y_test),\n",
    "            epochs = 2,\n",
    "            verbose=2,\n",
    "            batch_size=16)\n",
    "\n",
    "end = datetime.datetime.now()\n",
    "print(end - start)"
   ]
  },
  {
   "cell_type": "code",
   "execution_count": null,
   "metadata": {},
   "outputs": [],
   "source": []
  },
  {
   "cell_type": "code",
   "execution_count": null,
   "metadata": {},
   "outputs": [],
   "source": []
  },
  {
   "cell_type": "code",
   "execution_count": null,
   "metadata": {},
   "outputs": [],
   "source": []
  },
  {
   "cell_type": "code",
   "execution_count": null,
   "metadata": {},
   "outputs": [],
   "source": []
  },
  {
   "cell_type": "code",
   "execution_count": null,
   "metadata": {},
   "outputs": [],
   "source": []
  },
  {
   "cell_type": "code",
   "execution_count": null,
   "metadata": {},
   "outputs": [],
   "source": []
  },
  {
   "cell_type": "code",
   "execution_count": null,
   "metadata": {},
   "outputs": [],
   "source": []
  },
  {
   "cell_type": "code",
   "execution_count": null,
   "metadata": {},
   "outputs": [],
   "source": []
  }
 ],
 "metadata": {
  "kernelspec": {
   "display_name": "Python 3",
   "language": "python",
   "name": "python3"
  },
  "language_info": {
   "codemirror_mode": {
    "name": "ipython",
    "version": 3
   },
   "file_extension": ".py",
   "mimetype": "text/x-python",
   "name": "python",
   "nbconvert_exporter": "python",
   "pygments_lexer": "ipython3",
   "version": "3.6.6"
  }
 },
 "nbformat": 4,
 "nbformat_minor": 4
}
